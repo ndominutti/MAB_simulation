{
 "cells": [
  {
   "cell_type": "code",
   "execution_count": 1,
   "metadata": {},
   "outputs": [],
   "source": [
    "from scipy.stats import beta"
   ]
  },
  {
   "cell_type": "code",
   "execution_count": null,
   "metadata": {},
   "outputs": [],
   "source": [
    "class TompsonSampling:\n",
    "\n",
    "    def __init__(self, K:int, priors:dict={}):\n",
    "        self.K = K\n",
    "        if len(priors)!=K:\n",
    "            self.posteriors = {kth_mab:{'a':1,'b':1} for kth_mab in K}\n",
    "\n",
    "    def _update_posterior(self):\n",
    "        ...\n",
    "\n",
    "    def _sample_from_posterior(self, kth_mab_index:int):\n",
    "        beta_dist = beta(self.priors[kth_mab_index]['a'],self.posteriors[kth_mab_index]['b'])\n",
    "        return beta_dist.rvs(size=1)[0]\n",
    "    \n"
   ]
  },
  {
   "cell_type": "code",
   "execution_count": null,
   "metadata": {},
   "outputs": [],
   "source": [
    "k = 100\n"
   ]
  }
 ],
 "metadata": {
  "kernelspec": {
   "display_name": "adtop_env",
   "language": "python",
   "name": "python3"
  },
  "language_info": {
   "codemirror_mode": {
    "name": "ipython",
    "version": 3
   },
   "file_extension": ".py",
   "mimetype": "text/x-python",
   "name": "python",
   "nbconvert_exporter": "python",
   "pygments_lexer": "ipython3",
   "version": "3.9.1"
  },
  "orig_nbformat": 4
 },
 "nbformat": 4,
 "nbformat_minor": 2
}
