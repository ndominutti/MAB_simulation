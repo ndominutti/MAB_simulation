{
 "cells": [
  {
   "cell_type": "code",
   "execution_count": 2,
   "metadata": {},
   "outputs": [],
   "source": [
    "from simulation_lab import SimulationLab\n",
    "import chart_studio.plotly as py"
   ]
  },
  {
   "cell_type": "markdown",
   "metadata": {},
   "source": [
    "---"
   ]
  },
  {
   "cell_type": "markdown",
   "metadata": {},
   "source": [
    "# Caso 1\n",
    "3 máquinas con diferencias marcadas en sus probabilidades"
   ]
  },
  {
   "cell_type": "code",
   "execution_count": 4,
   "metadata": {},
   "outputs": [
    {
     "name": "stdout",
     "output_type": "stream",
     "text": [
      "Starting simulation...\n"
     ]
    },
    {
     "name": "stderr",
     "output_type": "stream",
     "text": [
      "  0%|          | 0/1 [00:00<?, ?it/s]"
     ]
    },
    {
     "name": "stderr",
     "output_type": "stream",
     "text": [
      "100%|██████████| 1/1 [00:00<00:00,  7.14it/s]\n"
     ]
    },
    {
     "name": "stdout",
     "output_type": "stream",
     "text": [
      "Saving repetition 0...\n",
      "Success!\n",
      "Starting machine selection evolution calculus...\n"
     ]
    },
    {
     "name": "stderr",
     "output_type": "stream",
     "text": [
      "100%|██████████| 4/4 [00:00<00:00, 19.80it/s]"
     ]
    },
    {
     "name": "stdout",
     "output_type": "stream",
     "text": [
      "Success!\n"
     ]
    },
    {
     "name": "stderr",
     "output_type": "stream",
     "text": [
      "\n"
     ]
    }
   ],
   "source": [
    "sl = SimulationLab(\n",
    "    actual_probs=[.3, .5, .9],\n",
    "    repetitions=1,\n",
    "    iterations=20,\n",
    "    epsilon=.15\n",
    ")\n",
    "sl.simulate()"
   ]
  },
  {
   "cell_type": "code",
   "execution_count": 6,
   "metadata": {},
   "outputs": [
    {
     "ename": "KeyboardInterrupt",
     "evalue": "",
     "output_type": "error",
     "traceback": [
      "\u001b[1;31m---------------------------------------------------------------------------\u001b[0m",
      "\u001b[1;31mKeyboardInterrupt\u001b[0m                         Traceback (most recent call last)",
      "Cell \u001b[1;32mIn[6], line 2\u001b[0m\n\u001b[0;32m      1\u001b[0m fig \u001b[39m=\u001b[39m sl\u001b[39m.\u001b[39mplot()\n\u001b[1;32m----> 2\u001b[0m py\u001b[39m.\u001b[39;49miplot(fig, filename\u001b[39m=\u001b[39;49m\u001b[39m'\u001b[39;49m\u001b[39mevolucion_seleccion\u001b[39;49m\u001b[39m'\u001b[39;49m)\n",
      "File \u001b[1;32mc:\\Users\\nicolas.dominutti_ro\\ml_personal\\thompson_sampling\\mab_env\\Lib\\site-packages\\chart_studio\\plotly\\plotly.py:135\u001b[0m, in \u001b[0;36miplot\u001b[1;34m(figure_or_data, **plot_options)\u001b[0m\n\u001b[0;32m    133\u001b[0m \u001b[39mif\u001b[39;00m \u001b[39m\"\u001b[39m\u001b[39mauto_open\u001b[39m\u001b[39m\"\u001b[39m \u001b[39mnot\u001b[39;00m \u001b[39min\u001b[39;00m plot_options:\n\u001b[0;32m    134\u001b[0m     plot_options[\u001b[39m\"\u001b[39m\u001b[39mauto_open\u001b[39m\u001b[39m\"\u001b[39m] \u001b[39m=\u001b[39m \u001b[39mFalse\u001b[39;00m\n\u001b[1;32m--> 135\u001b[0m url \u001b[39m=\u001b[39m plot(figure_or_data, \u001b[39m*\u001b[39;49m\u001b[39m*\u001b[39;49mplot_options)\n\u001b[0;32m    137\u001b[0m \u001b[39mif\u001b[39;00m \u001b[39misinstance\u001b[39m(figure_or_data, \u001b[39mdict\u001b[39m):\n\u001b[0;32m    138\u001b[0m     layout \u001b[39m=\u001b[39m figure_or_data\u001b[39m.\u001b[39mget(\u001b[39m\"\u001b[39m\u001b[39mlayout\u001b[39m\u001b[39m\"\u001b[39m, {})\n",
      "File \u001b[1;32mc:\\Users\\nicolas.dominutti_ro\\ml_personal\\thompson_sampling\\mab_env\\Lib\\site-packages\\chart_studio\\plotly\\plotly.py:276\u001b[0m, in \u001b[0;36mplot\u001b[1;34m(figure_or_data, validate, **plot_options)\u001b[0m\n\u001b[0;32m    273\u001b[0m \u001b[39melse\u001b[39;00m:\n\u001b[0;32m    274\u001b[0m     grid_filename \u001b[39m=\u001b[39m filename \u001b[39m+\u001b[39m \u001b[39m\"\u001b[39m\u001b[39m_grid\u001b[39m\u001b[39m\"\u001b[39m\n\u001b[1;32m--> 276\u001b[0m grid_ops\u001b[39m.\u001b[39;49mupload(\n\u001b[0;32m    277\u001b[0m     grid\u001b[39m=\u001b[39;49mgrid,\n\u001b[0;32m    278\u001b[0m     filename\u001b[39m=\u001b[39;49mgrid_filename,\n\u001b[0;32m    279\u001b[0m     world_readable\u001b[39m=\u001b[39;49mpayload[\u001b[39m\"\u001b[39;49m\u001b[39mworld_readable\u001b[39;49m\u001b[39m\"\u001b[39;49m],\n\u001b[0;32m    280\u001b[0m     auto_open\u001b[39m=\u001b[39;49m\u001b[39mFalse\u001b[39;49;00m,\n\u001b[0;32m    281\u001b[0m )\n\u001b[0;32m    283\u001b[0m _set_grid_column_references(figure, grid)\n\u001b[0;32m    284\u001b[0m payload[\u001b[39m\"\u001b[39m\u001b[39mfigure\u001b[39m\u001b[39m\"\u001b[39m] \u001b[39m=\u001b[39m figure\n",
      "File \u001b[1;32mc:\\Users\\nicolas.dominutti_ro\\ml_personal\\thompson_sampling\\mab_env\\Lib\\site-packages\\chart_studio\\plotly\\plotly.py:1087\u001b[0m, in \u001b[0;36mgrid_ops.upload\u001b[1;34m(cls, grid, filename, world_readable, auto_open, meta)\u001b[0m\n\u001b[0;32m   1084\u001b[0m     \u001b[39mif\u001b[39;00m parent_path:\n\u001b[0;32m   1085\u001b[0m         payload[\u001b[39m\"\u001b[39m\u001b[39mparent_path\u001b[39m\u001b[39m\"\u001b[39m] \u001b[39m=\u001b[39m parent_path\n\u001b[1;32m-> 1087\u001b[0m file_info \u001b[39m=\u001b[39m _create_or_overwrite_grid(payload)\n\u001b[0;32m   1089\u001b[0m cols \u001b[39m=\u001b[39m file_info[\u001b[39m\"\u001b[39m\u001b[39mcols\u001b[39m\u001b[39m\"\u001b[39m]\n\u001b[0;32m   1090\u001b[0m fid \u001b[39m=\u001b[39m file_info[\u001b[39m\"\u001b[39m\u001b[39mfid\u001b[39m\u001b[39m\"\u001b[39m]\n",
      "File \u001b[1;32mc:\\Users\\nicolas.dominutti_ro\\ml_personal\\thompson_sampling\\mab_env\\Lib\\site-packages\\chart_studio\\plotly\\plotly.py:1528\u001b[0m, in \u001b[0;36m_create_or_overwrite_grid\u001b[1;34m(data, max_retries)\u001b[0m\n\u001b[0;32m   1526\u001b[0m \u001b[39mif\u001b[39;00m filename:\n\u001b[0;32m   1527\u001b[0m     \u001b[39mtry\u001b[39;00m:\n\u001b[1;32m-> 1528\u001b[0m         lookup_res \u001b[39m=\u001b[39m v2\u001b[39m.\u001b[39;49mfiles\u001b[39m.\u001b[39;49mlookup(filename)\n\u001b[0;32m   1529\u001b[0m         \u001b[39mif\u001b[39;00m \u001b[39misinstance\u001b[39m(lookup_res\u001b[39m.\u001b[39mcontent, \u001b[39mbytes\u001b[39m):\n\u001b[0;32m   1530\u001b[0m             content \u001b[39m=\u001b[39m lookup_res\u001b[39m.\u001b[39mcontent\u001b[39m.\u001b[39mdecode(\u001b[39m\"\u001b[39m\u001b[39mutf-8\u001b[39m\u001b[39m\"\u001b[39m)\n",
      "File \u001b[1;32mc:\\Users\\nicolas.dominutti_ro\\ml_personal\\thompson_sampling\\mab_env\\Lib\\site-packages\\chart_studio\\api\\v2\\files.py:85\u001b[0m, in \u001b[0;36mlookup\u001b[1;34m(path, parent, user, exists)\u001b[0m\n\u001b[0;32m     83\u001b[0m url \u001b[39m=\u001b[39m build_url(RESOURCE, route\u001b[39m=\u001b[39m\u001b[39m\"\u001b[39m\u001b[39mlookup\u001b[39m\u001b[39m\"\u001b[39m)\n\u001b[0;32m     84\u001b[0m params \u001b[39m=\u001b[39m make_params(path\u001b[39m=\u001b[39mpath, parent\u001b[39m=\u001b[39mparent, user\u001b[39m=\u001b[39muser, exists\u001b[39m=\u001b[39mexists)\n\u001b[1;32m---> 85\u001b[0m \u001b[39mreturn\u001b[39;00m request(\u001b[39m\"\u001b[39;49m\u001b[39mget\u001b[39;49m\u001b[39m\"\u001b[39;49m, url, params\u001b[39m=\u001b[39;49mparams)\n",
      "File \u001b[1;32mc:\\Users\\nicolas.dominutti_ro\\ml_personal\\thompson_sampling\\mab_env\\Lib\\site-packages\\retrying.py:56\u001b[0m, in \u001b[0;36mretry.<locals>.wrap.<locals>.wrapped_f\u001b[1;34m(*args, **kw)\u001b[0m\n\u001b[0;32m     54\u001b[0m \u001b[39m@six\u001b[39m\u001b[39m.\u001b[39mwraps(f)\n\u001b[0;32m     55\u001b[0m \u001b[39mdef\u001b[39;00m \u001b[39mwrapped_f\u001b[39m(\u001b[39m*\u001b[39margs, \u001b[39m*\u001b[39m\u001b[39m*\u001b[39mkw):\n\u001b[1;32m---> 56\u001b[0m     \u001b[39mreturn\u001b[39;00m Retrying(\u001b[39m*\u001b[39;49mdargs, \u001b[39m*\u001b[39;49m\u001b[39m*\u001b[39;49mdkw)\u001b[39m.\u001b[39;49mcall(f, \u001b[39m*\u001b[39;49margs, \u001b[39m*\u001b[39;49m\u001b[39m*\u001b[39;49mkw)\n",
      "File \u001b[1;32mc:\\Users\\nicolas.dominutti_ro\\ml_personal\\thompson_sampling\\mab_env\\Lib\\site-packages\\retrying.py:274\u001b[0m, in \u001b[0;36mRetrying.call\u001b[1;34m(self, fn, *args, **kwargs)\u001b[0m\n\u001b[0;32m    272\u001b[0m         jitter \u001b[39m=\u001b[39m random\u001b[39m.\u001b[39mrandom() \u001b[39m*\u001b[39m \u001b[39mself\u001b[39m\u001b[39m.\u001b[39m_wait_jitter_max\n\u001b[0;32m    273\u001b[0m         sleep \u001b[39m=\u001b[39m sleep \u001b[39m+\u001b[39m \u001b[39mmax\u001b[39m(\u001b[39m0\u001b[39m, jitter)\n\u001b[1;32m--> 274\u001b[0m     time\u001b[39m.\u001b[39;49msleep(sleep \u001b[39m/\u001b[39;49m \u001b[39m1000.0\u001b[39;49m)\n\u001b[0;32m    276\u001b[0m attempt_number \u001b[39m+\u001b[39m\u001b[39m=\u001b[39m \u001b[39m1\u001b[39m\n",
      "\u001b[1;31mKeyboardInterrupt\u001b[0m: "
     ]
    }
   ],
   "source": [
    "fig = sl.plot()\n",
    "py.iplot(fig, filename='evolucion_seleccion', sharing='public')"
   ]
  },
  {
   "cell_type": "markdown",
   "metadata": {},
   "source": [
    "---"
   ]
  },
  {
   "cell_type": "markdown",
   "metadata": {},
   "source": [
    "# Caso 2\n",
    "3 máquinas con diferencias pequeñas en sus probabilidades"
   ]
  },
  {
   "cell_type": "code",
   "execution_count": null,
   "metadata": {},
   "outputs": [],
   "source": [
    "sl = SimulationLab(\n",
    "    actual_probs=[.5, .52, .54],\n",
    "    repetitions=15,\n",
    "    iterations=1500,\n",
    "    epsilon=.15\n",
    ")\n",
    "sl.simulate()"
   ]
  },
  {
   "cell_type": "code",
   "execution_count": null,
   "metadata": {},
   "outputs": [],
   "source": [
    "sl.plot()"
   ]
  },
  {
   "cell_type": "markdown",
   "metadata": {},
   "source": [
    "---"
   ]
  },
  {
   "cell_type": "markdown",
   "metadata": {},
   "source": [
    "# Caso 3\n",
    "5 máquinas, un grupo de 3 máquinas con probabilidades bajas similares y un grupo de 2 máquinas con probabilidades más altas pero similares entre si"
   ]
  },
  {
   "cell_type": "code",
   "execution_count": null,
   "metadata": {},
   "outputs": [],
   "source": [
    "sl = SimulationLab(\n",
    "    actual_probs=[.26, .25, .29, .37, .38],\n",
    "    repetitions=15,\n",
    "    iterations=1500,\n",
    "    epsilon=.15\n",
    ")\n",
    "sl.simulate()"
   ]
  },
  {
   "cell_type": "code",
   "execution_count": null,
   "metadata": {},
   "outputs": [],
   "source": [
    "sl.plot()"
   ]
  },
  {
   "cell_type": "markdown",
   "metadata": {},
   "source": [
    "---"
   ]
  },
  {
   "cell_type": "markdown",
   "metadata": {},
   "source": [
    "# Caso 4\n",
    "10 máquinas, todas con probabilidades similares"
   ]
  },
  {
   "cell_type": "code",
   "execution_count": null,
   "metadata": {},
   "outputs": [],
   "source": [
    "sl = SimulationLab(\n",
    "    actual_probs=[.22, .23, .22, .18, .25, .23, .27, .26, .30, .19],\n",
    "    repetitions=15,\n",
    "    iterations=1500,\n",
    "    epsilon=.15\n",
    ")\n",
    "sl.simulate()"
   ]
  },
  {
   "cell_type": "code",
   "execution_count": null,
   "metadata": {},
   "outputs": [],
   "source": [
    "sl.plot()"
   ]
  }
 ],
 "metadata": {
  "kernelspec": {
   "display_name": "mab_env",
   "language": "python",
   "name": "python3"
  },
  "language_info": {
   "codemirror_mode": {
    "name": "ipython",
    "version": 3
   },
   "file_extension": ".py",
   "mimetype": "text/x-python",
   "name": "python",
   "nbconvert_exporter": "python",
   "pygments_lexer": "ipython3",
   "version": "3.11.4"
  },
  "orig_nbformat": 4
 },
 "nbformat": 4,
 "nbformat_minor": 2
}
