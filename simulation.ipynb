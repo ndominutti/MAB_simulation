{
 "cells": [
  {
   "cell_type": "code",
   "execution_count": 1,
   "metadata": {},
   "outputs": [],
   "source": [
    "from simulation_lab import SimulationLab"
   ]
  },
  {
   "cell_type": "markdown",
   "metadata": {},
   "source": [
    "---"
   ]
  },
  {
   "cell_type": "markdown",
   "metadata": {},
   "source": [
    "# Caso 1\n",
    "3 máquinas con diferencias marcadas en sus probabilidades"
   ]
  },
  {
   "cell_type": "code",
   "execution_count": 2,
   "metadata": {},
   "outputs": [
    {
     "name": "stdout",
     "output_type": "stream",
     "text": [
      "Starting simulation...\n"
     ]
    },
    {
     "name": "stderr",
     "output_type": "stream",
     "text": [
      " 50%|█████     | 1/2 [00:05<00:05,  5.91s/it]"
     ]
    },
    {
     "name": "stdout",
     "output_type": "stream",
     "text": [
      "Saving repetition 0...\n"
     ]
    },
    {
     "name": "stderr",
     "output_type": "stream",
     "text": [
      "100%|██████████| 2/2 [00:12<00:00,  6.26s/it]\n"
     ]
    },
    {
     "name": "stdout",
     "output_type": "stream",
     "text": [
      "Saving repetition 1...\n",
      "Success!\n",
      "Starting machine selection evolution calculus...\n"
     ]
    },
    {
     "name": "stderr",
     "output_type": "stream",
     "text": [
      "100%|██████████| 4/4 [00:08<00:00,  2.00s/it]"
     ]
    },
    {
     "name": "stdout",
     "output_type": "stream",
     "text": [
      "Success!\n"
     ]
    },
    {
     "name": "stderr",
     "output_type": "stream",
     "text": [
      "\n"
     ]
    }
   ],
   "source": [
    "sl = SimulationLab(\n",
    "    actual_probs=[.3, .5, .9],\n",
    "    repetitions=2,\n",
    "    iterations=1000,\n",
    "    epsilon=.15\n",
    ")\n",
    "sl.simulate()"
   ]
  },
  {
   "cell_type": "code",
   "execution_count": 3,
   "metadata": {},
   "outputs": [
    {
     "data": {
      "application/vnd.plotly.v1+json": {
       "config": {
        "plotlyServerURL": "https://plot.ly"
       },
       "data": [
        {
         "alignmentgroup": "True",
         "hovertemplate": "model=TS<br>iteration=0<br>máquinas=%{x}<br>promedio de seleccion acumulada=%{y}<extra></extra>",
         "legendgroup": "TS",
         "marker": {
          "color": "#636efa",
          "pattern": {
           "shape": ""
          }
         },
         "name": "TS",
         "offsetgroup": "TS",
         "orientation": "v",
         "showlegend": true,
         "textposition": "auto",
         "type": "bar",
         "x": [
          "0_TS",
          "1_TS",
          "2_TS",
          "0_TS",
          "1_TS",
          "2_TS"
         ],
         "xaxis": "x",
         "y": [
          0,
          0,
          0,
          1,
          0,
          0
         ],
         "yaxis": "y"
        },
        {
         "alignmentgroup": "True",
         "hovertemplate": "model=egT<br>iteration=0<br>máquinas=%{x}<br>promedio de seleccion acumulada=%{y}<extra></extra>",
         "legendgroup": "egT",
         "marker": {
          "color": "#EF553B",
          "pattern": {
           "shape": ""
          }
         },
         "name": "egT",
         "offsetgroup": "egT",
         "orientation": "v",
         "showlegend": true,
         "textposition": "auto",
         "type": "bar",
         "x": [
          "0_egT",
          "1_egT",
          "2_egT",
          "0_egT",
          "1_egT",
          "2_egT"
         ],
         "xaxis": "x",
         "y": [
          0,
          0,
          0,
          0.5,
          0.5,
          0
         ],
         "yaxis": "y"
        },
        {
         "alignmentgroup": "True",
         "hovertemplate": "model=egF<br>iteration=0<br>máquinas=%{x}<br>promedio de seleccion acumulada=%{y}<extra></extra>",
         "legendgroup": "egF",
         "marker": {
          "color": "#00cc96",
          "pattern": {
           "shape": ""
          }
         },
         "name": "egF",
         "offsetgroup": "egF",
         "orientation": "v",
         "showlegend": true,
         "textposition": "auto",
         "type": "bar",
         "x": [
          "0_egF",
          "1_egF",
          "2_egF",
          "0_egF",
          "1_egF",
          "2_egF"
         ],
         "xaxis": "x",
         "y": [
          0,
          0,
          0,
          0.5,
          0.5,
          0
         ],
         "yaxis": "y"
        },
        {
         "alignmentgroup": "True",
         "hovertemplate": "model=UCB<br>iteration=0<br>máquinas=%{x}<br>promedio de seleccion acumulada=%{y}<extra></extra>",
         "legendgroup": "UCB",
         "marker": {
          "color": "#ab63fa",
          "pattern": {
           "shape": ""
          }
         },
         "name": "UCB",
         "offsetgroup": "UCB",
         "orientation": "v",
         "showlegend": true,
         "textposition": "auto",
         "type": "bar",
         "x": [
          "0_UCB",
          "1_UCB",
          "2_UCB",
          "0_UCB",
          "1_UCB",
          "2_UCB"
         ],
         "xaxis": "x",
         "y": [
          0,
          0,
          0,
          1,
          0,
          0
         ],
         "yaxis": "y"
        }
       ],
       "frames": [
        {
         "data": [
          {
           "alignmentgroup": "True",
           "hovertemplate": "model=TS<br>iteration=0<br>máquinas=%{x}<br>promedio de seleccion acumulada=%{y}<extra></extra>",
           "legendgroup": "TS",
           "marker": {
            "color": "#636efa",
            "pattern": {
             "shape": ""
            }
           },
           "name": "TS",
           "offsetgroup": "TS",
           "orientation": "v",
           "showlegend": true,
           "textposition": "auto",
           "type": "bar",
           "x": [
            "0_TS",
            "1_TS",
            "2_TS",
            "0_TS",
            "1_TS",
            "2_TS"
           ],
           "xaxis": "x",
           "y": [
            0,
            0,
            0,
            1,
            0,
            0
           ],
           "yaxis": "y"
          },
          {
           "alignmentgroup": "True",
           "hovertemplate": "model=egT<br>iteration=0<br>máquinas=%{x}<br>promedio de seleccion acumulada=%{y}<extra></extra>",
           "legendgroup": "egT",
           "marker": {
            "color": "#EF553B",
            "pattern": {
             "shape": ""
            }
           },
           "name": "egT",
           "offsetgroup": "egT",
           "orientation": "v",
           "showlegend": true,
           "textposition": "auto",
           "type": "bar",
           "x": [
            "0_egT",
            "1_egT",
            "2_egT",
            "0_egT",
            "1_egT",
            "2_egT"
           ],
           "xaxis": "x",
           "y": [
            0,
            0,
            0,
            0.5,
            0.5,
            0
           ],
           "yaxis": "y"
          },
          {
           "alignmentgroup": "True",
           "hovertemplate": "model=egF<br>iteration=0<br>máquinas=%{x}<br>promedio de seleccion acumulada=%{y}<extra></extra>",
           "legendgroup": "egF",
           "marker": {
            "color": "#00cc96",
            "pattern": {
             "shape": ""
            }
           },
           "name": "egF",
           "offsetgroup": "egF",
           "orientation": "v",
           "showlegend": true,
           "textposition": "auto",
           "type": "bar",
           "x": [
            "0_egF",
            "1_egF",
            "2_egF",
            "0_egF",
            "1_egF",
            "2_egF"
           ],
           "xaxis": "x",
           "y": [
            0,
            0,
            0,
            0.5,
            0.5,
            0
           ],
           "yaxis": "y"
          },
          {
           "alignmentgroup": "True",
           "hovertemplate": "model=UCB<br>iteration=0<br>máquinas=%{x}<br>promedio de seleccion acumulada=%{y}<extra></extra>",
           "legendgroup": "UCB",
           "marker": {
            "color": "#ab63fa",
            "pattern": {
             "shape": ""
            }
           },
           "name": "UCB",
           "offsetgroup": "UCB",
           "orientation": "v",
           "showlegend": true,
           "textposition": "auto",
           "type": "bar",
           "x": [
            "0_UCB",
            "1_UCB",
            "2_UCB",
            "0_UCB",
            "1_UCB",
            "2_UCB"
           ],
           "xaxis": "x",
           "y": [
            0,
            0,
            0,
            1,
            0,
            0
           ],
           "yaxis": "y"
          }
         ],
         "name": "0"
        },
        {
         "data": [
          {
           "alignmentgroup": "True",
           "hovertemplate": "model=TS<br>iteration=10<br>máquinas=%{x}<br>promedio de seleccion acumulada=%{y}<extra></extra>",
           "legendgroup": "TS",
           "marker": {
            "color": "#636efa",
            "pattern": {
             "shape": ""
            }
           },
           "name": "TS",
           "offsetgroup": "TS",
           "orientation": "v",
           "showlegend": true,
           "textposition": "auto",
           "type": "bar",
           "x": [
            "0_TS",
            "1_TS",
            "2_TS"
           ],
           "xaxis": "x",
           "y": [
            1,
            2,
            8
           ],
           "yaxis": "y"
          },
          {
           "alignmentgroup": "True",
           "hovertemplate": "model=egT<br>iteration=10<br>máquinas=%{x}<br>promedio de seleccion acumulada=%{y}<extra></extra>",
           "legendgroup": "egT",
           "marker": {
            "color": "#EF553B",
            "pattern": {
             "shape": ""
            }
           },
           "name": "egT",
           "offsetgroup": "egT",
           "orientation": "v",
           "showlegend": true,
           "textposition": "auto",
           "type": "bar",
           "x": [
            "0_egT",
            "1_egT",
            "2_egT"
           ],
           "xaxis": "x",
           "y": [
            0.5,
            10.5,
            0
           ],
           "yaxis": "y"
          },
          {
           "alignmentgroup": "True",
           "hovertemplate": "model=egF<br>iteration=10<br>máquinas=%{x}<br>promedio de seleccion acumulada=%{y}<extra></extra>",
           "legendgroup": "egF",
           "marker": {
            "color": "#00cc96",
            "pattern": {
             "shape": ""
            }
           },
           "name": "egF",
           "offsetgroup": "egF",
           "orientation": "v",
           "showlegend": true,
           "textposition": "auto",
           "type": "bar",
           "x": [
            "0_egF",
            "1_egF",
            "2_egF"
           ],
           "xaxis": "x",
           "y": [
            0.5,
            5,
            5.5
           ],
           "yaxis": "y"
          },
          {
           "alignmentgroup": "True",
           "hovertemplate": "model=UCB<br>iteration=10<br>máquinas=%{x}<br>promedio de seleccion acumulada=%{y}<extra></extra>",
           "legendgroup": "UCB",
           "marker": {
            "color": "#ab63fa",
            "pattern": {
             "shape": ""
            }
           },
           "name": "UCB",
           "offsetgroup": "UCB",
           "orientation": "v",
           "showlegend": true,
           "textposition": "auto",
           "type": "bar",
           "x": [
            "0_UCB",
            "1_UCB",
            "2_UCB"
           ],
           "xaxis": "x",
           "y": [
            2,
            3,
            6
           ],
           "yaxis": "y"
          }
         ],
         "name": "10"
        },
        {
         "data": [
          {
           "alignmentgroup": "True",
           "hovertemplate": "model=TS<br>iteration=20<br>máquinas=%{x}<br>promedio de seleccion acumulada=%{y}<extra></extra>",
           "legendgroup": "TS",
           "marker": {
            "color": "#636efa",
            "pattern": {
             "shape": ""
            }
           },
           "name": "TS",
           "offsetgroup": "TS",
           "orientation": "v",
           "showlegend": true,
           "textposition": "auto",
           "type": "bar",
           "x": [
            "0_TS",
            "1_TS",
            "2_TS"
           ],
           "xaxis": "x",
           "y": [
            1.5,
            3,
            16.5
           ],
           "yaxis": "y"
          },
          {
           "alignmentgroup": "True",
           "hovertemplate": "model=egT<br>iteration=20<br>máquinas=%{x}<br>promedio de seleccion acumulada=%{y}<extra></extra>",
           "legendgroup": "egT",
           "marker": {
            "color": "#EF553B",
            "pattern": {
             "shape": ""
            }
           },
           "name": "egT",
           "offsetgroup": "egT",
           "orientation": "v",
           "showlegend": true,
           "textposition": "auto",
           "type": "bar",
           "x": [
            "0_egT",
            "1_egT",
            "2_egT"
           ],
           "xaxis": "x",
           "y": [
            0.5,
            20.5,
            0
           ],
           "yaxis": "y"
          },
          {
           "alignmentgroup": "True",
           "hovertemplate": "model=egF<br>iteration=20<br>máquinas=%{x}<br>promedio de seleccion acumulada=%{y}<extra></extra>",
           "legendgroup": "egF",
           "marker": {
            "color": "#00cc96",
            "pattern": {
             "shape": ""
            }
           },
           "name": "egF",
           "offsetgroup": "egF",
           "orientation": "v",
           "showlegend": true,
           "textposition": "auto",
           "type": "bar",
           "x": [
            "0_egF",
            "1_egF",
            "2_egF"
           ],
           "xaxis": "x",
           "y": [
            0.5,
            10.5,
            10
           ],
           "yaxis": "y"
          },
          {
           "alignmentgroup": "True",
           "hovertemplate": "model=UCB<br>iteration=20<br>máquinas=%{x}<br>promedio de seleccion acumulada=%{y}<extra></extra>",
           "legendgroup": "UCB",
           "marker": {
            "color": "#ab63fa",
            "pattern": {
             "shape": ""
            }
           },
           "name": "UCB",
           "offsetgroup": "UCB",
           "orientation": "v",
           "showlegend": true,
           "textposition": "auto",
           "type": "bar",
           "x": [
            "0_UCB",
            "1_UCB",
            "2_UCB"
           ],
           "xaxis": "x",
           "y": [
            3.5,
            5.5,
            12
           ],
           "yaxis": "y"
          }
         ],
         "name": "20"
        },
        {
         "data": [
          {
           "alignmentgroup": "True",
           "hovertemplate": "model=TS<br>iteration=30<br>máquinas=%{x}<br>promedio de seleccion acumulada=%{y}<extra></extra>",
           "legendgroup": "TS",
           "marker": {
            "color": "#636efa",
            "pattern": {
             "shape": ""
            }
           },
           "name": "TS",
           "offsetgroup": "TS",
           "orientation": "v",
           "showlegend": true,
           "textposition": "auto",
           "type": "bar",
           "x": [
            "0_TS",
            "1_TS",
            "2_TS"
           ],
           "xaxis": "x",
           "y": [
            2.5,
            3.5,
            25
           ],
           "yaxis": "y"
          },
          {
           "alignmentgroup": "True",
           "hovertemplate": "model=egT<br>iteration=30<br>máquinas=%{x}<br>promedio de seleccion acumulada=%{y}<extra></extra>",
           "legendgroup": "egT",
           "marker": {
            "color": "#EF553B",
            "pattern": {
             "shape": ""
            }
           },
           "name": "egT",
           "offsetgroup": "egT",
           "orientation": "v",
           "showlegend": true,
           "textposition": "auto",
           "type": "bar",
           "x": [
            "0_egT",
            "1_egT",
            "2_egT"
           ],
           "xaxis": "x",
           "y": [
            0.5,
            30.5,
            0
           ],
           "yaxis": "y"
          },
          {
           "alignmentgroup": "True",
           "hovertemplate": "model=egF<br>iteration=30<br>máquinas=%{x}<br>promedio de seleccion acumulada=%{y}<extra></extra>",
           "legendgroup": "egF",
           "marker": {
            "color": "#00cc96",
            "pattern": {
             "shape": ""
            }
           },
           "name": "egF",
           "offsetgroup": "egF",
           "orientation": "v",
           "showlegend": true,
           "textposition": "auto",
           "type": "bar",
           "x": [
            "0_egF",
            "1_egF",
            "2_egF"
           ],
           "xaxis": "x",
           "y": [
            0.5,
            15.5,
            15
           ],
           "yaxis": "y"
          },
          {
           "alignmentgroup": "True",
           "hovertemplate": "model=UCB<br>iteration=30<br>máquinas=%{x}<br>promedio de seleccion acumulada=%{y}<extra></extra>",
           "legendgroup": "UCB",
           "marker": {
            "color": "#ab63fa",
            "pattern": {
             "shape": ""
            }
           },
           "name": "UCB",
           "offsetgroup": "UCB",
           "orientation": "v",
           "showlegend": true,
           "textposition": "auto",
           "type": "bar",
           "x": [
            "0_UCB",
            "1_UCB",
            "2_UCB"
           ],
           "xaxis": "x",
           "y": [
            4.5,
            7,
            19.5
           ],
           "yaxis": "y"
          }
         ],
         "name": "30"
        },
        {
         "data": [
          {
           "alignmentgroup": "True",
           "hovertemplate": "model=TS<br>iteration=40<br>máquinas=%{x}<br>promedio de seleccion acumulada=%{y}<extra></extra>",
           "legendgroup": "TS",
           "marker": {
            "color": "#636efa",
            "pattern": {
             "shape": ""
            }
           },
           "name": "TS",
           "offsetgroup": "TS",
           "orientation": "v",
           "showlegend": true,
           "textposition": "auto",
           "type": "bar",
           "x": [
            "0_TS",
            "1_TS",
            "2_TS"
           ],
           "xaxis": "x",
           "y": [
            2.5,
            4,
            34.5
           ],
           "yaxis": "y"
          },
          {
           "alignmentgroup": "True",
           "hovertemplate": "model=egT<br>iteration=40<br>máquinas=%{x}<br>promedio de seleccion acumulada=%{y}<extra></extra>",
           "legendgroup": "egT",
           "marker": {
            "color": "#EF553B",
            "pattern": {
             "shape": ""
            }
           },
           "name": "egT",
           "offsetgroup": "egT",
           "orientation": "v",
           "showlegend": true,
           "textposition": "auto",
           "type": "bar",
           "x": [
            "0_egT",
            "1_egT",
            "2_egT"
           ],
           "xaxis": "x",
           "y": [
            0.5,
            40.5,
            0
           ],
           "yaxis": "y"
          },
          {
           "alignmentgroup": "True",
           "hovertemplate": "model=egF<br>iteration=40<br>máquinas=%{x}<br>promedio de seleccion acumulada=%{y}<extra></extra>",
           "legendgroup": "egF",
           "marker": {
            "color": "#00cc96",
            "pattern": {
             "shape": ""
            }
           },
           "name": "egF",
           "offsetgroup": "egF",
           "orientation": "v",
           "showlegend": true,
           "textposition": "auto",
           "type": "bar",
           "x": [
            "0_egF",
            "1_egF",
            "2_egF"
           ],
           "xaxis": "x",
           "y": [
            1,
            20.5,
            19.5
           ],
           "yaxis": "y"
          },
          {
           "alignmentgroup": "True",
           "hovertemplate": "model=UCB<br>iteration=40<br>máquinas=%{x}<br>promedio de seleccion acumulada=%{y}<extra></extra>",
           "legendgroup": "UCB",
           "marker": {
            "color": "#ab63fa",
            "pattern": {
             "shape": ""
            }
           },
           "name": "UCB",
           "offsetgroup": "UCB",
           "orientation": "v",
           "showlegend": true,
           "textposition": "auto",
           "type": "bar",
           "x": [
            "0_UCB",
            "1_UCB",
            "2_UCB"
           ],
           "xaxis": "x",
           "y": [
            5,
            8,
            28
           ],
           "yaxis": "y"
          }
         ],
         "name": "40"
        },
        {
         "data": [
          {
           "alignmentgroup": "True",
           "hovertemplate": "model=TS<br>iteration=50<br>máquinas=%{x}<br>promedio de seleccion acumulada=%{y}<extra></extra>",
           "legendgroup": "TS",
           "marker": {
            "color": "#636efa",
            "pattern": {
             "shape": ""
            }
           },
           "name": "TS",
           "offsetgroup": "TS",
           "orientation": "v",
           "showlegend": true,
           "textposition": "auto",
           "type": "bar",
           "x": [
            "0_TS",
            "1_TS",
            "2_TS"
           ],
           "xaxis": "x",
           "y": [
            2.5,
            4,
            44.5
           ],
           "yaxis": "y"
          },
          {
           "alignmentgroup": "True",
           "hovertemplate": "model=egT<br>iteration=50<br>máquinas=%{x}<br>promedio de seleccion acumulada=%{y}<extra></extra>",
           "legendgroup": "egT",
           "marker": {
            "color": "#EF553B",
            "pattern": {
             "shape": ""
            }
           },
           "name": "egT",
           "offsetgroup": "egT",
           "orientation": "v",
           "showlegend": true,
           "textposition": "auto",
           "type": "bar",
           "x": [
            "0_egT",
            "1_egT",
            "2_egT"
           ],
           "xaxis": "x",
           "y": [
            0.5,
            50.5,
            0
           ],
           "yaxis": "y"
          },
          {
           "alignmentgroup": "True",
           "hovertemplate": "model=egF<br>iteration=50<br>máquinas=%{x}<br>promedio de seleccion acumulada=%{y}<extra></extra>",
           "legendgroup": "egF",
           "marker": {
            "color": "#00cc96",
            "pattern": {
             "shape": ""
            }
           },
           "name": "egF",
           "offsetgroup": "egF",
           "orientation": "v",
           "showlegend": true,
           "textposition": "auto",
           "type": "bar",
           "x": [
            "0_egF",
            "1_egF",
            "2_egF"
           ],
           "xaxis": "x",
           "y": [
            1.5,
            25.5,
            24
           ],
           "yaxis": "y"
          },
          {
           "alignmentgroup": "True",
           "hovertemplate": "model=UCB<br>iteration=50<br>máquinas=%{x}<br>promedio de seleccion acumulada=%{y}<extra></extra>",
           "legendgroup": "UCB",
           "marker": {
            "color": "#ab63fa",
            "pattern": {
             "shape": ""
            }
           },
           "name": "UCB",
           "offsetgroup": "UCB",
           "orientation": "v",
           "showlegend": true,
           "textposition": "auto",
           "type": "bar",
           "x": [
            "0_UCB",
            "1_UCB",
            "2_UCB"
           ],
           "xaxis": "x",
           "y": [
            5.5,
            8.5,
            37
           ],
           "yaxis": "y"
          }
         ],
         "name": "50"
        },
        {
         "data": [
          {
           "alignmentgroup": "True",
           "hovertemplate": "model=TS<br>iteration=60<br>máquinas=%{x}<br>promedio de seleccion acumulada=%{y}<extra></extra>",
           "legendgroup": "TS",
           "marker": {
            "color": "#636efa",
            "pattern": {
             "shape": ""
            }
           },
           "name": "TS",
           "offsetgroup": "TS",
           "orientation": "v",
           "showlegend": true,
           "textposition": "auto",
           "type": "bar",
           "x": [
            "0_TS",
            "1_TS",
            "2_TS"
           ],
           "xaxis": "x",
           "y": [
            3,
            4.5,
            53.5
           ],
           "yaxis": "y"
          },
          {
           "alignmentgroup": "True",
           "hovertemplate": "model=egT<br>iteration=60<br>máquinas=%{x}<br>promedio de seleccion acumulada=%{y}<extra></extra>",
           "legendgroup": "egT",
           "marker": {
            "color": "#EF553B",
            "pattern": {
             "shape": ""
            }
           },
           "name": "egT",
           "offsetgroup": "egT",
           "orientation": "v",
           "showlegend": true,
           "textposition": "auto",
           "type": "bar",
           "x": [
            "0_egT",
            "1_egT",
            "2_egT"
           ],
           "xaxis": "x",
           "y": [
            0.5,
            60.5,
            0
           ],
           "yaxis": "y"
          },
          {
           "alignmentgroup": "True",
           "hovertemplate": "model=egF<br>iteration=60<br>máquinas=%{x}<br>promedio de seleccion acumulada=%{y}<extra></extra>",
           "legendgroup": "egF",
           "marker": {
            "color": "#00cc96",
            "pattern": {
             "shape": ""
            }
           },
           "name": "egF",
           "offsetgroup": "egF",
           "orientation": "v",
           "showlegend": true,
           "textposition": "auto",
           "type": "bar",
           "x": [
            "0_egF",
            "1_egF",
            "2_egF"
           ],
           "xaxis": "x",
           "y": [
            2,
            30.5,
            28.5
           ],
           "yaxis": "y"
          },
          {
           "alignmentgroup": "True",
           "hovertemplate": "model=UCB<br>iteration=60<br>máquinas=%{x}<br>promedio de seleccion acumulada=%{y}<extra></extra>",
           "legendgroup": "UCB",
           "marker": {
            "color": "#ab63fa",
            "pattern": {
             "shape": ""
            }
           },
           "name": "UCB",
           "offsetgroup": "UCB",
           "orientation": "v",
           "showlegend": true,
           "textposition": "auto",
           "type": "bar",
           "x": [
            "0_UCB",
            "1_UCB",
            "2_UCB"
           ],
           "xaxis": "x",
           "y": [
            6,
            9.5,
            45.5
           ],
           "yaxis": "y"
          }
         ],
         "name": "60"
        },
        {
         "data": [
          {
           "alignmentgroup": "True",
           "hovertemplate": "model=TS<br>iteration=70<br>máquinas=%{x}<br>promedio de seleccion acumulada=%{y}<extra></extra>",
           "legendgroup": "TS",
           "marker": {
            "color": "#636efa",
            "pattern": {
             "shape": ""
            }
           },
           "name": "TS",
           "offsetgroup": "TS",
           "orientation": "v",
           "showlegend": true,
           "textposition": "auto",
           "type": "bar",
           "x": [
            "0_TS",
            "1_TS",
            "2_TS"
           ],
           "xaxis": "x",
           "y": [
            3,
            4.5,
            63.5
           ],
           "yaxis": "y"
          },
          {
           "alignmentgroup": "True",
           "hovertemplate": "model=egT<br>iteration=70<br>máquinas=%{x}<br>promedio de seleccion acumulada=%{y}<extra></extra>",
           "legendgroup": "egT",
           "marker": {
            "color": "#EF553B",
            "pattern": {
             "shape": ""
            }
           },
           "name": "egT",
           "offsetgroup": "egT",
           "orientation": "v",
           "showlegend": true,
           "textposition": "auto",
           "type": "bar",
           "x": [
            "0_egT",
            "1_egT",
            "2_egT"
           ],
           "xaxis": "x",
           "y": [
            0.5,
            70.5,
            0
           ],
           "yaxis": "y"
          },
          {
           "alignmentgroup": "True",
           "hovertemplate": "model=egF<br>iteration=70<br>máquinas=%{x}<br>promedio de seleccion acumulada=%{y}<extra></extra>",
           "legendgroup": "egF",
           "marker": {
            "color": "#00cc96",
            "pattern": {
             "shape": ""
            }
           },
           "name": "egF",
           "offsetgroup": "egF",
           "orientation": "v",
           "showlegend": true,
           "textposition": "auto",
           "type": "bar",
           "x": [
            "0_egF",
            "1_egF",
            "2_egF"
           ],
           "xaxis": "x",
           "y": [
            2,
            35,
            34
           ],
           "yaxis": "y"
          },
          {
           "alignmentgroup": "True",
           "hovertemplate": "model=UCB<br>iteration=70<br>máquinas=%{x}<br>promedio de seleccion acumulada=%{y}<extra></extra>",
           "legendgroup": "UCB",
           "marker": {
            "color": "#ab63fa",
            "pattern": {
             "shape": ""
            }
           },
           "name": "UCB",
           "offsetgroup": "UCB",
           "orientation": "v",
           "showlegend": true,
           "textposition": "auto",
           "type": "bar",
           "x": [
            "0_UCB",
            "1_UCB",
            "2_UCB"
           ],
           "xaxis": "x",
           "y": [
            6.5,
            10.5,
            54
           ],
           "yaxis": "y"
          }
         ],
         "name": "70"
        },
        {
         "data": [
          {
           "alignmentgroup": "True",
           "hovertemplate": "model=TS<br>iteration=80<br>máquinas=%{x}<br>promedio de seleccion acumulada=%{y}<extra></extra>",
           "legendgroup": "TS",
           "marker": {
            "color": "#636efa",
            "pattern": {
             "shape": ""
            }
           },
           "name": "TS",
           "offsetgroup": "TS",
           "orientation": "v",
           "showlegend": true,
           "textposition": "auto",
           "type": "bar",
           "x": [
            "0_TS",
            "1_TS",
            "2_TS"
           ],
           "xaxis": "x",
           "y": [
            3,
            5,
            73
           ],
           "yaxis": "y"
          },
          {
           "alignmentgroup": "True",
           "hovertemplate": "model=egT<br>iteration=80<br>máquinas=%{x}<br>promedio de seleccion acumulada=%{y}<extra></extra>",
           "legendgroup": "egT",
           "marker": {
            "color": "#EF553B",
            "pattern": {
             "shape": ""
            }
           },
           "name": "egT",
           "offsetgroup": "egT",
           "orientation": "v",
           "showlegend": true,
           "textposition": "auto",
           "type": "bar",
           "x": [
            "0_egT",
            "1_egT",
            "2_egT"
           ],
           "xaxis": "x",
           "y": [
            0.5,
            80.5,
            0
           ],
           "yaxis": "y"
          },
          {
           "alignmentgroup": "True",
           "hovertemplate": "model=egF<br>iteration=80<br>máquinas=%{x}<br>promedio de seleccion acumulada=%{y}<extra></extra>",
           "legendgroup": "egF",
           "marker": {
            "color": "#00cc96",
            "pattern": {
             "shape": ""
            }
           },
           "name": "egF",
           "offsetgroup": "egF",
           "orientation": "v",
           "showlegend": true,
           "textposition": "auto",
           "type": "bar",
           "x": [
            "0_egF",
            "1_egF",
            "2_egF"
           ],
           "xaxis": "x",
           "y": [
            2.5,
            41,
            37.5
           ],
           "yaxis": "y"
          },
          {
           "alignmentgroup": "True",
           "hovertemplate": "model=UCB<br>iteration=80<br>máquinas=%{x}<br>promedio de seleccion acumulada=%{y}<extra></extra>",
           "legendgroup": "UCB",
           "marker": {
            "color": "#ab63fa",
            "pattern": {
             "shape": ""
            }
           },
           "name": "UCB",
           "offsetgroup": "UCB",
           "orientation": "v",
           "showlegend": true,
           "textposition": "auto",
           "type": "bar",
           "x": [
            "0_UCB",
            "1_UCB",
            "2_UCB"
           ],
           "xaxis": "x",
           "y": [
            6.5,
            10.5,
            64
           ],
           "yaxis": "y"
          }
         ],
         "name": "80"
        },
        {
         "data": [
          {
           "alignmentgroup": "True",
           "hovertemplate": "model=TS<br>iteration=90<br>máquinas=%{x}<br>promedio de seleccion acumulada=%{y}<extra></extra>",
           "legendgroup": "TS",
           "marker": {
            "color": "#636efa",
            "pattern": {
             "shape": ""
            }
           },
           "name": "TS",
           "offsetgroup": "TS",
           "orientation": "v",
           "showlegend": true,
           "textposition": "auto",
           "type": "bar",
           "x": [
            "0_TS",
            "1_TS",
            "2_TS"
           ],
           "xaxis": "x",
           "y": [
            3,
            5,
            83
           ],
           "yaxis": "y"
          },
          {
           "alignmentgroup": "True",
           "hovertemplate": "model=egT<br>iteration=90<br>máquinas=%{x}<br>promedio de seleccion acumulada=%{y}<extra></extra>",
           "legendgroup": "egT",
           "marker": {
            "color": "#EF553B",
            "pattern": {
             "shape": ""
            }
           },
           "name": "egT",
           "offsetgroup": "egT",
           "orientation": "v",
           "showlegend": true,
           "textposition": "auto",
           "type": "bar",
           "x": [
            "0_egT",
            "1_egT",
            "2_egT"
           ],
           "xaxis": "x",
           "y": [
            0.5,
            90.5,
            0
           ],
           "yaxis": "y"
          },
          {
           "alignmentgroup": "True",
           "hovertemplate": "model=egF<br>iteration=90<br>máquinas=%{x}<br>promedio de seleccion acumulada=%{y}<extra></extra>",
           "legendgroup": "egF",
           "marker": {
            "color": "#00cc96",
            "pattern": {
             "shape": ""
            }
           },
           "name": "egF",
           "offsetgroup": "egF",
           "orientation": "v",
           "showlegend": true,
           "textposition": "auto",
           "type": "bar",
           "x": [
            "0_egF",
            "1_egF",
            "2_egF"
           ],
           "xaxis": "x",
           "y": [
            3,
            45.5,
            42.5
           ],
           "yaxis": "y"
          },
          {
           "alignmentgroup": "True",
           "hovertemplate": "model=UCB<br>iteration=90<br>máquinas=%{x}<br>promedio de seleccion acumulada=%{y}<extra></extra>",
           "legendgroup": "UCB",
           "marker": {
            "color": "#ab63fa",
            "pattern": {
             "shape": ""
            }
           },
           "name": "UCB",
           "offsetgroup": "UCB",
           "orientation": "v",
           "showlegend": true,
           "textposition": "auto",
           "type": "bar",
           "x": [
            "0_UCB",
            "1_UCB",
            "2_UCB"
           ],
           "xaxis": "x",
           "y": [
            7,
            11.5,
            72.5
           ],
           "yaxis": "y"
          }
         ],
         "name": "90"
        },
        {
         "data": [
          {
           "alignmentgroup": "True",
           "hovertemplate": "model=TS<br>iteration=100<br>máquinas=%{x}<br>promedio de seleccion acumulada=%{y}<extra></extra>",
           "legendgroup": "TS",
           "marker": {
            "color": "#636efa",
            "pattern": {
             "shape": ""
            }
           },
           "name": "TS",
           "offsetgroup": "TS",
           "orientation": "v",
           "showlegend": true,
           "textposition": "auto",
           "type": "bar",
           "x": [
            "0_TS",
            "1_TS",
            "2_TS"
           ],
           "xaxis": "x",
           "y": [
            3,
            5.5,
            92.5
           ],
           "yaxis": "y"
          },
          {
           "alignmentgroup": "True",
           "hovertemplate": "model=egT<br>iteration=100<br>máquinas=%{x}<br>promedio de seleccion acumulada=%{y}<extra></extra>",
           "legendgroup": "egT",
           "marker": {
            "color": "#EF553B",
            "pattern": {
             "shape": ""
            }
           },
           "name": "egT",
           "offsetgroup": "egT",
           "orientation": "v",
           "showlegend": true,
           "textposition": "auto",
           "type": "bar",
           "x": [
            "0_egT",
            "1_egT",
            "2_egT"
           ],
           "xaxis": "x",
           "y": [
            0.5,
            100.5,
            0
           ],
           "yaxis": "y"
          },
          {
           "alignmentgroup": "True",
           "hovertemplate": "model=egF<br>iteration=100<br>máquinas=%{x}<br>promedio de seleccion acumulada=%{y}<extra></extra>",
           "legendgroup": "egF",
           "marker": {
            "color": "#00cc96",
            "pattern": {
             "shape": ""
            }
           },
           "name": "egF",
           "offsetgroup": "egF",
           "orientation": "v",
           "showlegend": true,
           "textposition": "auto",
           "type": "bar",
           "x": [
            "0_egF",
            "1_egF",
            "2_egF"
           ],
           "xaxis": "x",
           "y": [
            3.5,
            49,
            48.5
           ],
           "yaxis": "y"
          },
          {
           "alignmentgroup": "True",
           "hovertemplate": "model=UCB<br>iteration=100<br>máquinas=%{x}<br>promedio de seleccion acumulada=%{y}<extra></extra>",
           "legendgroup": "UCB",
           "marker": {
            "color": "#ab63fa",
            "pattern": {
             "shape": ""
            }
           },
           "name": "UCB",
           "offsetgroup": "UCB",
           "orientation": "v",
           "showlegend": true,
           "textposition": "auto",
           "type": "bar",
           "x": [
            "0_UCB",
            "1_UCB",
            "2_UCB"
           ],
           "xaxis": "x",
           "y": [
            7.5,
            12,
            81.5
           ],
           "yaxis": "y"
          }
         ],
         "name": "100"
        },
        {
         "data": [
          {
           "alignmentgroup": "True",
           "hovertemplate": "model=TS<br>iteration=110<br>máquinas=%{x}<br>promedio de seleccion acumulada=%{y}<extra></extra>",
           "legendgroup": "TS",
           "marker": {
            "color": "#636efa",
            "pattern": {
             "shape": ""
            }
           },
           "name": "TS",
           "offsetgroup": "TS",
           "orientation": "v",
           "showlegend": true,
           "textposition": "auto",
           "type": "bar",
           "x": [
            "0_TS",
            "1_TS",
            "2_TS"
           ],
           "xaxis": "x",
           "y": [
            3,
            6,
            102
           ],
           "yaxis": "y"
          },
          {
           "alignmentgroup": "True",
           "hovertemplate": "model=egT<br>iteration=110<br>máquinas=%{x}<br>promedio de seleccion acumulada=%{y}<extra></extra>",
           "legendgroup": "egT",
           "marker": {
            "color": "#EF553B",
            "pattern": {
             "shape": ""
            }
           },
           "name": "egT",
           "offsetgroup": "egT",
           "orientation": "v",
           "showlegend": true,
           "textposition": "auto",
           "type": "bar",
           "x": [
            "0_egT",
            "1_egT",
            "2_egT"
           ],
           "xaxis": "x",
           "y": [
            0.5,
            110.5,
            0
           ],
           "yaxis": "y"
          },
          {
           "alignmentgroup": "True",
           "hovertemplate": "model=egF<br>iteration=110<br>máquinas=%{x}<br>promedio de seleccion acumulada=%{y}<extra></extra>",
           "legendgroup": "egF",
           "marker": {
            "color": "#00cc96",
            "pattern": {
             "shape": ""
            }
           },
           "name": "egF",
           "offsetgroup": "egF",
           "orientation": "v",
           "showlegend": true,
           "textposition": "auto",
           "type": "bar",
           "x": [
            "0_egF",
            "1_egF",
            "2_egF"
           ],
           "xaxis": "x",
           "y": [
            4,
            54,
            53
           ],
           "yaxis": "y"
          },
          {
           "alignmentgroup": "True",
           "hovertemplate": "model=UCB<br>iteration=110<br>máquinas=%{x}<br>promedio de seleccion acumulada=%{y}<extra></extra>",
           "legendgroup": "UCB",
           "marker": {
            "color": "#ab63fa",
            "pattern": {
             "shape": ""
            }
           },
           "name": "UCB",
           "offsetgroup": "UCB",
           "orientation": "v",
           "showlegend": true,
           "textposition": "auto",
           "type": "bar",
           "x": [
            "0_UCB",
            "1_UCB",
            "2_UCB"
           ],
           "xaxis": "x",
           "y": [
            8,
            12.5,
            90.5
           ],
           "yaxis": "y"
          }
         ],
         "name": "110"
        },
        {
         "data": [
          {
           "alignmentgroup": "True",
           "hovertemplate": "model=TS<br>iteration=120<br>máquinas=%{x}<br>promedio de seleccion acumulada=%{y}<extra></extra>",
           "legendgroup": "TS",
           "marker": {
            "color": "#636efa",
            "pattern": {
             "shape": ""
            }
           },
           "name": "TS",
           "offsetgroup": "TS",
           "orientation": "v",
           "showlegend": true,
           "textposition": "auto",
           "type": "bar",
           "x": [
            "0_TS",
            "1_TS",
            "2_TS"
           ],
           "xaxis": "x",
           "y": [
            3.5,
            6,
            111.5
           ],
           "yaxis": "y"
          },
          {
           "alignmentgroup": "True",
           "hovertemplate": "model=egT<br>iteration=120<br>máquinas=%{x}<br>promedio de seleccion acumulada=%{y}<extra></extra>",
           "legendgroup": "egT",
           "marker": {
            "color": "#EF553B",
            "pattern": {
             "shape": ""
            }
           },
           "name": "egT",
           "offsetgroup": "egT",
           "orientation": "v",
           "showlegend": true,
           "textposition": "auto",
           "type": "bar",
           "x": [
            "0_egT",
            "1_egT",
            "2_egT"
           ],
           "xaxis": "x",
           "y": [
            0.5,
            120.5,
            0
           ],
           "yaxis": "y"
          },
          {
           "alignmentgroup": "True",
           "hovertemplate": "model=egF<br>iteration=120<br>máquinas=%{x}<br>promedio de seleccion acumulada=%{y}<extra></extra>",
           "legendgroup": "egF",
           "marker": {
            "color": "#00cc96",
            "pattern": {
             "shape": ""
            }
           },
           "name": "egF",
           "offsetgroup": "egF",
           "orientation": "v",
           "showlegend": true,
           "textposition": "auto",
           "type": "bar",
           "x": [
            "0_egF",
            "1_egF",
            "2_egF"
           ],
           "xaxis": "x",
           "y": [
            4.5,
            59,
            57.5
           ],
           "yaxis": "y"
          },
          {
           "alignmentgroup": "True",
           "hovertemplate": "model=UCB<br>iteration=120<br>máquinas=%{x}<br>promedio de seleccion acumulada=%{y}<extra></extra>",
           "legendgroup": "UCB",
           "marker": {
            "color": "#ab63fa",
            "pattern": {
             "shape": ""
            }
           },
           "name": "UCB",
           "offsetgroup": "UCB",
           "orientation": "v",
           "showlegend": true,
           "textposition": "auto",
           "type": "bar",
           "x": [
            "0_UCB",
            "1_UCB",
            "2_UCB"
           ],
           "xaxis": "x",
           "y": [
            8,
            13,
            100
           ],
           "yaxis": "y"
          }
         ],
         "name": "120"
        },
        {
         "data": [
          {
           "alignmentgroup": "True",
           "hovertemplate": "model=TS<br>iteration=130<br>máquinas=%{x}<br>promedio de seleccion acumulada=%{y}<extra></extra>",
           "legendgroup": "TS",
           "marker": {
            "color": "#636efa",
            "pattern": {
             "shape": ""
            }
           },
           "name": "TS",
           "offsetgroup": "TS",
           "orientation": "v",
           "showlegend": true,
           "textposition": "auto",
           "type": "bar",
           "x": [
            "0_TS",
            "1_TS",
            "2_TS"
           ],
           "xaxis": "x",
           "y": [
            3.5,
            6.5,
            121
           ],
           "yaxis": "y"
          },
          {
           "alignmentgroup": "True",
           "hovertemplate": "model=egT<br>iteration=130<br>máquinas=%{x}<br>promedio de seleccion acumulada=%{y}<extra></extra>",
           "legendgroup": "egT",
           "marker": {
            "color": "#EF553B",
            "pattern": {
             "shape": ""
            }
           },
           "name": "egT",
           "offsetgroup": "egT",
           "orientation": "v",
           "showlegend": true,
           "textposition": "auto",
           "type": "bar",
           "x": [
            "0_egT",
            "1_egT",
            "2_egT"
           ],
           "xaxis": "x",
           "y": [
            0.5,
            130.5,
            0
           ],
           "yaxis": "y"
          },
          {
           "alignmentgroup": "True",
           "hovertemplate": "model=egF<br>iteration=130<br>máquinas=%{x}<br>promedio de seleccion acumulada=%{y}<extra></extra>",
           "legendgroup": "egF",
           "marker": {
            "color": "#00cc96",
            "pattern": {
             "shape": ""
            }
           },
           "name": "egF",
           "offsetgroup": "egF",
           "orientation": "v",
           "showlegend": true,
           "textposition": "auto",
           "type": "bar",
           "x": [
            "0_egF",
            "1_egF",
            "2_egF"
           ],
           "xaxis": "x",
           "y": [
            5.5,
            63.5,
            62
           ],
           "yaxis": "y"
          },
          {
           "alignmentgroup": "True",
           "hovertemplate": "model=UCB<br>iteration=130<br>máquinas=%{x}<br>promedio de seleccion acumulada=%{y}<extra></extra>",
           "legendgroup": "UCB",
           "marker": {
            "color": "#ab63fa",
            "pattern": {
             "shape": ""
            }
           },
           "name": "UCB",
           "offsetgroup": "UCB",
           "orientation": "v",
           "showlegend": true,
           "textposition": "auto",
           "type": "bar",
           "x": [
            "0_UCB",
            "1_UCB",
            "2_UCB"
           ],
           "xaxis": "x",
           "y": [
            8.5,
            14,
            108.5
           ],
           "yaxis": "y"
          }
         ],
         "name": "130"
        },
        {
         "data": [
          {
           "alignmentgroup": "True",
           "hovertemplate": "model=TS<br>iteration=140<br>máquinas=%{x}<br>promedio de seleccion acumulada=%{y}<extra></extra>",
           "legendgroup": "TS",
           "marker": {
            "color": "#636efa",
            "pattern": {
             "shape": ""
            }
           },
           "name": "TS",
           "offsetgroup": "TS",
           "orientation": "v",
           "showlegend": true,
           "textposition": "auto",
           "type": "bar",
           "x": [
            "0_TS",
            "1_TS",
            "2_TS"
           ],
           "xaxis": "x",
           "y": [
            3.5,
            6.5,
            131
           ],
           "yaxis": "y"
          },
          {
           "alignmentgroup": "True",
           "hovertemplate": "model=egT<br>iteration=140<br>máquinas=%{x}<br>promedio de seleccion acumulada=%{y}<extra></extra>",
           "legendgroup": "egT",
           "marker": {
            "color": "#EF553B",
            "pattern": {
             "shape": ""
            }
           },
           "name": "egT",
           "offsetgroup": "egT",
           "orientation": "v",
           "showlegend": true,
           "textposition": "auto",
           "type": "bar",
           "x": [
            "0_egT",
            "1_egT",
            "2_egT"
           ],
           "xaxis": "x",
           "y": [
            0.5,
            140.5,
            0
           ],
           "yaxis": "y"
          },
          {
           "alignmentgroup": "True",
           "hovertemplate": "model=egF<br>iteration=140<br>máquinas=%{x}<br>promedio de seleccion acumulada=%{y}<extra></extra>",
           "legendgroup": "egF",
           "marker": {
            "color": "#00cc96",
            "pattern": {
             "shape": ""
            }
           },
           "name": "egF",
           "offsetgroup": "egF",
           "orientation": "v",
           "showlegend": true,
           "textposition": "auto",
           "type": "bar",
           "x": [
            "0_egF",
            "1_egF",
            "2_egF"
           ],
           "xaxis": "x",
           "y": [
            6,
            68.5,
            66.5
           ],
           "yaxis": "y"
          },
          {
           "alignmentgroup": "True",
           "hovertemplate": "model=UCB<br>iteration=140<br>máquinas=%{x}<br>promedio de seleccion acumulada=%{y}<extra></extra>",
           "legendgroup": "UCB",
           "marker": {
            "color": "#ab63fa",
            "pattern": {
             "shape": ""
            }
           },
           "name": "UCB",
           "offsetgroup": "UCB",
           "orientation": "v",
           "showlegend": true,
           "textposition": "auto",
           "type": "bar",
           "x": [
            "0_UCB",
            "1_UCB",
            "2_UCB"
           ],
           "xaxis": "x",
           "y": [
            9,
            14.5,
            117.5
           ],
           "yaxis": "y"
          }
         ],
         "name": "140"
        },
        {
         "data": [
          {
           "alignmentgroup": "True",
           "hovertemplate": "model=TS<br>iteration=150<br>máquinas=%{x}<br>promedio de seleccion acumulada=%{y}<extra></extra>",
           "legendgroup": "TS",
           "marker": {
            "color": "#636efa",
            "pattern": {
             "shape": ""
            }
           },
           "name": "TS",
           "offsetgroup": "TS",
           "orientation": "v",
           "showlegend": true,
           "textposition": "auto",
           "type": "bar",
           "x": [
            "0_TS",
            "1_TS",
            "2_TS"
           ],
           "xaxis": "x",
           "y": [
            3.5,
            6.5,
            141
           ],
           "yaxis": "y"
          },
          {
           "alignmentgroup": "True",
           "hovertemplate": "model=egT<br>iteration=150<br>máquinas=%{x}<br>promedio de seleccion acumulada=%{y}<extra></extra>",
           "legendgroup": "egT",
           "marker": {
            "color": "#EF553B",
            "pattern": {
             "shape": ""
            }
           },
           "name": "egT",
           "offsetgroup": "egT",
           "orientation": "v",
           "showlegend": true,
           "textposition": "auto",
           "type": "bar",
           "x": [
            "0_egT",
            "1_egT",
            "2_egT"
           ],
           "xaxis": "x",
           "y": [
            0.5,
            150.5,
            0
           ],
           "yaxis": "y"
          },
          {
           "alignmentgroup": "True",
           "hovertemplate": "model=egF<br>iteration=150<br>máquinas=%{x}<br>promedio de seleccion acumulada=%{y}<extra></extra>",
           "legendgroup": "egF",
           "marker": {
            "color": "#00cc96",
            "pattern": {
             "shape": ""
            }
           },
           "name": "egF",
           "offsetgroup": "egF",
           "orientation": "v",
           "showlegend": true,
           "textposition": "auto",
           "type": "bar",
           "x": [
            "0_egF",
            "1_egF",
            "2_egF"
           ],
           "xaxis": "x",
           "y": [
            6.5,
            74,
            70.5
           ],
           "yaxis": "y"
          },
          {
           "alignmentgroup": "True",
           "hovertemplate": "model=UCB<br>iteration=150<br>máquinas=%{x}<br>promedio de seleccion acumulada=%{y}<extra></extra>",
           "legendgroup": "UCB",
           "marker": {
            "color": "#ab63fa",
            "pattern": {
             "shape": ""
            }
           },
           "name": "UCB",
           "offsetgroup": "UCB",
           "orientation": "v",
           "showlegend": true,
           "textposition": "auto",
           "type": "bar",
           "x": [
            "0_UCB",
            "1_UCB",
            "2_UCB"
           ],
           "xaxis": "x",
           "y": [
            9,
            15,
            127
           ],
           "yaxis": "y"
          }
         ],
         "name": "150"
        },
        {
         "data": [
          {
           "alignmentgroup": "True",
           "hovertemplate": "model=TS<br>iteration=160<br>máquinas=%{x}<br>promedio de seleccion acumulada=%{y}<extra></extra>",
           "legendgroup": "TS",
           "marker": {
            "color": "#636efa",
            "pattern": {
             "shape": ""
            }
           },
           "name": "TS",
           "offsetgroup": "TS",
           "orientation": "v",
           "showlegend": true,
           "textposition": "auto",
           "type": "bar",
           "x": [
            "0_TS",
            "1_TS",
            "2_TS"
           ],
           "xaxis": "x",
           "y": [
            3.5,
            6.5,
            151
           ],
           "yaxis": "y"
          },
          {
           "alignmentgroup": "True",
           "hovertemplate": "model=egT<br>iteration=160<br>máquinas=%{x}<br>promedio de seleccion acumulada=%{y}<extra></extra>",
           "legendgroup": "egT",
           "marker": {
            "color": "#EF553B",
            "pattern": {
             "shape": ""
            }
           },
           "name": "egT",
           "offsetgroup": "egT",
           "orientation": "v",
           "showlegend": true,
           "textposition": "auto",
           "type": "bar",
           "x": [
            "0_egT",
            "1_egT",
            "2_egT"
           ],
           "xaxis": "x",
           "y": [
            0.5,
            160.5,
            0
           ],
           "yaxis": "y"
          },
          {
           "alignmentgroup": "True",
           "hovertemplate": "model=egF<br>iteration=160<br>máquinas=%{x}<br>promedio de seleccion acumulada=%{y}<extra></extra>",
           "legendgroup": "egF",
           "marker": {
            "color": "#00cc96",
            "pattern": {
             "shape": ""
            }
           },
           "name": "egF",
           "offsetgroup": "egF",
           "orientation": "v",
           "showlegend": true,
           "textposition": "auto",
           "type": "bar",
           "x": [
            "0_egF",
            "1_egF",
            "2_egF"
           ],
           "xaxis": "x",
           "y": [
            6.5,
            79,
            75.5
           ],
           "yaxis": "y"
          },
          {
           "alignmentgroup": "True",
           "hovertemplate": "model=UCB<br>iteration=160<br>máquinas=%{x}<br>promedio de seleccion acumulada=%{y}<extra></extra>",
           "legendgroup": "UCB",
           "marker": {
            "color": "#ab63fa",
            "pattern": {
             "shape": ""
            }
           },
           "name": "UCB",
           "offsetgroup": "UCB",
           "orientation": "v",
           "showlegend": true,
           "textposition": "auto",
           "type": "bar",
           "x": [
            "0_UCB",
            "1_UCB",
            "2_UCB"
           ],
           "xaxis": "x",
           "y": [
            9.5,
            15,
            136.5
           ],
           "yaxis": "y"
          }
         ],
         "name": "160"
        },
        {
         "data": [
          {
           "alignmentgroup": "True",
           "hovertemplate": "model=TS<br>iteration=170<br>máquinas=%{x}<br>promedio de seleccion acumulada=%{y}<extra></extra>",
           "legendgroup": "TS",
           "marker": {
            "color": "#636efa",
            "pattern": {
             "shape": ""
            }
           },
           "name": "TS",
           "offsetgroup": "TS",
           "orientation": "v",
           "showlegend": true,
           "textposition": "auto",
           "type": "bar",
           "x": [
            "0_TS",
            "1_TS",
            "2_TS"
           ],
           "xaxis": "x",
           "y": [
            3.5,
            6.5,
            161
           ],
           "yaxis": "y"
          },
          {
           "alignmentgroup": "True",
           "hovertemplate": "model=egT<br>iteration=170<br>máquinas=%{x}<br>promedio de seleccion acumulada=%{y}<extra></extra>",
           "legendgroup": "egT",
           "marker": {
            "color": "#EF553B",
            "pattern": {
             "shape": ""
            }
           },
           "name": "egT",
           "offsetgroup": "egT",
           "orientation": "v",
           "showlegend": true,
           "textposition": "auto",
           "type": "bar",
           "x": [
            "0_egT",
            "1_egT",
            "2_egT"
           ],
           "xaxis": "x",
           "y": [
            0.5,
            170.5,
            0
           ],
           "yaxis": "y"
          },
          {
           "alignmentgroup": "True",
           "hovertemplate": "model=egF<br>iteration=170<br>máquinas=%{x}<br>promedio de seleccion acumulada=%{y}<extra></extra>",
           "legendgroup": "egF",
           "marker": {
            "color": "#00cc96",
            "pattern": {
             "shape": ""
            }
           },
           "name": "egF",
           "offsetgroup": "egF",
           "orientation": "v",
           "showlegend": true,
           "textposition": "auto",
           "type": "bar",
           "x": [
            "0_egF",
            "1_egF",
            "2_egF"
           ],
           "xaxis": "x",
           "y": [
            6.5,
            83,
            81.5
           ],
           "yaxis": "y"
          },
          {
           "alignmentgroup": "True",
           "hovertemplate": "model=UCB<br>iteration=170<br>máquinas=%{x}<br>promedio de seleccion acumulada=%{y}<extra></extra>",
           "legendgroup": "UCB",
           "marker": {
            "color": "#ab63fa",
            "pattern": {
             "shape": ""
            }
           },
           "name": "UCB",
           "offsetgroup": "UCB",
           "orientation": "v",
           "showlegend": true,
           "textposition": "auto",
           "type": "bar",
           "x": [
            "0_UCB",
            "1_UCB",
            "2_UCB"
           ],
           "xaxis": "x",
           "y": [
            9.5,
            16,
            145.5
           ],
           "yaxis": "y"
          }
         ],
         "name": "170"
        },
        {
         "data": [
          {
           "alignmentgroup": "True",
           "hovertemplate": "model=TS<br>iteration=180<br>máquinas=%{x}<br>promedio de seleccion acumulada=%{y}<extra></extra>",
           "legendgroup": "TS",
           "marker": {
            "color": "#636efa",
            "pattern": {
             "shape": ""
            }
           },
           "name": "TS",
           "offsetgroup": "TS",
           "orientation": "v",
           "showlegend": true,
           "textposition": "auto",
           "type": "bar",
           "x": [
            "0_TS",
            "1_TS",
            "2_TS"
           ],
           "xaxis": "x",
           "y": [
            3.5,
            6.5,
            171
           ],
           "yaxis": "y"
          },
          {
           "alignmentgroup": "True",
           "hovertemplate": "model=egT<br>iteration=180<br>máquinas=%{x}<br>promedio de seleccion acumulada=%{y}<extra></extra>",
           "legendgroup": "egT",
           "marker": {
            "color": "#EF553B",
            "pattern": {
             "shape": ""
            }
           },
           "name": "egT",
           "offsetgroup": "egT",
           "orientation": "v",
           "showlegend": true,
           "textposition": "auto",
           "type": "bar",
           "x": [
            "0_egT",
            "1_egT",
            "2_egT"
           ],
           "xaxis": "x",
           "y": [
            0.5,
            180.5,
            0
           ],
           "yaxis": "y"
          },
          {
           "alignmentgroup": "True",
           "hovertemplate": "model=egF<br>iteration=180<br>máquinas=%{x}<br>promedio de seleccion acumulada=%{y}<extra></extra>",
           "legendgroup": "egF",
           "marker": {
            "color": "#00cc96",
            "pattern": {
             "shape": ""
            }
           },
           "name": "egF",
           "offsetgroup": "egF",
           "orientation": "v",
           "showlegend": true,
           "textposition": "auto",
           "type": "bar",
           "x": [
            "0_egF",
            "1_egF",
            "2_egF"
           ],
           "xaxis": "x",
           "y": [
            7,
            88,
            86
           ],
           "yaxis": "y"
          },
          {
           "alignmentgroup": "True",
           "hovertemplate": "model=UCB<br>iteration=180<br>máquinas=%{x}<br>promedio de seleccion acumulada=%{y}<extra></extra>",
           "legendgroup": "UCB",
           "marker": {
            "color": "#ab63fa",
            "pattern": {
             "shape": ""
            }
           },
           "name": "UCB",
           "offsetgroup": "UCB",
           "orientation": "v",
           "showlegend": true,
           "textposition": "auto",
           "type": "bar",
           "x": [
            "0_UCB",
            "1_UCB",
            "2_UCB"
           ],
           "xaxis": "x",
           "y": [
            9.5,
            16.5,
            155
           ],
           "yaxis": "y"
          }
         ],
         "name": "180"
        },
        {
         "data": [
          {
           "alignmentgroup": "True",
           "hovertemplate": "model=TS<br>iteration=190<br>máquinas=%{x}<br>promedio de seleccion acumulada=%{y}<extra></extra>",
           "legendgroup": "TS",
           "marker": {
            "color": "#636efa",
            "pattern": {
             "shape": ""
            }
           },
           "name": "TS",
           "offsetgroup": "TS",
           "orientation": "v",
           "showlegend": true,
           "textposition": "auto",
           "type": "bar",
           "x": [
            "0_TS",
            "1_TS",
            "2_TS"
           ],
           "xaxis": "x",
           "y": [
            3.5,
            6.5,
            181
           ],
           "yaxis": "y"
          },
          {
           "alignmentgroup": "True",
           "hovertemplate": "model=egT<br>iteration=190<br>máquinas=%{x}<br>promedio de seleccion acumulada=%{y}<extra></extra>",
           "legendgroup": "egT",
           "marker": {
            "color": "#EF553B",
            "pattern": {
             "shape": ""
            }
           },
           "name": "egT",
           "offsetgroup": "egT",
           "orientation": "v",
           "showlegend": true,
           "textposition": "auto",
           "type": "bar",
           "x": [
            "0_egT",
            "1_egT",
            "2_egT"
           ],
           "xaxis": "x",
           "y": [
            0.5,
            190.5,
            0
           ],
           "yaxis": "y"
          },
          {
           "alignmentgroup": "True",
           "hovertemplate": "model=egF<br>iteration=190<br>máquinas=%{x}<br>promedio de seleccion acumulada=%{y}<extra></extra>",
           "legendgroup": "egF",
           "marker": {
            "color": "#00cc96",
            "pattern": {
             "shape": ""
            }
           },
           "name": "egF",
           "offsetgroup": "egF",
           "orientation": "v",
           "showlegend": true,
           "textposition": "auto",
           "type": "bar",
           "x": [
            "0_egF",
            "1_egF",
            "2_egF"
           ],
           "xaxis": "x",
           "y": [
            8,
            92,
            91
           ],
           "yaxis": "y"
          },
          {
           "alignmentgroup": "True",
           "hovertemplate": "model=UCB<br>iteration=190<br>máquinas=%{x}<br>promedio de seleccion acumulada=%{y}<extra></extra>",
           "legendgroup": "UCB",
           "marker": {
            "color": "#ab63fa",
            "pattern": {
             "shape": ""
            }
           },
           "name": "UCB",
           "offsetgroup": "UCB",
           "orientation": "v",
           "showlegend": true,
           "textposition": "auto",
           "type": "bar",
           "x": [
            "0_UCB",
            "1_UCB",
            "2_UCB"
           ],
           "xaxis": "x",
           "y": [
            10,
            16.5,
            164.5
           ],
           "yaxis": "y"
          }
         ],
         "name": "190"
        },
        {
         "data": [
          {
           "alignmentgroup": "True",
           "hovertemplate": "model=TS<br>iteration=200<br>máquinas=%{x}<br>promedio de seleccion acumulada=%{y}<extra></extra>",
           "legendgroup": "TS",
           "marker": {
            "color": "#636efa",
            "pattern": {
             "shape": ""
            }
           },
           "name": "TS",
           "offsetgroup": "TS",
           "orientation": "v",
           "showlegend": true,
           "textposition": "auto",
           "type": "bar",
           "x": [
            "0_TS",
            "1_TS",
            "2_TS"
           ],
           "xaxis": "x",
           "y": [
            3.5,
            6.5,
            191
           ],
           "yaxis": "y"
          },
          {
           "alignmentgroup": "True",
           "hovertemplate": "model=egT<br>iteration=200<br>máquinas=%{x}<br>promedio de seleccion acumulada=%{y}<extra></extra>",
           "legendgroup": "egT",
           "marker": {
            "color": "#EF553B",
            "pattern": {
             "shape": ""
            }
           },
           "name": "egT",
           "offsetgroup": "egT",
           "orientation": "v",
           "showlegend": true,
           "textposition": "auto",
           "type": "bar",
           "x": [
            "0_egT",
            "1_egT",
            "2_egT"
           ],
           "xaxis": "x",
           "y": [
            0.5,
            200.5,
            0
           ],
           "yaxis": "y"
          },
          {
           "alignmentgroup": "True",
           "hovertemplate": "model=egF<br>iteration=200<br>máquinas=%{x}<br>promedio de seleccion acumulada=%{y}<extra></extra>",
           "legendgroup": "egF",
           "marker": {
            "color": "#00cc96",
            "pattern": {
             "shape": ""
            }
           },
           "name": "egF",
           "offsetgroup": "egF",
           "orientation": "v",
           "showlegend": true,
           "textposition": "auto",
           "type": "bar",
           "x": [
            "0_egF",
            "1_egF",
            "2_egF"
           ],
           "xaxis": "x",
           "y": [
            8.5,
            97,
            95.5
           ],
           "yaxis": "y"
          },
          {
           "alignmentgroup": "True",
           "hovertemplate": "model=UCB<br>iteration=200<br>máquinas=%{x}<br>promedio de seleccion acumulada=%{y}<extra></extra>",
           "legendgroup": "UCB",
           "marker": {
            "color": "#ab63fa",
            "pattern": {
             "shape": ""
            }
           },
           "name": "UCB",
           "offsetgroup": "UCB",
           "orientation": "v",
           "showlegend": true,
           "textposition": "auto",
           "type": "bar",
           "x": [
            "0_UCB",
            "1_UCB",
            "2_UCB"
           ],
           "xaxis": "x",
           "y": [
            10.5,
            17,
            173.5
           ],
           "yaxis": "y"
          }
         ],
         "name": "200"
        },
        {
         "data": [
          {
           "alignmentgroup": "True",
           "hovertemplate": "model=TS<br>iteration=210<br>máquinas=%{x}<br>promedio de seleccion acumulada=%{y}<extra></extra>",
           "legendgroup": "TS",
           "marker": {
            "color": "#636efa",
            "pattern": {
             "shape": ""
            }
           },
           "name": "TS",
           "offsetgroup": "TS",
           "orientation": "v",
           "showlegend": true,
           "textposition": "auto",
           "type": "bar",
           "x": [
            "0_TS",
            "1_TS",
            "2_TS"
           ],
           "xaxis": "x",
           "y": [
            3.5,
            6.5,
            201
           ],
           "yaxis": "y"
          },
          {
           "alignmentgroup": "True",
           "hovertemplate": "model=egT<br>iteration=210<br>máquinas=%{x}<br>promedio de seleccion acumulada=%{y}<extra></extra>",
           "legendgroup": "egT",
           "marker": {
            "color": "#EF553B",
            "pattern": {
             "shape": ""
            }
           },
           "name": "egT",
           "offsetgroup": "egT",
           "orientation": "v",
           "showlegend": true,
           "textposition": "auto",
           "type": "bar",
           "x": [
            "0_egT",
            "1_egT",
            "2_egT"
           ],
           "xaxis": "x",
           "y": [
            0.5,
            210.5,
            0
           ],
           "yaxis": "y"
          },
          {
           "alignmentgroup": "True",
           "hovertemplate": "model=egF<br>iteration=210<br>máquinas=%{x}<br>promedio de seleccion acumulada=%{y}<extra></extra>",
           "legendgroup": "egF",
           "marker": {
            "color": "#00cc96",
            "pattern": {
             "shape": ""
            }
           },
           "name": "egF",
           "offsetgroup": "egF",
           "orientation": "v",
           "showlegend": true,
           "textposition": "auto",
           "type": "bar",
           "x": [
            "0_egF",
            "1_egF",
            "2_egF"
           ],
           "xaxis": "x",
           "y": [
            9.5,
            102,
            99.5
           ],
           "yaxis": "y"
          },
          {
           "alignmentgroup": "True",
           "hovertemplate": "model=UCB<br>iteration=210<br>máquinas=%{x}<br>promedio de seleccion acumulada=%{y}<extra></extra>",
           "legendgroup": "UCB",
           "marker": {
            "color": "#ab63fa",
            "pattern": {
             "shape": ""
            }
           },
           "name": "UCB",
           "offsetgroup": "UCB",
           "orientation": "v",
           "showlegend": true,
           "textposition": "auto",
           "type": "bar",
           "x": [
            "0_UCB",
            "1_UCB",
            "2_UCB"
           ],
           "xaxis": "x",
           "y": [
            10.5,
            17,
            183.5
           ],
           "yaxis": "y"
          }
         ],
         "name": "210"
        },
        {
         "data": [
          {
           "alignmentgroup": "True",
           "hovertemplate": "model=TS<br>iteration=220<br>máquinas=%{x}<br>promedio de seleccion acumulada=%{y}<extra></extra>",
           "legendgroup": "TS",
           "marker": {
            "color": "#636efa",
            "pattern": {
             "shape": ""
            }
           },
           "name": "TS",
           "offsetgroup": "TS",
           "orientation": "v",
           "showlegend": true,
           "textposition": "auto",
           "type": "bar",
           "x": [
            "0_TS",
            "1_TS",
            "2_TS"
           ],
           "xaxis": "x",
           "y": [
            3.5,
            6.5,
            211
           ],
           "yaxis": "y"
          },
          {
           "alignmentgroup": "True",
           "hovertemplate": "model=egT<br>iteration=220<br>máquinas=%{x}<br>promedio de seleccion acumulada=%{y}<extra></extra>",
           "legendgroup": "egT",
           "marker": {
            "color": "#EF553B",
            "pattern": {
             "shape": ""
            }
           },
           "name": "egT",
           "offsetgroup": "egT",
           "orientation": "v",
           "showlegend": true,
           "textposition": "auto",
           "type": "bar",
           "x": [
            "0_egT",
            "1_egT",
            "2_egT"
           ],
           "xaxis": "x",
           "y": [
            0.5,
            220.5,
            0
           ],
           "yaxis": "y"
          },
          {
           "alignmentgroup": "True",
           "hovertemplate": "model=egF<br>iteration=220<br>máquinas=%{x}<br>promedio de seleccion acumulada=%{y}<extra></extra>",
           "legendgroup": "egF",
           "marker": {
            "color": "#00cc96",
            "pattern": {
             "shape": ""
            }
           },
           "name": "egF",
           "offsetgroup": "egF",
           "orientation": "v",
           "showlegend": true,
           "textposition": "auto",
           "type": "bar",
           "x": [
            "0_egF",
            "1_egF",
            "2_egF"
           ],
           "xaxis": "x",
           "y": [
            9.5,
            107,
            104.5
           ],
           "yaxis": "y"
          },
          {
           "alignmentgroup": "True",
           "hovertemplate": "model=UCB<br>iteration=220<br>máquinas=%{x}<br>promedio de seleccion acumulada=%{y}<extra></extra>",
           "legendgroup": "UCB",
           "marker": {
            "color": "#ab63fa",
            "pattern": {
             "shape": ""
            }
           },
           "name": "UCB",
           "offsetgroup": "UCB",
           "orientation": "v",
           "showlegend": true,
           "textposition": "auto",
           "type": "bar",
           "x": [
            "0_UCB",
            "1_UCB",
            "2_UCB"
           ],
           "xaxis": "x",
           "y": [
            10.5,
            18,
            192.5
           ],
           "yaxis": "y"
          }
         ],
         "name": "220"
        },
        {
         "data": [
          {
           "alignmentgroup": "True",
           "hovertemplate": "model=TS<br>iteration=230<br>máquinas=%{x}<br>promedio de seleccion acumulada=%{y}<extra></extra>",
           "legendgroup": "TS",
           "marker": {
            "color": "#636efa",
            "pattern": {
             "shape": ""
            }
           },
           "name": "TS",
           "offsetgroup": "TS",
           "orientation": "v",
           "showlegend": true,
           "textposition": "auto",
           "type": "bar",
           "x": [
            "0_TS",
            "1_TS",
            "2_TS"
           ],
           "xaxis": "x",
           "y": [
            3.5,
            6.5,
            221
           ],
           "yaxis": "y"
          },
          {
           "alignmentgroup": "True",
           "hovertemplate": "model=egT<br>iteration=230<br>máquinas=%{x}<br>promedio de seleccion acumulada=%{y}<extra></extra>",
           "legendgroup": "egT",
           "marker": {
            "color": "#EF553B",
            "pattern": {
             "shape": ""
            }
           },
           "name": "egT",
           "offsetgroup": "egT",
           "orientation": "v",
           "showlegend": true,
           "textposition": "auto",
           "type": "bar",
           "x": [
            "0_egT",
            "1_egT",
            "2_egT"
           ],
           "xaxis": "x",
           "y": [
            0.5,
            230.5,
            0
           ],
           "yaxis": "y"
          },
          {
           "alignmentgroup": "True",
           "hovertemplate": "model=egF<br>iteration=230<br>máquinas=%{x}<br>promedio de seleccion acumulada=%{y}<extra></extra>",
           "legendgroup": "egF",
           "marker": {
            "color": "#00cc96",
            "pattern": {
             "shape": ""
            }
           },
           "name": "egF",
           "offsetgroup": "egF",
           "orientation": "v",
           "showlegend": true,
           "textposition": "auto",
           "type": "bar",
           "x": [
            "0_egF",
            "1_egF",
            "2_egF"
           ],
           "xaxis": "x",
           "y": [
            9.5,
            110.5,
            111
           ],
           "yaxis": "y"
          },
          {
           "alignmentgroup": "True",
           "hovertemplate": "model=UCB<br>iteration=230<br>máquinas=%{x}<br>promedio de seleccion acumulada=%{y}<extra></extra>",
           "legendgroup": "UCB",
           "marker": {
            "color": "#ab63fa",
            "pattern": {
             "shape": ""
            }
           },
           "name": "UCB",
           "offsetgroup": "UCB",
           "orientation": "v",
           "showlegend": true,
           "textposition": "auto",
           "type": "bar",
           "x": [
            "0_UCB",
            "1_UCB",
            "2_UCB"
           ],
           "xaxis": "x",
           "y": [
            10.5,
            18,
            202.5
           ],
           "yaxis": "y"
          }
         ],
         "name": "230"
        },
        {
         "data": [
          {
           "alignmentgroup": "True",
           "hovertemplate": "model=TS<br>iteration=240<br>máquinas=%{x}<br>promedio de seleccion acumulada=%{y}<extra></extra>",
           "legendgroup": "TS",
           "marker": {
            "color": "#636efa",
            "pattern": {
             "shape": ""
            }
           },
           "name": "TS",
           "offsetgroup": "TS",
           "orientation": "v",
           "showlegend": true,
           "textposition": "auto",
           "type": "bar",
           "x": [
            "0_TS",
            "1_TS",
            "2_TS"
           ],
           "xaxis": "x",
           "y": [
            3.5,
            6.5,
            231
           ],
           "yaxis": "y"
          },
          {
           "alignmentgroup": "True",
           "hovertemplate": "model=egT<br>iteration=240<br>máquinas=%{x}<br>promedio de seleccion acumulada=%{y}<extra></extra>",
           "legendgroup": "egT",
           "marker": {
            "color": "#EF553B",
            "pattern": {
             "shape": ""
            }
           },
           "name": "egT",
           "offsetgroup": "egT",
           "orientation": "v",
           "showlegend": true,
           "textposition": "auto",
           "type": "bar",
           "x": [
            "0_egT",
            "1_egT",
            "2_egT"
           ],
           "xaxis": "x",
           "y": [
            0.5,
            240.5,
            0
           ],
           "yaxis": "y"
          },
          {
           "alignmentgroup": "True",
           "hovertemplate": "model=egF<br>iteration=240<br>máquinas=%{x}<br>promedio de seleccion acumulada=%{y}<extra></extra>",
           "legendgroup": "egF",
           "marker": {
            "color": "#00cc96",
            "pattern": {
             "shape": ""
            }
           },
           "name": "egF",
           "offsetgroup": "egF",
           "orientation": "v",
           "showlegend": true,
           "textposition": "auto",
           "type": "bar",
           "x": [
            "0_egF",
            "1_egF",
            "2_egF"
           ],
           "xaxis": "x",
           "y": [
            9.5,
            115.5,
            116
           ],
           "yaxis": "y"
          },
          {
           "alignmentgroup": "True",
           "hovertemplate": "model=UCB<br>iteration=240<br>máquinas=%{x}<br>promedio de seleccion acumulada=%{y}<extra></extra>",
           "legendgroup": "UCB",
           "marker": {
            "color": "#ab63fa",
            "pattern": {
             "shape": ""
            }
           },
           "name": "UCB",
           "offsetgroup": "UCB",
           "orientation": "v",
           "showlegend": true,
           "textposition": "auto",
           "type": "bar",
           "x": [
            "0_UCB",
            "1_UCB",
            "2_UCB"
           ],
           "xaxis": "x",
           "y": [
            11,
            18,
            212
           ],
           "yaxis": "y"
          }
         ],
         "name": "240"
        },
        {
         "data": [
          {
           "alignmentgroup": "True",
           "hovertemplate": "model=TS<br>iteration=250<br>máquinas=%{x}<br>promedio de seleccion acumulada=%{y}<extra></extra>",
           "legendgroup": "TS",
           "marker": {
            "color": "#636efa",
            "pattern": {
             "shape": ""
            }
           },
           "name": "TS",
           "offsetgroup": "TS",
           "orientation": "v",
           "showlegend": true,
           "textposition": "auto",
           "type": "bar",
           "x": [
            "0_TS",
            "1_TS",
            "2_TS"
           ],
           "xaxis": "x",
           "y": [
            3.5,
            6.5,
            241
           ],
           "yaxis": "y"
          },
          {
           "alignmentgroup": "True",
           "hovertemplate": "model=egT<br>iteration=250<br>máquinas=%{x}<br>promedio de seleccion acumulada=%{y}<extra></extra>",
           "legendgroup": "egT",
           "marker": {
            "color": "#EF553B",
            "pattern": {
             "shape": ""
            }
           },
           "name": "egT",
           "offsetgroup": "egT",
           "orientation": "v",
           "showlegend": true,
           "textposition": "auto",
           "type": "bar",
           "x": [
            "0_egT",
            "1_egT",
            "2_egT"
           ],
           "xaxis": "x",
           "y": [
            0.5,
            250.5,
            0
           ],
           "yaxis": "y"
          },
          {
           "alignmentgroup": "True",
           "hovertemplate": "model=egF<br>iteration=250<br>máquinas=%{x}<br>promedio de seleccion acumulada=%{y}<extra></extra>",
           "legendgroup": "egF",
           "marker": {
            "color": "#00cc96",
            "pattern": {
             "shape": ""
            }
           },
           "name": "egF",
           "offsetgroup": "egF",
           "orientation": "v",
           "showlegend": true,
           "textposition": "auto",
           "type": "bar",
           "x": [
            "0_egF",
            "1_egF",
            "2_egF"
           ],
           "xaxis": "x",
           "y": [
            10.5,
            120.5,
            120
           ],
           "yaxis": "y"
          },
          {
           "alignmentgroup": "True",
           "hovertemplate": "model=UCB<br>iteration=250<br>máquinas=%{x}<br>promedio de seleccion acumulada=%{y}<extra></extra>",
           "legendgroup": "UCB",
           "marker": {
            "color": "#ab63fa",
            "pattern": {
             "shape": ""
            }
           },
           "name": "UCB",
           "offsetgroup": "UCB",
           "orientation": "v",
           "showlegend": true,
           "textposition": "auto",
           "type": "bar",
           "x": [
            "0_UCB",
            "1_UCB",
            "2_UCB"
           ],
           "xaxis": "x",
           "y": [
            11,
            18,
            222
           ],
           "yaxis": "y"
          }
         ],
         "name": "250"
        },
        {
         "data": [
          {
           "alignmentgroup": "True",
           "hovertemplate": "model=TS<br>iteration=260<br>máquinas=%{x}<br>promedio de seleccion acumulada=%{y}<extra></extra>",
           "legendgroup": "TS",
           "marker": {
            "color": "#636efa",
            "pattern": {
             "shape": ""
            }
           },
           "name": "TS",
           "offsetgroup": "TS",
           "orientation": "v",
           "showlegend": true,
           "textposition": "auto",
           "type": "bar",
           "x": [
            "0_TS",
            "1_TS",
            "2_TS"
           ],
           "xaxis": "x",
           "y": [
            3.5,
            6.5,
            251
           ],
           "yaxis": "y"
          },
          {
           "alignmentgroup": "True",
           "hovertemplate": "model=egT<br>iteration=260<br>máquinas=%{x}<br>promedio de seleccion acumulada=%{y}<extra></extra>",
           "legendgroup": "egT",
           "marker": {
            "color": "#EF553B",
            "pattern": {
             "shape": ""
            }
           },
           "name": "egT",
           "offsetgroup": "egT",
           "orientation": "v",
           "showlegend": true,
           "textposition": "auto",
           "type": "bar",
           "x": [
            "0_egT",
            "1_egT",
            "2_egT"
           ],
           "xaxis": "x",
           "y": [
            0.5,
            260.5,
            0
           ],
           "yaxis": "y"
          },
          {
           "alignmentgroup": "True",
           "hovertemplate": "model=egF<br>iteration=260<br>máquinas=%{x}<br>promedio de seleccion acumulada=%{y}<extra></extra>",
           "legendgroup": "egF",
           "marker": {
            "color": "#00cc96",
            "pattern": {
             "shape": ""
            }
           },
           "name": "egF",
           "offsetgroup": "egF",
           "orientation": "v",
           "showlegend": true,
           "textposition": "auto",
           "type": "bar",
           "x": [
            "0_egF",
            "1_egF",
            "2_egF"
           ],
           "xaxis": "x",
           "y": [
            11,
            125.5,
            124.5
           ],
           "yaxis": "y"
          },
          {
           "alignmentgroup": "True",
           "hovertemplate": "model=UCB<br>iteration=260<br>máquinas=%{x}<br>promedio de seleccion acumulada=%{y}<extra></extra>",
           "legendgroup": "UCB",
           "marker": {
            "color": "#ab63fa",
            "pattern": {
             "shape": ""
            }
           },
           "name": "UCB",
           "offsetgroup": "UCB",
           "orientation": "v",
           "showlegend": true,
           "textposition": "auto",
           "type": "bar",
           "x": [
            "0_UCB",
            "1_UCB",
            "2_UCB"
           ],
           "xaxis": "x",
           "y": [
            11.5,
            18.5,
            231
           ],
           "yaxis": "y"
          }
         ],
         "name": "260"
        },
        {
         "data": [
          {
           "alignmentgroup": "True",
           "hovertemplate": "model=TS<br>iteration=270<br>máquinas=%{x}<br>promedio de seleccion acumulada=%{y}<extra></extra>",
           "legendgroup": "TS",
           "marker": {
            "color": "#636efa",
            "pattern": {
             "shape": ""
            }
           },
           "name": "TS",
           "offsetgroup": "TS",
           "orientation": "v",
           "showlegend": true,
           "textposition": "auto",
           "type": "bar",
           "x": [
            "0_TS",
            "1_TS",
            "2_TS"
           ],
           "xaxis": "x",
           "y": [
            3.5,
            6.5,
            261
           ],
           "yaxis": "y"
          },
          {
           "alignmentgroup": "True",
           "hovertemplate": "model=egT<br>iteration=270<br>máquinas=%{x}<br>promedio de seleccion acumulada=%{y}<extra></extra>",
           "legendgroup": "egT",
           "marker": {
            "color": "#EF553B",
            "pattern": {
             "shape": ""
            }
           },
           "name": "egT",
           "offsetgroup": "egT",
           "orientation": "v",
           "showlegend": true,
           "textposition": "auto",
           "type": "bar",
           "x": [
            "0_egT",
            "1_egT",
            "2_egT"
           ],
           "xaxis": "x",
           "y": [
            0.5,
            270.5,
            0
           ],
           "yaxis": "y"
          },
          {
           "alignmentgroup": "True",
           "hovertemplate": "model=egF<br>iteration=270<br>máquinas=%{x}<br>promedio de seleccion acumulada=%{y}<extra></extra>",
           "legendgroup": "egF",
           "marker": {
            "color": "#00cc96",
            "pattern": {
             "shape": ""
            }
           },
           "name": "egF",
           "offsetgroup": "egF",
           "orientation": "v",
           "showlegend": true,
           "textposition": "auto",
           "type": "bar",
           "x": [
            "0_egF",
            "1_egF",
            "2_egF"
           ],
           "xaxis": "x",
           "y": [
            11,
            130.5,
            129.5
           ],
           "yaxis": "y"
          },
          {
           "alignmentgroup": "True",
           "hovertemplate": "model=UCB<br>iteration=270<br>máquinas=%{x}<br>promedio de seleccion acumulada=%{y}<extra></extra>",
           "legendgroup": "UCB",
           "marker": {
            "color": "#ab63fa",
            "pattern": {
             "shape": ""
            }
           },
           "name": "UCB",
           "offsetgroup": "UCB",
           "orientation": "v",
           "showlegend": true,
           "textposition": "auto",
           "type": "bar",
           "x": [
            "0_UCB",
            "1_UCB",
            "2_UCB"
           ],
           "xaxis": "x",
           "y": [
            11.5,
            19,
            240.5
           ],
           "yaxis": "y"
          }
         ],
         "name": "270"
        },
        {
         "data": [
          {
           "alignmentgroup": "True",
           "hovertemplate": "model=TS<br>iteration=280<br>máquinas=%{x}<br>promedio de seleccion acumulada=%{y}<extra></extra>",
           "legendgroup": "TS",
           "marker": {
            "color": "#636efa",
            "pattern": {
             "shape": ""
            }
           },
           "name": "TS",
           "offsetgroup": "TS",
           "orientation": "v",
           "showlegend": true,
           "textposition": "auto",
           "type": "bar",
           "x": [
            "0_TS",
            "1_TS",
            "2_TS"
           ],
           "xaxis": "x",
           "y": [
            3.5,
            6.5,
            271
           ],
           "yaxis": "y"
          },
          {
           "alignmentgroup": "True",
           "hovertemplate": "model=egT<br>iteration=280<br>máquinas=%{x}<br>promedio de seleccion acumulada=%{y}<extra></extra>",
           "legendgroup": "egT",
           "marker": {
            "color": "#EF553B",
            "pattern": {
             "shape": ""
            }
           },
           "name": "egT",
           "offsetgroup": "egT",
           "orientation": "v",
           "showlegend": true,
           "textposition": "auto",
           "type": "bar",
           "x": [
            "0_egT",
            "1_egT",
            "2_egT"
           ],
           "xaxis": "x",
           "y": [
            0.5,
            280.5,
            0
           ],
           "yaxis": "y"
          },
          {
           "alignmentgroup": "True",
           "hovertemplate": "model=egF<br>iteration=280<br>máquinas=%{x}<br>promedio de seleccion acumulada=%{y}<extra></extra>",
           "legendgroup": "egF",
           "marker": {
            "color": "#00cc96",
            "pattern": {
             "shape": ""
            }
           },
           "name": "egF",
           "offsetgroup": "egF",
           "orientation": "v",
           "showlegend": true,
           "textposition": "auto",
           "type": "bar",
           "x": [
            "0_egF",
            "1_egF",
            "2_egF"
           ],
           "xaxis": "x",
           "y": [
            11.5,
            136.5,
            133
           ],
           "yaxis": "y"
          },
          {
           "alignmentgroup": "True",
           "hovertemplate": "model=UCB<br>iteration=280<br>máquinas=%{x}<br>promedio de seleccion acumulada=%{y}<extra></extra>",
           "legendgroup": "UCB",
           "marker": {
            "color": "#ab63fa",
            "pattern": {
             "shape": ""
            }
           },
           "name": "UCB",
           "offsetgroup": "UCB",
           "orientation": "v",
           "showlegend": true,
           "textposition": "auto",
           "type": "bar",
           "x": [
            "0_UCB",
            "1_UCB",
            "2_UCB"
           ],
           "xaxis": "x",
           "y": [
            11.5,
            19.5,
            250
           ],
           "yaxis": "y"
          }
         ],
         "name": "280"
        },
        {
         "data": [
          {
           "alignmentgroup": "True",
           "hovertemplate": "model=TS<br>iteration=290<br>máquinas=%{x}<br>promedio de seleccion acumulada=%{y}<extra></extra>",
           "legendgroup": "TS",
           "marker": {
            "color": "#636efa",
            "pattern": {
             "shape": ""
            }
           },
           "name": "TS",
           "offsetgroup": "TS",
           "orientation": "v",
           "showlegend": true,
           "textposition": "auto",
           "type": "bar",
           "x": [
            "0_TS",
            "1_TS",
            "2_TS"
           ],
           "xaxis": "x",
           "y": [
            3.5,
            6.5,
            281
           ],
           "yaxis": "y"
          },
          {
           "alignmentgroup": "True",
           "hovertemplate": "model=egT<br>iteration=290<br>máquinas=%{x}<br>promedio de seleccion acumulada=%{y}<extra></extra>",
           "legendgroup": "egT",
           "marker": {
            "color": "#EF553B",
            "pattern": {
             "shape": ""
            }
           },
           "name": "egT",
           "offsetgroup": "egT",
           "orientation": "v",
           "showlegend": true,
           "textposition": "auto",
           "type": "bar",
           "x": [
            "0_egT",
            "1_egT",
            "2_egT"
           ],
           "xaxis": "x",
           "y": [
            0.5,
            290.5,
            0
           ],
           "yaxis": "y"
          },
          {
           "alignmentgroup": "True",
           "hovertemplate": "model=egF<br>iteration=290<br>máquinas=%{x}<br>promedio de seleccion acumulada=%{y}<extra></extra>",
           "legendgroup": "egF",
           "marker": {
            "color": "#00cc96",
            "pattern": {
             "shape": ""
            }
           },
           "name": "egF",
           "offsetgroup": "egF",
           "orientation": "v",
           "showlegend": true,
           "textposition": "auto",
           "type": "bar",
           "x": [
            "0_egF",
            "1_egF",
            "2_egF"
           ],
           "xaxis": "x",
           "y": [
            11.5,
            140.5,
            139
           ],
           "yaxis": "y"
          },
          {
           "alignmentgroup": "True",
           "hovertemplate": "model=UCB<br>iteration=290<br>máquinas=%{x}<br>promedio de seleccion acumulada=%{y}<extra></extra>",
           "legendgroup": "UCB",
           "marker": {
            "color": "#ab63fa",
            "pattern": {
             "shape": ""
            }
           },
           "name": "UCB",
           "offsetgroup": "UCB",
           "orientation": "v",
           "showlegend": true,
           "textposition": "auto",
           "type": "bar",
           "x": [
            "0_UCB",
            "1_UCB",
            "2_UCB"
           ],
           "xaxis": "x",
           "y": [
            11.5,
            19.5,
            260
           ],
           "yaxis": "y"
          }
         ],
         "name": "290"
        },
        {
         "data": [
          {
           "alignmentgroup": "True",
           "hovertemplate": "model=TS<br>iteration=300<br>máquinas=%{x}<br>promedio de seleccion acumulada=%{y}<extra></extra>",
           "legendgroup": "TS",
           "marker": {
            "color": "#636efa",
            "pattern": {
             "shape": ""
            }
           },
           "name": "TS",
           "offsetgroup": "TS",
           "orientation": "v",
           "showlegend": true,
           "textposition": "auto",
           "type": "bar",
           "x": [
            "0_TS",
            "1_TS",
            "2_TS"
           ],
           "xaxis": "x",
           "y": [
            3.5,
            6.5,
            291
           ],
           "yaxis": "y"
          },
          {
           "alignmentgroup": "True",
           "hovertemplate": "model=egT<br>iteration=300<br>máquinas=%{x}<br>promedio de seleccion acumulada=%{y}<extra></extra>",
           "legendgroup": "egT",
           "marker": {
            "color": "#EF553B",
            "pattern": {
             "shape": ""
            }
           },
           "name": "egT",
           "offsetgroup": "egT",
           "orientation": "v",
           "showlegend": true,
           "textposition": "auto",
           "type": "bar",
           "x": [
            "0_egT",
            "1_egT",
            "2_egT"
           ],
           "xaxis": "x",
           "y": [
            0.5,
            300.5,
            0
           ],
           "yaxis": "y"
          },
          {
           "alignmentgroup": "True",
           "hovertemplate": "model=egF<br>iteration=300<br>máquinas=%{x}<br>promedio de seleccion acumulada=%{y}<extra></extra>",
           "legendgroup": "egF",
           "marker": {
            "color": "#00cc96",
            "pattern": {
             "shape": ""
            }
           },
           "name": "egF",
           "offsetgroup": "egF",
           "orientation": "v",
           "showlegend": true,
           "textposition": "auto",
           "type": "bar",
           "x": [
            "0_egF",
            "1_egF",
            "2_egF"
           ],
           "xaxis": "x",
           "y": [
            12.5,
            145,
            143.5
           ],
           "yaxis": "y"
          },
          {
           "alignmentgroup": "True",
           "hovertemplate": "model=UCB<br>iteration=300<br>máquinas=%{x}<br>promedio de seleccion acumulada=%{y}<extra></extra>",
           "legendgroup": "UCB",
           "marker": {
            "color": "#ab63fa",
            "pattern": {
             "shape": ""
            }
           },
           "name": "UCB",
           "offsetgroup": "UCB",
           "orientation": "v",
           "showlegend": true,
           "textposition": "auto",
           "type": "bar",
           "x": [
            "0_UCB",
            "1_UCB",
            "2_UCB"
           ],
           "xaxis": "x",
           "y": [
            11.5,
            19.5,
            270
           ],
           "yaxis": "y"
          }
         ],
         "name": "300"
        },
        {
         "data": [
          {
           "alignmentgroup": "True",
           "hovertemplate": "model=TS<br>iteration=310<br>máquinas=%{x}<br>promedio de seleccion acumulada=%{y}<extra></extra>",
           "legendgroup": "TS",
           "marker": {
            "color": "#636efa",
            "pattern": {
             "shape": ""
            }
           },
           "name": "TS",
           "offsetgroup": "TS",
           "orientation": "v",
           "showlegend": true,
           "textposition": "auto",
           "type": "bar",
           "x": [
            "0_TS",
            "1_TS",
            "2_TS"
           ],
           "xaxis": "x",
           "y": [
            3.5,
            6.5,
            301
           ],
           "yaxis": "y"
          },
          {
           "alignmentgroup": "True",
           "hovertemplate": "model=egT<br>iteration=310<br>máquinas=%{x}<br>promedio de seleccion acumulada=%{y}<extra></extra>",
           "legendgroup": "egT",
           "marker": {
            "color": "#EF553B",
            "pattern": {
             "shape": ""
            }
           },
           "name": "egT",
           "offsetgroup": "egT",
           "orientation": "v",
           "showlegend": true,
           "textposition": "auto",
           "type": "bar",
           "x": [
            "0_egT",
            "1_egT",
            "2_egT"
           ],
           "xaxis": "x",
           "y": [
            0.5,
            310.5,
            0
           ],
           "yaxis": "y"
          },
          {
           "alignmentgroup": "True",
           "hovertemplate": "model=egF<br>iteration=310<br>máquinas=%{x}<br>promedio de seleccion acumulada=%{y}<extra></extra>",
           "legendgroup": "egF",
           "marker": {
            "color": "#00cc96",
            "pattern": {
             "shape": ""
            }
           },
           "name": "egF",
           "offsetgroup": "egF",
           "orientation": "v",
           "showlegend": true,
           "textposition": "auto",
           "type": "bar",
           "x": [
            "0_egF",
            "1_egF",
            "2_egF"
           ],
           "xaxis": "x",
           "y": [
            13,
            149,
            149
           ],
           "yaxis": "y"
          },
          {
           "alignmentgroup": "True",
           "hovertemplate": "model=UCB<br>iteration=310<br>máquinas=%{x}<br>promedio de seleccion acumulada=%{y}<extra></extra>",
           "legendgroup": "UCB",
           "marker": {
            "color": "#ab63fa",
            "pattern": {
             "shape": ""
            }
           },
           "name": "UCB",
           "offsetgroup": "UCB",
           "orientation": "v",
           "showlegend": true,
           "textposition": "auto",
           "type": "bar",
           "x": [
            "0_UCB",
            "1_UCB",
            "2_UCB"
           ],
           "xaxis": "x",
           "y": [
            11.5,
            19.5,
            280
           ],
           "yaxis": "y"
          }
         ],
         "name": "310"
        },
        {
         "data": [
          {
           "alignmentgroup": "True",
           "hovertemplate": "model=TS<br>iteration=320<br>máquinas=%{x}<br>promedio de seleccion acumulada=%{y}<extra></extra>",
           "legendgroup": "TS",
           "marker": {
            "color": "#636efa",
            "pattern": {
             "shape": ""
            }
           },
           "name": "TS",
           "offsetgroup": "TS",
           "orientation": "v",
           "showlegend": true,
           "textposition": "auto",
           "type": "bar",
           "x": [
            "0_TS",
            "1_TS",
            "2_TS"
           ],
           "xaxis": "x",
           "y": [
            3.5,
            6.5,
            311
           ],
           "yaxis": "y"
          },
          {
           "alignmentgroup": "True",
           "hovertemplate": "model=egT<br>iteration=320<br>máquinas=%{x}<br>promedio de seleccion acumulada=%{y}<extra></extra>",
           "legendgroup": "egT",
           "marker": {
            "color": "#EF553B",
            "pattern": {
             "shape": ""
            }
           },
           "name": "egT",
           "offsetgroup": "egT",
           "orientation": "v",
           "showlegend": true,
           "textposition": "auto",
           "type": "bar",
           "x": [
            "0_egT",
            "1_egT",
            "2_egT"
           ],
           "xaxis": "x",
           "y": [
            0.5,
            320.5,
            0
           ],
           "yaxis": "y"
          },
          {
           "alignmentgroup": "True",
           "hovertemplate": "model=egF<br>iteration=320<br>máquinas=%{x}<br>promedio de seleccion acumulada=%{y}<extra></extra>",
           "legendgroup": "egF",
           "marker": {
            "color": "#00cc96",
            "pattern": {
             "shape": ""
            }
           },
           "name": "egF",
           "offsetgroup": "egF",
           "orientation": "v",
           "showlegend": true,
           "textposition": "auto",
           "type": "bar",
           "x": [
            "0_egF",
            "1_egF",
            "2_egF"
           ],
           "xaxis": "x",
           "y": [
            13,
            154,
            154
           ],
           "yaxis": "y"
          },
          {
           "alignmentgroup": "True",
           "hovertemplate": "model=UCB<br>iteration=320<br>máquinas=%{x}<br>promedio de seleccion acumulada=%{y}<extra></extra>",
           "legendgroup": "UCB",
           "marker": {
            "color": "#ab63fa",
            "pattern": {
             "shape": ""
            }
           },
           "name": "UCB",
           "offsetgroup": "UCB",
           "orientation": "v",
           "showlegend": true,
           "textposition": "auto",
           "type": "bar",
           "x": [
            "0_UCB",
            "1_UCB",
            "2_UCB"
           ],
           "xaxis": "x",
           "y": [
            11.5,
            20,
            289.5
           ],
           "yaxis": "y"
          }
         ],
         "name": "320"
        },
        {
         "data": [
          {
           "alignmentgroup": "True",
           "hovertemplate": "model=TS<br>iteration=330<br>máquinas=%{x}<br>promedio de seleccion acumulada=%{y}<extra></extra>",
           "legendgroup": "TS",
           "marker": {
            "color": "#636efa",
            "pattern": {
             "shape": ""
            }
           },
           "name": "TS",
           "offsetgroup": "TS",
           "orientation": "v",
           "showlegend": true,
           "textposition": "auto",
           "type": "bar",
           "x": [
            "0_TS",
            "1_TS",
            "2_TS"
           ],
           "xaxis": "x",
           "y": [
            3.5,
            6.5,
            321
           ],
           "yaxis": "y"
          },
          {
           "alignmentgroup": "True",
           "hovertemplate": "model=egT<br>iteration=330<br>máquinas=%{x}<br>promedio de seleccion acumulada=%{y}<extra></extra>",
           "legendgroup": "egT",
           "marker": {
            "color": "#EF553B",
            "pattern": {
             "shape": ""
            }
           },
           "name": "egT",
           "offsetgroup": "egT",
           "orientation": "v",
           "showlegend": true,
           "textposition": "auto",
           "type": "bar",
           "x": [
            "0_egT",
            "1_egT",
            "2_egT"
           ],
           "xaxis": "x",
           "y": [
            0.5,
            330.5,
            0
           ],
           "yaxis": "y"
          },
          {
           "alignmentgroup": "True",
           "hovertemplate": "model=egF<br>iteration=330<br>máquinas=%{x}<br>promedio de seleccion acumulada=%{y}<extra></extra>",
           "legendgroup": "egF",
           "marker": {
            "color": "#00cc96",
            "pattern": {
             "shape": ""
            }
           },
           "name": "egF",
           "offsetgroup": "egF",
           "orientation": "v",
           "showlegend": true,
           "textposition": "auto",
           "type": "bar",
           "x": [
            "0_egF",
            "1_egF",
            "2_egF"
           ],
           "xaxis": "x",
           "y": [
            13,
            159,
            159
           ],
           "yaxis": "y"
          },
          {
           "alignmentgroup": "True",
           "hovertemplate": "model=UCB<br>iteration=330<br>máquinas=%{x}<br>promedio de seleccion acumulada=%{y}<extra></extra>",
           "legendgroup": "UCB",
           "marker": {
            "color": "#ab63fa",
            "pattern": {
             "shape": ""
            }
           },
           "name": "UCB",
           "offsetgroup": "UCB",
           "orientation": "v",
           "showlegend": true,
           "textposition": "auto",
           "type": "bar",
           "x": [
            "0_UCB",
            "1_UCB",
            "2_UCB"
           ],
           "xaxis": "x",
           "y": [
            12,
            20,
            299
           ],
           "yaxis": "y"
          }
         ],
         "name": "330"
        },
        {
         "data": [
          {
           "alignmentgroup": "True",
           "hovertemplate": "model=TS<br>iteration=340<br>máquinas=%{x}<br>promedio de seleccion acumulada=%{y}<extra></extra>",
           "legendgroup": "TS",
           "marker": {
            "color": "#636efa",
            "pattern": {
             "shape": ""
            }
           },
           "name": "TS",
           "offsetgroup": "TS",
           "orientation": "v",
           "showlegend": true,
           "textposition": "auto",
           "type": "bar",
           "x": [
            "0_TS",
            "1_TS",
            "2_TS"
           ],
           "xaxis": "x",
           "y": [
            3.5,
            6.5,
            331
           ],
           "yaxis": "y"
          },
          {
           "alignmentgroup": "True",
           "hovertemplate": "model=egT<br>iteration=340<br>máquinas=%{x}<br>promedio de seleccion acumulada=%{y}<extra></extra>",
           "legendgroup": "egT",
           "marker": {
            "color": "#EF553B",
            "pattern": {
             "shape": ""
            }
           },
           "name": "egT",
           "offsetgroup": "egT",
           "orientation": "v",
           "showlegend": true,
           "textposition": "auto",
           "type": "bar",
           "x": [
            "0_egT",
            "1_egT",
            "2_egT"
           ],
           "xaxis": "x",
           "y": [
            0.5,
            340.5,
            0
           ],
           "yaxis": "y"
          },
          {
           "alignmentgroup": "True",
           "hovertemplate": "model=egF<br>iteration=340<br>máquinas=%{x}<br>promedio de seleccion acumulada=%{y}<extra></extra>",
           "legendgroup": "egF",
           "marker": {
            "color": "#00cc96",
            "pattern": {
             "shape": ""
            }
           },
           "name": "egF",
           "offsetgroup": "egF",
           "orientation": "v",
           "showlegend": true,
           "textposition": "auto",
           "type": "bar",
           "x": [
            "0_egF",
            "1_egF",
            "2_egF"
           ],
           "xaxis": "x",
           "y": [
            13,
            164,
            164
           ],
           "yaxis": "y"
          },
          {
           "alignmentgroup": "True",
           "hovertemplate": "model=UCB<br>iteration=340<br>máquinas=%{x}<br>promedio de seleccion acumulada=%{y}<extra></extra>",
           "legendgroup": "UCB",
           "marker": {
            "color": "#ab63fa",
            "pattern": {
             "shape": ""
            }
           },
           "name": "UCB",
           "offsetgroup": "UCB",
           "orientation": "v",
           "showlegend": true,
           "textposition": "auto",
           "type": "bar",
           "x": [
            "0_UCB",
            "1_UCB",
            "2_UCB"
           ],
           "xaxis": "x",
           "y": [
            12,
            20.5,
            308.5
           ],
           "yaxis": "y"
          }
         ],
         "name": "340"
        },
        {
         "data": [
          {
           "alignmentgroup": "True",
           "hovertemplate": "model=TS<br>iteration=350<br>máquinas=%{x}<br>promedio de seleccion acumulada=%{y}<extra></extra>",
           "legendgroup": "TS",
           "marker": {
            "color": "#636efa",
            "pattern": {
             "shape": ""
            }
           },
           "name": "TS",
           "offsetgroup": "TS",
           "orientation": "v",
           "showlegend": true,
           "textposition": "auto",
           "type": "bar",
           "x": [
            "0_TS",
            "1_TS",
            "2_TS"
           ],
           "xaxis": "x",
           "y": [
            3.5,
            6.5,
            341
           ],
           "yaxis": "y"
          },
          {
           "alignmentgroup": "True",
           "hovertemplate": "model=egT<br>iteration=350<br>máquinas=%{x}<br>promedio de seleccion acumulada=%{y}<extra></extra>",
           "legendgroup": "egT",
           "marker": {
            "color": "#EF553B",
            "pattern": {
             "shape": ""
            }
           },
           "name": "egT",
           "offsetgroup": "egT",
           "orientation": "v",
           "showlegend": true,
           "textposition": "auto",
           "type": "bar",
           "x": [
            "0_egT",
            "1_egT",
            "2_egT"
           ],
           "xaxis": "x",
           "y": [
            0.5,
            350.5,
            0
           ],
           "yaxis": "y"
          },
          {
           "alignmentgroup": "True",
           "hovertemplate": "model=egF<br>iteration=350<br>máquinas=%{x}<br>promedio de seleccion acumulada=%{y}<extra></extra>",
           "legendgroup": "egF",
           "marker": {
            "color": "#00cc96",
            "pattern": {
             "shape": ""
            }
           },
           "name": "egF",
           "offsetgroup": "egF",
           "orientation": "v",
           "showlegend": true,
           "textposition": "auto",
           "type": "bar",
           "x": [
            "0_egF",
            "1_egF",
            "2_egF"
           ],
           "xaxis": "x",
           "y": [
            14,
            168,
            169
           ],
           "yaxis": "y"
          },
          {
           "alignmentgroup": "True",
           "hovertemplate": "model=UCB<br>iteration=350<br>máquinas=%{x}<br>promedio de seleccion acumulada=%{y}<extra></extra>",
           "legendgroup": "UCB",
           "marker": {
            "color": "#ab63fa",
            "pattern": {
             "shape": ""
            }
           },
           "name": "UCB",
           "offsetgroup": "UCB",
           "orientation": "v",
           "showlegend": true,
           "textposition": "auto",
           "type": "bar",
           "x": [
            "0_UCB",
            "1_UCB",
            "2_UCB"
           ],
           "xaxis": "x",
           "y": [
            12.5,
            21,
            317.5
           ],
           "yaxis": "y"
          }
         ],
         "name": "350"
        },
        {
         "data": [
          {
           "alignmentgroup": "True",
           "hovertemplate": "model=TS<br>iteration=360<br>máquinas=%{x}<br>promedio de seleccion acumulada=%{y}<extra></extra>",
           "legendgroup": "TS",
           "marker": {
            "color": "#636efa",
            "pattern": {
             "shape": ""
            }
           },
           "name": "TS",
           "offsetgroup": "TS",
           "orientation": "v",
           "showlegend": true,
           "textposition": "auto",
           "type": "bar",
           "x": [
            "0_TS",
            "1_TS",
            "2_TS"
           ],
           "xaxis": "x",
           "y": [
            3.5,
            6.5,
            351
           ],
           "yaxis": "y"
          },
          {
           "alignmentgroup": "True",
           "hovertemplate": "model=egT<br>iteration=360<br>máquinas=%{x}<br>promedio de seleccion acumulada=%{y}<extra></extra>",
           "legendgroup": "egT",
           "marker": {
            "color": "#EF553B",
            "pattern": {
             "shape": ""
            }
           },
           "name": "egT",
           "offsetgroup": "egT",
           "orientation": "v",
           "showlegend": true,
           "textposition": "auto",
           "type": "bar",
           "x": [
            "0_egT",
            "1_egT",
            "2_egT"
           ],
           "xaxis": "x",
           "y": [
            0.5,
            360.5,
            0
           ],
           "yaxis": "y"
          },
          {
           "alignmentgroup": "True",
           "hovertemplate": "model=egF<br>iteration=360<br>máquinas=%{x}<br>promedio de seleccion acumulada=%{y}<extra></extra>",
           "legendgroup": "egF",
           "marker": {
            "color": "#00cc96",
            "pattern": {
             "shape": ""
            }
           },
           "name": "egF",
           "offsetgroup": "egF",
           "orientation": "v",
           "showlegend": true,
           "textposition": "auto",
           "type": "bar",
           "x": [
            "0_egF",
            "1_egF",
            "2_egF"
           ],
           "xaxis": "x",
           "y": [
            14,
            173,
            174
           ],
           "yaxis": "y"
          },
          {
           "alignmentgroup": "True",
           "hovertemplate": "model=UCB<br>iteration=360<br>máquinas=%{x}<br>promedio de seleccion acumulada=%{y}<extra></extra>",
           "legendgroup": "UCB",
           "marker": {
            "color": "#ab63fa",
            "pattern": {
             "shape": ""
            }
           },
           "name": "UCB",
           "offsetgroup": "UCB",
           "orientation": "v",
           "showlegend": true,
           "textposition": "auto",
           "type": "bar",
           "x": [
            "0_UCB",
            "1_UCB",
            "2_UCB"
           ],
           "xaxis": "x",
           "y": [
            12.5,
            21.5,
            327
           ],
           "yaxis": "y"
          }
         ],
         "name": "360"
        },
        {
         "data": [
          {
           "alignmentgroup": "True",
           "hovertemplate": "model=TS<br>iteration=370<br>máquinas=%{x}<br>promedio de seleccion acumulada=%{y}<extra></extra>",
           "legendgroup": "TS",
           "marker": {
            "color": "#636efa",
            "pattern": {
             "shape": ""
            }
           },
           "name": "TS",
           "offsetgroup": "TS",
           "orientation": "v",
           "showlegend": true,
           "textposition": "auto",
           "type": "bar",
           "x": [
            "0_TS",
            "1_TS",
            "2_TS"
           ],
           "xaxis": "x",
           "y": [
            3.5,
            6.5,
            361
           ],
           "yaxis": "y"
          },
          {
           "alignmentgroup": "True",
           "hovertemplate": "model=egT<br>iteration=370<br>máquinas=%{x}<br>promedio de seleccion acumulada=%{y}<extra></extra>",
           "legendgroup": "egT",
           "marker": {
            "color": "#EF553B",
            "pattern": {
             "shape": ""
            }
           },
           "name": "egT",
           "offsetgroup": "egT",
           "orientation": "v",
           "showlegend": true,
           "textposition": "auto",
           "type": "bar",
           "x": [
            "0_egT",
            "1_egT",
            "2_egT"
           ],
           "xaxis": "x",
           "y": [
            0.5,
            370.5,
            0
           ],
           "yaxis": "y"
          },
          {
           "alignmentgroup": "True",
           "hovertemplate": "model=egF<br>iteration=370<br>máquinas=%{x}<br>promedio de seleccion acumulada=%{y}<extra></extra>",
           "legendgroup": "egF",
           "marker": {
            "color": "#00cc96",
            "pattern": {
             "shape": ""
            }
           },
           "name": "egF",
           "offsetgroup": "egF",
           "orientation": "v",
           "showlegend": true,
           "textposition": "auto",
           "type": "bar",
           "x": [
            "0_egF",
            "1_egF",
            "2_egF"
           ],
           "xaxis": "x",
           "y": [
            14.5,
            178.5,
            178
           ],
           "yaxis": "y"
          },
          {
           "alignmentgroup": "True",
           "hovertemplate": "model=UCB<br>iteration=370<br>máquinas=%{x}<br>promedio de seleccion acumulada=%{y}<extra></extra>",
           "legendgroup": "UCB",
           "marker": {
            "color": "#ab63fa",
            "pattern": {
             "shape": ""
            }
           },
           "name": "UCB",
           "offsetgroup": "UCB",
           "orientation": "v",
           "showlegend": true,
           "textposition": "auto",
           "type": "bar",
           "x": [
            "0_UCB",
            "1_UCB",
            "2_UCB"
           ],
           "xaxis": "x",
           "y": [
            12.5,
            21.5,
            337
           ],
           "yaxis": "y"
          }
         ],
         "name": "370"
        },
        {
         "data": [
          {
           "alignmentgroup": "True",
           "hovertemplate": "model=TS<br>iteration=380<br>máquinas=%{x}<br>promedio de seleccion acumulada=%{y}<extra></extra>",
           "legendgroup": "TS",
           "marker": {
            "color": "#636efa",
            "pattern": {
             "shape": ""
            }
           },
           "name": "TS",
           "offsetgroup": "TS",
           "orientation": "v",
           "showlegend": true,
           "textposition": "auto",
           "type": "bar",
           "x": [
            "0_TS",
            "1_TS",
            "2_TS"
           ],
           "xaxis": "x",
           "y": [
            3.5,
            6.5,
            371
           ],
           "yaxis": "y"
          },
          {
           "alignmentgroup": "True",
           "hovertemplate": "model=egT<br>iteration=380<br>máquinas=%{x}<br>promedio de seleccion acumulada=%{y}<extra></extra>",
           "legendgroup": "egT",
           "marker": {
            "color": "#EF553B",
            "pattern": {
             "shape": ""
            }
           },
           "name": "egT",
           "offsetgroup": "egT",
           "orientation": "v",
           "showlegend": true,
           "textposition": "auto",
           "type": "bar",
           "x": [
            "0_egT",
            "1_egT",
            "2_egT"
           ],
           "xaxis": "x",
           "y": [
            0.5,
            380.5,
            0
           ],
           "yaxis": "y"
          },
          {
           "alignmentgroup": "True",
           "hovertemplate": "model=egF<br>iteration=380<br>máquinas=%{x}<br>promedio de seleccion acumulada=%{y}<extra></extra>",
           "legendgroup": "egF",
           "marker": {
            "color": "#00cc96",
            "pattern": {
             "shape": ""
            }
           },
           "name": "egF",
           "offsetgroup": "egF",
           "orientation": "v",
           "showlegend": true,
           "textposition": "auto",
           "type": "bar",
           "x": [
            "0_egF",
            "1_egF",
            "2_egF"
           ],
           "xaxis": "x",
           "y": [
            15.5,
            184,
            181.5
           ],
           "yaxis": "y"
          },
          {
           "alignmentgroup": "True",
           "hovertemplate": "model=UCB<br>iteration=380<br>máquinas=%{x}<br>promedio de seleccion acumulada=%{y}<extra></extra>",
           "legendgroup": "UCB",
           "marker": {
            "color": "#ab63fa",
            "pattern": {
             "shape": ""
            }
           },
           "name": "UCB",
           "offsetgroup": "UCB",
           "orientation": "v",
           "showlegend": true,
           "textposition": "auto",
           "type": "bar",
           "x": [
            "0_UCB",
            "1_UCB",
            "2_UCB"
           ],
           "xaxis": "x",
           "y": [
            12.5,
            21.5,
            347
           ],
           "yaxis": "y"
          }
         ],
         "name": "380"
        },
        {
         "data": [
          {
           "alignmentgroup": "True",
           "hovertemplate": "model=TS<br>iteration=390<br>máquinas=%{x}<br>promedio de seleccion acumulada=%{y}<extra></extra>",
           "legendgroup": "TS",
           "marker": {
            "color": "#636efa",
            "pattern": {
             "shape": ""
            }
           },
           "name": "TS",
           "offsetgroup": "TS",
           "orientation": "v",
           "showlegend": true,
           "textposition": "auto",
           "type": "bar",
           "x": [
            "0_TS",
            "1_TS",
            "2_TS"
           ],
           "xaxis": "x",
           "y": [
            3.5,
            6.5,
            381
           ],
           "yaxis": "y"
          },
          {
           "alignmentgroup": "True",
           "hovertemplate": "model=egT<br>iteration=390<br>máquinas=%{x}<br>promedio de seleccion acumulada=%{y}<extra></extra>",
           "legendgroup": "egT",
           "marker": {
            "color": "#EF553B",
            "pattern": {
             "shape": ""
            }
           },
           "name": "egT",
           "offsetgroup": "egT",
           "orientation": "v",
           "showlegend": true,
           "textposition": "auto",
           "type": "bar",
           "x": [
            "0_egT",
            "1_egT",
            "2_egT"
           ],
           "xaxis": "x",
           "y": [
            0.5,
            390.5,
            0
           ],
           "yaxis": "y"
          },
          {
           "alignmentgroup": "True",
           "hovertemplate": "model=egF<br>iteration=390<br>máquinas=%{x}<br>promedio de seleccion acumulada=%{y}<extra></extra>",
           "legendgroup": "egF",
           "marker": {
            "color": "#00cc96",
            "pattern": {
             "shape": ""
            }
           },
           "name": "egF",
           "offsetgroup": "egF",
           "orientation": "v",
           "showlegend": true,
           "textposition": "auto",
           "type": "bar",
           "x": [
            "0_egF",
            "1_egF",
            "2_egF"
           ],
           "xaxis": "x",
           "y": [
            15.5,
            189,
            186.5
           ],
           "yaxis": "y"
          },
          {
           "alignmentgroup": "True",
           "hovertemplate": "model=UCB<br>iteration=390<br>máquinas=%{x}<br>promedio de seleccion acumulada=%{y}<extra></extra>",
           "legendgroup": "UCB",
           "marker": {
            "color": "#ab63fa",
            "pattern": {
             "shape": ""
            }
           },
           "name": "UCB",
           "offsetgroup": "UCB",
           "orientation": "v",
           "showlegend": true,
           "textposition": "auto",
           "type": "bar",
           "x": [
            "0_UCB",
            "1_UCB",
            "2_UCB"
           ],
           "xaxis": "x",
           "y": [
            12.5,
            21.5,
            357
           ],
           "yaxis": "y"
          }
         ],
         "name": "390"
        },
        {
         "data": [
          {
           "alignmentgroup": "True",
           "hovertemplate": "model=TS<br>iteration=400<br>máquinas=%{x}<br>promedio de seleccion acumulada=%{y}<extra></extra>",
           "legendgroup": "TS",
           "marker": {
            "color": "#636efa",
            "pattern": {
             "shape": ""
            }
           },
           "name": "TS",
           "offsetgroup": "TS",
           "orientation": "v",
           "showlegend": true,
           "textposition": "auto",
           "type": "bar",
           "x": [
            "0_TS",
            "1_TS",
            "2_TS"
           ],
           "xaxis": "x",
           "y": [
            3.5,
            6.5,
            391
           ],
           "yaxis": "y"
          },
          {
           "alignmentgroup": "True",
           "hovertemplate": "model=egT<br>iteration=400<br>máquinas=%{x}<br>promedio de seleccion acumulada=%{y}<extra></extra>",
           "legendgroup": "egT",
           "marker": {
            "color": "#EF553B",
            "pattern": {
             "shape": ""
            }
           },
           "name": "egT",
           "offsetgroup": "egT",
           "orientation": "v",
           "showlegend": true,
           "textposition": "auto",
           "type": "bar",
           "x": [
            "0_egT",
            "1_egT",
            "2_egT"
           ],
           "xaxis": "x",
           "y": [
            0.5,
            400.5,
            0
           ],
           "yaxis": "y"
          },
          {
           "alignmentgroup": "True",
           "hovertemplate": "model=egF<br>iteration=400<br>máquinas=%{x}<br>promedio de seleccion acumulada=%{y}<extra></extra>",
           "legendgroup": "egF",
           "marker": {
            "color": "#00cc96",
            "pattern": {
             "shape": ""
            }
           },
           "name": "egF",
           "offsetgroup": "egF",
           "orientation": "v",
           "showlegend": true,
           "textposition": "auto",
           "type": "bar",
           "x": [
            "0_egF",
            "1_egF",
            "2_egF"
           ],
           "xaxis": "x",
           "y": [
            17,
            192.5,
            191.5
           ],
           "yaxis": "y"
          },
          {
           "alignmentgroup": "True",
           "hovertemplate": "model=UCB<br>iteration=400<br>máquinas=%{x}<br>promedio de seleccion acumulada=%{y}<extra></extra>",
           "legendgroup": "UCB",
           "marker": {
            "color": "#ab63fa",
            "pattern": {
             "shape": ""
            }
           },
           "name": "UCB",
           "offsetgroup": "UCB",
           "orientation": "v",
           "showlegend": true,
           "textposition": "auto",
           "type": "bar",
           "x": [
            "0_UCB",
            "1_UCB",
            "2_UCB"
           ],
           "xaxis": "x",
           "y": [
            13,
            22,
            366
           ],
           "yaxis": "y"
          }
         ],
         "name": "400"
        },
        {
         "data": [
          {
           "alignmentgroup": "True",
           "hovertemplate": "model=TS<br>iteration=410<br>máquinas=%{x}<br>promedio de seleccion acumulada=%{y}<extra></extra>",
           "legendgroup": "TS",
           "marker": {
            "color": "#636efa",
            "pattern": {
             "shape": ""
            }
           },
           "name": "TS",
           "offsetgroup": "TS",
           "orientation": "v",
           "showlegend": true,
           "textposition": "auto",
           "type": "bar",
           "x": [
            "0_TS",
            "1_TS",
            "2_TS"
           ],
           "xaxis": "x",
           "y": [
            3.5,
            6.5,
            401
           ],
           "yaxis": "y"
          },
          {
           "alignmentgroup": "True",
           "hovertemplate": "model=egT<br>iteration=410<br>máquinas=%{x}<br>promedio de seleccion acumulada=%{y}<extra></extra>",
           "legendgroup": "egT",
           "marker": {
            "color": "#EF553B",
            "pattern": {
             "shape": ""
            }
           },
           "name": "egT",
           "offsetgroup": "egT",
           "orientation": "v",
           "showlegend": true,
           "textposition": "auto",
           "type": "bar",
           "x": [
            "0_egT",
            "1_egT",
            "2_egT"
           ],
           "xaxis": "x",
           "y": [
            0.5,
            410.5,
            0
           ],
           "yaxis": "y"
          },
          {
           "alignmentgroup": "True",
           "hovertemplate": "model=egF<br>iteration=410<br>máquinas=%{x}<br>promedio de seleccion acumulada=%{y}<extra></extra>",
           "legendgroup": "egF",
           "marker": {
            "color": "#00cc96",
            "pattern": {
             "shape": ""
            }
           },
           "name": "egF",
           "offsetgroup": "egF",
           "orientation": "v",
           "showlegend": true,
           "textposition": "auto",
           "type": "bar",
           "x": [
            "0_egF",
            "1_egF",
            "2_egF"
           ],
           "xaxis": "x",
           "y": [
            18.5,
            196.5,
            196
           ],
           "yaxis": "y"
          },
          {
           "alignmentgroup": "True",
           "hovertemplate": "model=UCB<br>iteration=410<br>máquinas=%{x}<br>promedio de seleccion acumulada=%{y}<extra></extra>",
           "legendgroup": "UCB",
           "marker": {
            "color": "#ab63fa",
            "pattern": {
             "shape": ""
            }
           },
           "name": "UCB",
           "offsetgroup": "UCB",
           "orientation": "v",
           "showlegend": true,
           "textposition": "auto",
           "type": "bar",
           "x": [
            "0_UCB",
            "1_UCB",
            "2_UCB"
           ],
           "xaxis": "x",
           "y": [
            13.5,
            22.5,
            375
           ],
           "yaxis": "y"
          }
         ],
         "name": "410"
        },
        {
         "data": [
          {
           "alignmentgroup": "True",
           "hovertemplate": "model=TS<br>iteration=420<br>máquinas=%{x}<br>promedio de seleccion acumulada=%{y}<extra></extra>",
           "legendgroup": "TS",
           "marker": {
            "color": "#636efa",
            "pattern": {
             "shape": ""
            }
           },
           "name": "TS",
           "offsetgroup": "TS",
           "orientation": "v",
           "showlegend": true,
           "textposition": "auto",
           "type": "bar",
           "x": [
            "0_TS",
            "1_TS",
            "2_TS"
           ],
           "xaxis": "x",
           "y": [
            3.5,
            6.5,
            411
           ],
           "yaxis": "y"
          },
          {
           "alignmentgroup": "True",
           "hovertemplate": "model=egT<br>iteration=420<br>máquinas=%{x}<br>promedio de seleccion acumulada=%{y}<extra></extra>",
           "legendgroup": "egT",
           "marker": {
            "color": "#EF553B",
            "pattern": {
             "shape": ""
            }
           },
           "name": "egT",
           "offsetgroup": "egT",
           "orientation": "v",
           "showlegend": true,
           "textposition": "auto",
           "type": "bar",
           "x": [
            "0_egT",
            "1_egT",
            "2_egT"
           ],
           "xaxis": "x",
           "y": [
            0.5,
            420.5,
            0
           ],
           "yaxis": "y"
          },
          {
           "alignmentgroup": "True",
           "hovertemplate": "model=egF<br>iteration=420<br>máquinas=%{x}<br>promedio de seleccion acumulada=%{y}<extra></extra>",
           "legendgroup": "egF",
           "marker": {
            "color": "#00cc96",
            "pattern": {
             "shape": ""
            }
           },
           "name": "egF",
           "offsetgroup": "egF",
           "orientation": "v",
           "showlegend": true,
           "textposition": "auto",
           "type": "bar",
           "x": [
            "0_egF",
            "1_egF",
            "2_egF"
           ],
           "xaxis": "x",
           "y": [
            19.5,
            201,
            200.5
           ],
           "yaxis": "y"
          },
          {
           "alignmentgroup": "True",
           "hovertemplate": "model=UCB<br>iteration=420<br>máquinas=%{x}<br>promedio de seleccion acumulada=%{y}<extra></extra>",
           "legendgroup": "UCB",
           "marker": {
            "color": "#ab63fa",
            "pattern": {
             "shape": ""
            }
           },
           "name": "UCB",
           "offsetgroup": "UCB",
           "orientation": "v",
           "showlegend": true,
           "textposition": "auto",
           "type": "bar",
           "x": [
            "0_UCB",
            "1_UCB",
            "2_UCB"
           ],
           "xaxis": "x",
           "y": [
            13.5,
            22.5,
            385
           ],
           "yaxis": "y"
          }
         ],
         "name": "420"
        },
        {
         "data": [
          {
           "alignmentgroup": "True",
           "hovertemplate": "model=TS<br>iteration=430<br>máquinas=%{x}<br>promedio de seleccion acumulada=%{y}<extra></extra>",
           "legendgroup": "TS",
           "marker": {
            "color": "#636efa",
            "pattern": {
             "shape": ""
            }
           },
           "name": "TS",
           "offsetgroup": "TS",
           "orientation": "v",
           "showlegend": true,
           "textposition": "auto",
           "type": "bar",
           "x": [
            "0_TS",
            "1_TS",
            "2_TS"
           ],
           "xaxis": "x",
           "y": [
            3.5,
            6.5,
            421
           ],
           "yaxis": "y"
          },
          {
           "alignmentgroup": "True",
           "hovertemplate": "model=egT<br>iteration=430<br>máquinas=%{x}<br>promedio de seleccion acumulada=%{y}<extra></extra>",
           "legendgroup": "egT",
           "marker": {
            "color": "#EF553B",
            "pattern": {
             "shape": ""
            }
           },
           "name": "egT",
           "offsetgroup": "egT",
           "orientation": "v",
           "showlegend": true,
           "textposition": "auto",
           "type": "bar",
           "x": [
            "0_egT",
            "1_egT",
            "2_egT"
           ],
           "xaxis": "x",
           "y": [
            0.5,
            430.5,
            0
           ],
           "yaxis": "y"
          },
          {
           "alignmentgroup": "True",
           "hovertemplate": "model=egF<br>iteration=430<br>máquinas=%{x}<br>promedio de seleccion acumulada=%{y}<extra></extra>",
           "legendgroup": "egF",
           "marker": {
            "color": "#00cc96",
            "pattern": {
             "shape": ""
            }
           },
           "name": "egF",
           "offsetgroup": "egF",
           "orientation": "v",
           "showlegend": true,
           "textposition": "auto",
           "type": "bar",
           "x": [
            "0_egF",
            "1_egF",
            "2_egF"
           ],
           "xaxis": "x",
           "y": [
            21,
            206,
            204
           ],
           "yaxis": "y"
          },
          {
           "alignmentgroup": "True",
           "hovertemplate": "model=UCB<br>iteration=430<br>máquinas=%{x}<br>promedio de seleccion acumulada=%{y}<extra></extra>",
           "legendgroup": "UCB",
           "marker": {
            "color": "#ab63fa",
            "pattern": {
             "shape": ""
            }
           },
           "name": "UCB",
           "offsetgroup": "UCB",
           "orientation": "v",
           "showlegend": true,
           "textposition": "auto",
           "type": "bar",
           "x": [
            "0_UCB",
            "1_UCB",
            "2_UCB"
           ],
           "xaxis": "x",
           "y": [
            13.5,
            22.5,
            395
           ],
           "yaxis": "y"
          }
         ],
         "name": "430"
        },
        {
         "data": [
          {
           "alignmentgroup": "True",
           "hovertemplate": "model=TS<br>iteration=440<br>máquinas=%{x}<br>promedio de seleccion acumulada=%{y}<extra></extra>",
           "legendgroup": "TS",
           "marker": {
            "color": "#636efa",
            "pattern": {
             "shape": ""
            }
           },
           "name": "TS",
           "offsetgroup": "TS",
           "orientation": "v",
           "showlegend": true,
           "textposition": "auto",
           "type": "bar",
           "x": [
            "0_TS",
            "1_TS",
            "2_TS"
           ],
           "xaxis": "x",
           "y": [
            3.5,
            6.5,
            431
           ],
           "yaxis": "y"
          },
          {
           "alignmentgroup": "True",
           "hovertemplate": "model=egT<br>iteration=440<br>máquinas=%{x}<br>promedio de seleccion acumulada=%{y}<extra></extra>",
           "legendgroup": "egT",
           "marker": {
            "color": "#EF553B",
            "pattern": {
             "shape": ""
            }
           },
           "name": "egT",
           "offsetgroup": "egT",
           "orientation": "v",
           "showlegend": true,
           "textposition": "auto",
           "type": "bar",
           "x": [
            "0_egT",
            "1_egT",
            "2_egT"
           ],
           "xaxis": "x",
           "y": [
            0.5,
            440.5,
            0
           ],
           "yaxis": "y"
          },
          {
           "alignmentgroup": "True",
           "hovertemplate": "model=egF<br>iteration=440<br>máquinas=%{x}<br>promedio de seleccion acumulada=%{y}<extra></extra>",
           "legendgroup": "egF",
           "marker": {
            "color": "#00cc96",
            "pattern": {
             "shape": ""
            }
           },
           "name": "egF",
           "offsetgroup": "egF",
           "orientation": "v",
           "showlegend": true,
           "textposition": "auto",
           "type": "bar",
           "x": [
            "0_egF",
            "1_egF",
            "2_egF"
           ],
           "xaxis": "x",
           "y": [
            21.5,
            210.5,
            209
           ],
           "yaxis": "y"
          },
          {
           "alignmentgroup": "True",
           "hovertemplate": "model=UCB<br>iteration=440<br>máquinas=%{x}<br>promedio de seleccion acumulada=%{y}<extra></extra>",
           "legendgroup": "UCB",
           "marker": {
            "color": "#ab63fa",
            "pattern": {
             "shape": ""
            }
           },
           "name": "UCB",
           "offsetgroup": "UCB",
           "orientation": "v",
           "showlegend": true,
           "textposition": "auto",
           "type": "bar",
           "x": [
            "0_UCB",
            "1_UCB",
            "2_UCB"
           ],
           "xaxis": "x",
           "y": [
            13.5,
            22.5,
            405
           ],
           "yaxis": "y"
          }
         ],
         "name": "440"
        },
        {
         "data": [
          {
           "alignmentgroup": "True",
           "hovertemplate": "model=TS<br>iteration=450<br>máquinas=%{x}<br>promedio de seleccion acumulada=%{y}<extra></extra>",
           "legendgroup": "TS",
           "marker": {
            "color": "#636efa",
            "pattern": {
             "shape": ""
            }
           },
           "name": "TS",
           "offsetgroup": "TS",
           "orientation": "v",
           "showlegend": true,
           "textposition": "auto",
           "type": "bar",
           "x": [
            "0_TS",
            "1_TS",
            "2_TS"
           ],
           "xaxis": "x",
           "y": [
            3.5,
            6.5,
            441
           ],
           "yaxis": "y"
          },
          {
           "alignmentgroup": "True",
           "hovertemplate": "model=egT<br>iteration=450<br>máquinas=%{x}<br>promedio de seleccion acumulada=%{y}<extra></extra>",
           "legendgroup": "egT",
           "marker": {
            "color": "#EF553B",
            "pattern": {
             "shape": ""
            }
           },
           "name": "egT",
           "offsetgroup": "egT",
           "orientation": "v",
           "showlegend": true,
           "textposition": "auto",
           "type": "bar",
           "x": [
            "0_egT",
            "1_egT",
            "2_egT"
           ],
           "xaxis": "x",
           "y": [
            0.5,
            450.5,
            0
           ],
           "yaxis": "y"
          },
          {
           "alignmentgroup": "True",
           "hovertemplate": "model=egF<br>iteration=450<br>máquinas=%{x}<br>promedio de seleccion acumulada=%{y}<extra></extra>",
           "legendgroup": "egF",
           "marker": {
            "color": "#00cc96",
            "pattern": {
             "shape": ""
            }
           },
           "name": "egF",
           "offsetgroup": "egF",
           "orientation": "v",
           "showlegend": true,
           "textposition": "auto",
           "type": "bar",
           "x": [
            "0_egF",
            "1_egF",
            "2_egF"
           ],
           "xaxis": "x",
           "y": [
            22,
            215,
            214
           ],
           "yaxis": "y"
          },
          {
           "alignmentgroup": "True",
           "hovertemplate": "model=UCB<br>iteration=450<br>máquinas=%{x}<br>promedio de seleccion acumulada=%{y}<extra></extra>",
           "legendgroup": "UCB",
           "marker": {
            "color": "#ab63fa",
            "pattern": {
             "shape": ""
            }
           },
           "name": "UCB",
           "offsetgroup": "UCB",
           "orientation": "v",
           "showlegend": true,
           "textposition": "auto",
           "type": "bar",
           "x": [
            "0_UCB",
            "1_UCB",
            "2_UCB"
           ],
           "xaxis": "x",
           "y": [
            13.5,
            23,
            414.5
           ],
           "yaxis": "y"
          }
         ],
         "name": "450"
        },
        {
         "data": [
          {
           "alignmentgroup": "True",
           "hovertemplate": "model=TS<br>iteration=460<br>máquinas=%{x}<br>promedio de seleccion acumulada=%{y}<extra></extra>",
           "legendgroup": "TS",
           "marker": {
            "color": "#636efa",
            "pattern": {
             "shape": ""
            }
           },
           "name": "TS",
           "offsetgroup": "TS",
           "orientation": "v",
           "showlegend": true,
           "textposition": "auto",
           "type": "bar",
           "x": [
            "0_TS",
            "1_TS",
            "2_TS"
           ],
           "xaxis": "x",
           "y": [
            3.5,
            6.5,
            451
           ],
           "yaxis": "y"
          },
          {
           "alignmentgroup": "True",
           "hovertemplate": "model=egT<br>iteration=460<br>máquinas=%{x}<br>promedio de seleccion acumulada=%{y}<extra></extra>",
           "legendgroup": "egT",
           "marker": {
            "color": "#EF553B",
            "pattern": {
             "shape": ""
            }
           },
           "name": "egT",
           "offsetgroup": "egT",
           "orientation": "v",
           "showlegend": true,
           "textposition": "auto",
           "type": "bar",
           "x": [
            "0_egT",
            "1_egT",
            "2_egT"
           ],
           "xaxis": "x",
           "y": [
            0.5,
            460.5,
            0
           ],
           "yaxis": "y"
          },
          {
           "alignmentgroup": "True",
           "hovertemplate": "model=egF<br>iteration=460<br>máquinas=%{x}<br>promedio de seleccion acumulada=%{y}<extra></extra>",
           "legendgroup": "egF",
           "marker": {
            "color": "#00cc96",
            "pattern": {
             "shape": ""
            }
           },
           "name": "egF",
           "offsetgroup": "egF",
           "orientation": "v",
           "showlegend": true,
           "textposition": "auto",
           "type": "bar",
           "x": [
            "0_egF",
            "1_egF",
            "2_egF"
           ],
           "xaxis": "x",
           "y": [
            23,
            220,
            218
           ],
           "yaxis": "y"
          },
          {
           "alignmentgroup": "True",
           "hovertemplate": "model=UCB<br>iteration=460<br>máquinas=%{x}<br>promedio de seleccion acumulada=%{y}<extra></extra>",
           "legendgroup": "UCB",
           "marker": {
            "color": "#ab63fa",
            "pattern": {
             "shape": ""
            }
           },
           "name": "UCB",
           "offsetgroup": "UCB",
           "orientation": "v",
           "showlegend": true,
           "textposition": "auto",
           "type": "bar",
           "x": [
            "0_UCB",
            "1_UCB",
            "2_UCB"
           ],
           "xaxis": "x",
           "y": [
            13.5,
            23,
            424.5
           ],
           "yaxis": "y"
          }
         ],
         "name": "460"
        },
        {
         "data": [
          {
           "alignmentgroup": "True",
           "hovertemplate": "model=TS<br>iteration=470<br>máquinas=%{x}<br>promedio de seleccion acumulada=%{y}<extra></extra>",
           "legendgroup": "TS",
           "marker": {
            "color": "#636efa",
            "pattern": {
             "shape": ""
            }
           },
           "name": "TS",
           "offsetgroup": "TS",
           "orientation": "v",
           "showlegend": true,
           "textposition": "auto",
           "type": "bar",
           "x": [
            "0_TS",
            "1_TS",
            "2_TS"
           ],
           "xaxis": "x",
           "y": [
            3.5,
            6.5,
            461
           ],
           "yaxis": "y"
          },
          {
           "alignmentgroup": "True",
           "hovertemplate": "model=egT<br>iteration=470<br>máquinas=%{x}<br>promedio de seleccion acumulada=%{y}<extra></extra>",
           "legendgroup": "egT",
           "marker": {
            "color": "#EF553B",
            "pattern": {
             "shape": ""
            }
           },
           "name": "egT",
           "offsetgroup": "egT",
           "orientation": "v",
           "showlegend": true,
           "textposition": "auto",
           "type": "bar",
           "x": [
            "0_egT",
            "1_egT",
            "2_egT"
           ],
           "xaxis": "x",
           "y": [
            0.5,
            470.5,
            0
           ],
           "yaxis": "y"
          },
          {
           "alignmentgroup": "True",
           "hovertemplate": "model=egF<br>iteration=470<br>máquinas=%{x}<br>promedio de seleccion acumulada=%{y}<extra></extra>",
           "legendgroup": "egF",
           "marker": {
            "color": "#00cc96",
            "pattern": {
             "shape": ""
            }
           },
           "name": "egF",
           "offsetgroup": "egF",
           "orientation": "v",
           "showlegend": true,
           "textposition": "auto",
           "type": "bar",
           "x": [
            "0_egF",
            "1_egF",
            "2_egF"
           ],
           "xaxis": "x",
           "y": [
            23,
            225,
            223
           ],
           "yaxis": "y"
          },
          {
           "alignmentgroup": "True",
           "hovertemplate": "model=UCB<br>iteration=470<br>máquinas=%{x}<br>promedio de seleccion acumulada=%{y}<extra></extra>",
           "legendgroup": "UCB",
           "marker": {
            "color": "#ab63fa",
            "pattern": {
             "shape": ""
            }
           },
           "name": "UCB",
           "offsetgroup": "UCB",
           "orientation": "v",
           "showlegend": true,
           "textposition": "auto",
           "type": "bar",
           "x": [
            "0_UCB",
            "1_UCB",
            "2_UCB"
           ],
           "xaxis": "x",
           "y": [
            13.5,
            23,
            434.5
           ],
           "yaxis": "y"
          }
         ],
         "name": "470"
        },
        {
         "data": [
          {
           "alignmentgroup": "True",
           "hovertemplate": "model=TS<br>iteration=480<br>máquinas=%{x}<br>promedio de seleccion acumulada=%{y}<extra></extra>",
           "legendgroup": "TS",
           "marker": {
            "color": "#636efa",
            "pattern": {
             "shape": ""
            }
           },
           "name": "TS",
           "offsetgroup": "TS",
           "orientation": "v",
           "showlegend": true,
           "textposition": "auto",
           "type": "bar",
           "x": [
            "0_TS",
            "1_TS",
            "2_TS"
           ],
           "xaxis": "x",
           "y": [
            3.5,
            6.5,
            471
           ],
           "yaxis": "y"
          },
          {
           "alignmentgroup": "True",
           "hovertemplate": "model=egT<br>iteration=480<br>máquinas=%{x}<br>promedio de seleccion acumulada=%{y}<extra></extra>",
           "legendgroup": "egT",
           "marker": {
            "color": "#EF553B",
            "pattern": {
             "shape": ""
            }
           },
           "name": "egT",
           "offsetgroup": "egT",
           "orientation": "v",
           "showlegend": true,
           "textposition": "auto",
           "type": "bar",
           "x": [
            "0_egT",
            "1_egT",
            "2_egT"
           ],
           "xaxis": "x",
           "y": [
            0.5,
            480.5,
            0
           ],
           "yaxis": "y"
          },
          {
           "alignmentgroup": "True",
           "hovertemplate": "model=egF<br>iteration=480<br>máquinas=%{x}<br>promedio de seleccion acumulada=%{y}<extra></extra>",
           "legendgroup": "egF",
           "marker": {
            "color": "#00cc96",
            "pattern": {
             "shape": ""
            }
           },
           "name": "egF",
           "offsetgroup": "egF",
           "orientation": "v",
           "showlegend": true,
           "textposition": "auto",
           "type": "bar",
           "x": [
            "0_egF",
            "1_egF",
            "2_egF"
           ],
           "xaxis": "x",
           "y": [
            23,
            229.5,
            228.5
           ],
           "yaxis": "y"
          },
          {
           "alignmentgroup": "True",
           "hovertemplate": "model=UCB<br>iteration=480<br>máquinas=%{x}<br>promedio de seleccion acumulada=%{y}<extra></extra>",
           "legendgroup": "UCB",
           "marker": {
            "color": "#ab63fa",
            "pattern": {
             "shape": ""
            }
           },
           "name": "UCB",
           "offsetgroup": "UCB",
           "orientation": "v",
           "showlegend": true,
           "textposition": "auto",
           "type": "bar",
           "x": [
            "0_UCB",
            "1_UCB",
            "2_UCB"
           ],
           "xaxis": "x",
           "y": [
            13.5,
            23,
            444.5
           ],
           "yaxis": "y"
          }
         ],
         "name": "480"
        },
        {
         "data": [
          {
           "alignmentgroup": "True",
           "hovertemplate": "model=TS<br>iteration=490<br>máquinas=%{x}<br>promedio de seleccion acumulada=%{y}<extra></extra>",
           "legendgroup": "TS",
           "marker": {
            "color": "#636efa",
            "pattern": {
             "shape": ""
            }
           },
           "name": "TS",
           "offsetgroup": "TS",
           "orientation": "v",
           "showlegend": true,
           "textposition": "auto",
           "type": "bar",
           "x": [
            "0_TS",
            "1_TS",
            "2_TS"
           ],
           "xaxis": "x",
           "y": [
            3.5,
            6.5,
            481
           ],
           "yaxis": "y"
          },
          {
           "alignmentgroup": "True",
           "hovertemplate": "model=egT<br>iteration=490<br>máquinas=%{x}<br>promedio de seleccion acumulada=%{y}<extra></extra>",
           "legendgroup": "egT",
           "marker": {
            "color": "#EF553B",
            "pattern": {
             "shape": ""
            }
           },
           "name": "egT",
           "offsetgroup": "egT",
           "orientation": "v",
           "showlegend": true,
           "textposition": "auto",
           "type": "bar",
           "x": [
            "0_egT",
            "1_egT",
            "2_egT"
           ],
           "xaxis": "x",
           "y": [
            0.5,
            490.5,
            0
           ],
           "yaxis": "y"
          },
          {
           "alignmentgroup": "True",
           "hovertemplate": "model=egF<br>iteration=490<br>máquinas=%{x}<br>promedio de seleccion acumulada=%{y}<extra></extra>",
           "legendgroup": "egF",
           "marker": {
            "color": "#00cc96",
            "pattern": {
             "shape": ""
            }
           },
           "name": "egF",
           "offsetgroup": "egF",
           "orientation": "v",
           "showlegend": true,
           "textposition": "auto",
           "type": "bar",
           "x": [
            "0_egF",
            "1_egF",
            "2_egF"
           ],
           "xaxis": "x",
           "y": [
            24.5,
            234,
            232.5
           ],
           "yaxis": "y"
          },
          {
           "alignmentgroup": "True",
           "hovertemplate": "model=UCB<br>iteration=490<br>máquinas=%{x}<br>promedio de seleccion acumulada=%{y}<extra></extra>",
           "legendgroup": "UCB",
           "marker": {
            "color": "#ab63fa",
            "pattern": {
             "shape": ""
            }
           },
           "name": "UCB",
           "offsetgroup": "UCB",
           "orientation": "v",
           "showlegend": true,
           "textposition": "auto",
           "type": "bar",
           "x": [
            "0_UCB",
            "1_UCB",
            "2_UCB"
           ],
           "xaxis": "x",
           "y": [
            13.5,
            23.5,
            454
           ],
           "yaxis": "y"
          }
         ],
         "name": "490"
        },
        {
         "data": [
          {
           "alignmentgroup": "True",
           "hovertemplate": "model=TS<br>iteration=500<br>máquinas=%{x}<br>promedio de seleccion acumulada=%{y}<extra></extra>",
           "legendgroup": "TS",
           "marker": {
            "color": "#636efa",
            "pattern": {
             "shape": ""
            }
           },
           "name": "TS",
           "offsetgroup": "TS",
           "orientation": "v",
           "showlegend": true,
           "textposition": "auto",
           "type": "bar",
           "x": [
            "0_TS",
            "1_TS",
            "2_TS"
           ],
           "xaxis": "x",
           "y": [
            3.5,
            6.5,
            491
           ],
           "yaxis": "y"
          },
          {
           "alignmentgroup": "True",
           "hovertemplate": "model=egT<br>iteration=500<br>máquinas=%{x}<br>promedio de seleccion acumulada=%{y}<extra></extra>",
           "legendgroup": "egT",
           "marker": {
            "color": "#EF553B",
            "pattern": {
             "shape": ""
            }
           },
           "name": "egT",
           "offsetgroup": "egT",
           "orientation": "v",
           "showlegend": true,
           "textposition": "auto",
           "type": "bar",
           "x": [
            "0_egT",
            "1_egT",
            "2_egT"
           ],
           "xaxis": "x",
           "y": [
            0.5,
            500.5,
            0
           ],
           "yaxis": "y"
          },
          {
           "alignmentgroup": "True",
           "hovertemplate": "model=egF<br>iteration=500<br>máquinas=%{x}<br>promedio de seleccion acumulada=%{y}<extra></extra>",
           "legendgroup": "egF",
           "marker": {
            "color": "#00cc96",
            "pattern": {
             "shape": ""
            }
           },
           "name": "egF",
           "offsetgroup": "egF",
           "orientation": "v",
           "showlegend": true,
           "textposition": "auto",
           "type": "bar",
           "x": [
            "0_egF",
            "1_egF",
            "2_egF"
           ],
           "xaxis": "x",
           "y": [
            25,
            238.5,
            237.5
           ],
           "yaxis": "y"
          },
          {
           "alignmentgroup": "True",
           "hovertemplate": "model=UCB<br>iteration=500<br>máquinas=%{x}<br>promedio de seleccion acumulada=%{y}<extra></extra>",
           "legendgroup": "UCB",
           "marker": {
            "color": "#ab63fa",
            "pattern": {
             "shape": ""
            }
           },
           "name": "UCB",
           "offsetgroup": "UCB",
           "orientation": "v",
           "showlegend": true,
           "textposition": "auto",
           "type": "bar",
           "x": [
            "0_UCB",
            "1_UCB",
            "2_UCB"
           ],
           "xaxis": "x",
           "y": [
            14,
            24,
            463
           ],
           "yaxis": "y"
          }
         ],
         "name": "500"
        },
        {
         "data": [
          {
           "alignmentgroup": "True",
           "hovertemplate": "model=TS<br>iteration=510<br>máquinas=%{x}<br>promedio de seleccion acumulada=%{y}<extra></extra>",
           "legendgroup": "TS",
           "marker": {
            "color": "#636efa",
            "pattern": {
             "shape": ""
            }
           },
           "name": "TS",
           "offsetgroup": "TS",
           "orientation": "v",
           "showlegend": true,
           "textposition": "auto",
           "type": "bar",
           "x": [
            "0_TS",
            "1_TS",
            "2_TS"
           ],
           "xaxis": "x",
           "y": [
            3.5,
            6.5,
            501
           ],
           "yaxis": "y"
          },
          {
           "alignmentgroup": "True",
           "hovertemplate": "model=egT<br>iteration=510<br>máquinas=%{x}<br>promedio de seleccion acumulada=%{y}<extra></extra>",
           "legendgroup": "egT",
           "marker": {
            "color": "#EF553B",
            "pattern": {
             "shape": ""
            }
           },
           "name": "egT",
           "offsetgroup": "egT",
           "orientation": "v",
           "showlegend": true,
           "textposition": "auto",
           "type": "bar",
           "x": [
            "0_egT",
            "1_egT",
            "2_egT"
           ],
           "xaxis": "x",
           "y": [
            0.5,
            510.5,
            0
           ],
           "yaxis": "y"
          },
          {
           "alignmentgroup": "True",
           "hovertemplate": "model=egF<br>iteration=510<br>máquinas=%{x}<br>promedio de seleccion acumulada=%{y}<extra></extra>",
           "legendgroup": "egF",
           "marker": {
            "color": "#00cc96",
            "pattern": {
             "shape": ""
            }
           },
           "name": "egF",
           "offsetgroup": "egF",
           "orientation": "v",
           "showlegend": true,
           "textposition": "auto",
           "type": "bar",
           "x": [
            "0_egF",
            "1_egF",
            "2_egF"
           ],
           "xaxis": "x",
           "y": [
            25.5,
            242.5,
            243
           ],
           "yaxis": "y"
          },
          {
           "alignmentgroup": "True",
           "hovertemplate": "model=UCB<br>iteration=510<br>máquinas=%{x}<br>promedio de seleccion acumulada=%{y}<extra></extra>",
           "legendgroup": "UCB",
           "marker": {
            "color": "#ab63fa",
            "pattern": {
             "shape": ""
            }
           },
           "name": "UCB",
           "offsetgroup": "UCB",
           "orientation": "v",
           "showlegend": true,
           "textposition": "auto",
           "type": "bar",
           "x": [
            "0_UCB",
            "1_UCB",
            "2_UCB"
           ],
           "xaxis": "x",
           "y": [
            14,
            24,
            473
           ],
           "yaxis": "y"
          }
         ],
         "name": "510"
        },
        {
         "data": [
          {
           "alignmentgroup": "True",
           "hovertemplate": "model=TS<br>iteration=520<br>máquinas=%{x}<br>promedio de seleccion acumulada=%{y}<extra></extra>",
           "legendgroup": "TS",
           "marker": {
            "color": "#636efa",
            "pattern": {
             "shape": ""
            }
           },
           "name": "TS",
           "offsetgroup": "TS",
           "orientation": "v",
           "showlegend": true,
           "textposition": "auto",
           "type": "bar",
           "x": [
            "0_TS",
            "1_TS",
            "2_TS"
           ],
           "xaxis": "x",
           "y": [
            3.5,
            6.5,
            511
           ],
           "yaxis": "y"
          },
          {
           "alignmentgroup": "True",
           "hovertemplate": "model=egT<br>iteration=520<br>máquinas=%{x}<br>promedio de seleccion acumulada=%{y}<extra></extra>",
           "legendgroup": "egT",
           "marker": {
            "color": "#EF553B",
            "pattern": {
             "shape": ""
            }
           },
           "name": "egT",
           "offsetgroup": "egT",
           "orientation": "v",
           "showlegend": true,
           "textposition": "auto",
           "type": "bar",
           "x": [
            "0_egT",
            "1_egT",
            "2_egT"
           ],
           "xaxis": "x",
           "y": [
            0.5,
            520.5,
            0
           ],
           "yaxis": "y"
          },
          {
           "alignmentgroup": "True",
           "hovertemplate": "model=egF<br>iteration=520<br>máquinas=%{x}<br>promedio de seleccion acumulada=%{y}<extra></extra>",
           "legendgroup": "egF",
           "marker": {
            "color": "#00cc96",
            "pattern": {
             "shape": ""
            }
           },
           "name": "egF",
           "offsetgroup": "egF",
           "orientation": "v",
           "showlegend": true,
           "textposition": "auto",
           "type": "bar",
           "x": [
            "0_egF",
            "1_egF",
            "2_egF"
           ],
           "xaxis": "x",
           "y": [
            26.5,
            247,
            247.5
           ],
           "yaxis": "y"
          },
          {
           "alignmentgroup": "True",
           "hovertemplate": "model=UCB<br>iteration=520<br>máquinas=%{x}<br>promedio de seleccion acumulada=%{y}<extra></extra>",
           "legendgroup": "UCB",
           "marker": {
            "color": "#ab63fa",
            "pattern": {
             "shape": ""
            }
           },
           "name": "UCB",
           "offsetgroup": "UCB",
           "orientation": "v",
           "showlegend": true,
           "textposition": "auto",
           "type": "bar",
           "x": [
            "0_UCB",
            "1_UCB",
            "2_UCB"
           ],
           "xaxis": "x",
           "y": [
            14,
            24.5,
            482.5
           ],
           "yaxis": "y"
          }
         ],
         "name": "520"
        },
        {
         "data": [
          {
           "alignmentgroup": "True",
           "hovertemplate": "model=TS<br>iteration=530<br>máquinas=%{x}<br>promedio de seleccion acumulada=%{y}<extra></extra>",
           "legendgroup": "TS",
           "marker": {
            "color": "#636efa",
            "pattern": {
             "shape": ""
            }
           },
           "name": "TS",
           "offsetgroup": "TS",
           "orientation": "v",
           "showlegend": true,
           "textposition": "auto",
           "type": "bar",
           "x": [
            "0_TS",
            "1_TS",
            "2_TS"
           ],
           "xaxis": "x",
           "y": [
            3.5,
            6.5,
            521
           ],
           "yaxis": "y"
          },
          {
           "alignmentgroup": "True",
           "hovertemplate": "model=egT<br>iteration=530<br>máquinas=%{x}<br>promedio de seleccion acumulada=%{y}<extra></extra>",
           "legendgroup": "egT",
           "marker": {
            "color": "#EF553B",
            "pattern": {
             "shape": ""
            }
           },
           "name": "egT",
           "offsetgroup": "egT",
           "orientation": "v",
           "showlegend": true,
           "textposition": "auto",
           "type": "bar",
           "x": [
            "0_egT",
            "1_egT",
            "2_egT"
           ],
           "xaxis": "x",
           "y": [
            0.5,
            530.5,
            0
           ],
           "yaxis": "y"
          },
          {
           "alignmentgroup": "True",
           "hovertemplate": "model=egF<br>iteration=530<br>máquinas=%{x}<br>promedio de seleccion acumulada=%{y}<extra></extra>",
           "legendgroup": "egF",
           "marker": {
            "color": "#00cc96",
            "pattern": {
             "shape": ""
            }
           },
           "name": "egF",
           "offsetgroup": "egF",
           "orientation": "v",
           "showlegend": true,
           "textposition": "auto",
           "type": "bar",
           "x": [
            "0_egF",
            "1_egF",
            "2_egF"
           ],
           "xaxis": "x",
           "y": [
            27,
            251.5,
            252.5
           ],
           "yaxis": "y"
          },
          {
           "alignmentgroup": "True",
           "hovertemplate": "model=UCB<br>iteration=530<br>máquinas=%{x}<br>promedio de seleccion acumulada=%{y}<extra></extra>",
           "legendgroup": "UCB",
           "marker": {
            "color": "#ab63fa",
            "pattern": {
             "shape": ""
            }
           },
           "name": "UCB",
           "offsetgroup": "UCB",
           "orientation": "v",
           "showlegend": true,
           "textposition": "auto",
           "type": "bar",
           "x": [
            "0_UCB",
            "1_UCB",
            "2_UCB"
           ],
           "xaxis": "x",
           "y": [
            14,
            24.5,
            492.5
           ],
           "yaxis": "y"
          }
         ],
         "name": "530"
        },
        {
         "data": [
          {
           "alignmentgroup": "True",
           "hovertemplate": "model=TS<br>iteration=540<br>máquinas=%{x}<br>promedio de seleccion acumulada=%{y}<extra></extra>",
           "legendgroup": "TS",
           "marker": {
            "color": "#636efa",
            "pattern": {
             "shape": ""
            }
           },
           "name": "TS",
           "offsetgroup": "TS",
           "orientation": "v",
           "showlegend": true,
           "textposition": "auto",
           "type": "bar",
           "x": [
            "0_TS",
            "1_TS",
            "2_TS"
           ],
           "xaxis": "x",
           "y": [
            3.5,
            6.5,
            531
           ],
           "yaxis": "y"
          },
          {
           "alignmentgroup": "True",
           "hovertemplate": "model=egT<br>iteration=540<br>máquinas=%{x}<br>promedio de seleccion acumulada=%{y}<extra></extra>",
           "legendgroup": "egT",
           "marker": {
            "color": "#EF553B",
            "pattern": {
             "shape": ""
            }
           },
           "name": "egT",
           "offsetgroup": "egT",
           "orientation": "v",
           "showlegend": true,
           "textposition": "auto",
           "type": "bar",
           "x": [
            "0_egT",
            "1_egT",
            "2_egT"
           ],
           "xaxis": "x",
           "y": [
            0.5,
            540.5,
            0
           ],
           "yaxis": "y"
          },
          {
           "alignmentgroup": "True",
           "hovertemplate": "model=egF<br>iteration=540<br>máquinas=%{x}<br>promedio de seleccion acumulada=%{y}<extra></extra>",
           "legendgroup": "egF",
           "marker": {
            "color": "#00cc96",
            "pattern": {
             "shape": ""
            }
           },
           "name": "egF",
           "offsetgroup": "egF",
           "orientation": "v",
           "showlegend": true,
           "textposition": "auto",
           "type": "bar",
           "x": [
            "0_egF",
            "1_egF",
            "2_egF"
           ],
           "xaxis": "x",
           "y": [
            28,
            255.5,
            257.5
           ],
           "yaxis": "y"
          },
          {
           "alignmentgroup": "True",
           "hovertemplate": "model=UCB<br>iteration=540<br>máquinas=%{x}<br>promedio de seleccion acumulada=%{y}<extra></extra>",
           "legendgroup": "UCB",
           "marker": {
            "color": "#ab63fa",
            "pattern": {
             "shape": ""
            }
           },
           "name": "UCB",
           "offsetgroup": "UCB",
           "orientation": "v",
           "showlegend": true,
           "textposition": "auto",
           "type": "bar",
           "x": [
            "0_UCB",
            "1_UCB",
            "2_UCB"
           ],
           "xaxis": "x",
           "y": [
            14.5,
            24.5,
            502
           ],
           "yaxis": "y"
          }
         ],
         "name": "540"
        },
        {
         "data": [
          {
           "alignmentgroup": "True",
           "hovertemplate": "model=TS<br>iteration=550<br>máquinas=%{x}<br>promedio de seleccion acumulada=%{y}<extra></extra>",
           "legendgroup": "TS",
           "marker": {
            "color": "#636efa",
            "pattern": {
             "shape": ""
            }
           },
           "name": "TS",
           "offsetgroup": "TS",
           "orientation": "v",
           "showlegend": true,
           "textposition": "auto",
           "type": "bar",
           "x": [
            "0_TS",
            "1_TS",
            "2_TS"
           ],
           "xaxis": "x",
           "y": [
            3.5,
            6.5,
            541
           ],
           "yaxis": "y"
          },
          {
           "alignmentgroup": "True",
           "hovertemplate": "model=egT<br>iteration=550<br>máquinas=%{x}<br>promedio de seleccion acumulada=%{y}<extra></extra>",
           "legendgroup": "egT",
           "marker": {
            "color": "#EF553B",
            "pattern": {
             "shape": ""
            }
           },
           "name": "egT",
           "offsetgroup": "egT",
           "orientation": "v",
           "showlegend": true,
           "textposition": "auto",
           "type": "bar",
           "x": [
            "0_egT",
            "1_egT",
            "2_egT"
           ],
           "xaxis": "x",
           "y": [
            0.5,
            550.5,
            0
           ],
           "yaxis": "y"
          },
          {
           "alignmentgroup": "True",
           "hovertemplate": "model=egF<br>iteration=550<br>máquinas=%{x}<br>promedio de seleccion acumulada=%{y}<extra></extra>",
           "legendgroup": "egF",
           "marker": {
            "color": "#00cc96",
            "pattern": {
             "shape": ""
            }
           },
           "name": "egF",
           "offsetgroup": "egF",
           "orientation": "v",
           "showlegend": true,
           "textposition": "auto",
           "type": "bar",
           "x": [
            "0_egF",
            "1_egF",
            "2_egF"
           ],
           "xaxis": "x",
           "y": [
            28,
            260.5,
            262.5
           ],
           "yaxis": "y"
          },
          {
           "alignmentgroup": "True",
           "hovertemplate": "model=UCB<br>iteration=550<br>máquinas=%{x}<br>promedio de seleccion acumulada=%{y}<extra></extra>",
           "legendgroup": "UCB",
           "marker": {
            "color": "#ab63fa",
            "pattern": {
             "shape": ""
            }
           },
           "name": "UCB",
           "offsetgroup": "UCB",
           "orientation": "v",
           "showlegend": true,
           "textposition": "auto",
           "type": "bar",
           "x": [
            "0_UCB",
            "1_UCB",
            "2_UCB"
           ],
           "xaxis": "x",
           "y": [
            14.5,
            24.5,
            512
           ],
           "yaxis": "y"
          }
         ],
         "name": "550"
        },
        {
         "data": [
          {
           "alignmentgroup": "True",
           "hovertemplate": "model=TS<br>iteration=560<br>máquinas=%{x}<br>promedio de seleccion acumulada=%{y}<extra></extra>",
           "legendgroup": "TS",
           "marker": {
            "color": "#636efa",
            "pattern": {
             "shape": ""
            }
           },
           "name": "TS",
           "offsetgroup": "TS",
           "orientation": "v",
           "showlegend": true,
           "textposition": "auto",
           "type": "bar",
           "x": [
            "0_TS",
            "1_TS",
            "2_TS"
           ],
           "xaxis": "x",
           "y": [
            3.5,
            6.5,
            551
           ],
           "yaxis": "y"
          },
          {
           "alignmentgroup": "True",
           "hovertemplate": "model=egT<br>iteration=560<br>máquinas=%{x}<br>promedio de seleccion acumulada=%{y}<extra></extra>",
           "legendgroup": "egT",
           "marker": {
            "color": "#EF553B",
            "pattern": {
             "shape": ""
            }
           },
           "name": "egT",
           "offsetgroup": "egT",
           "orientation": "v",
           "showlegend": true,
           "textposition": "auto",
           "type": "bar",
           "x": [
            "0_egT",
            "1_egT",
            "2_egT"
           ],
           "xaxis": "x",
           "y": [
            0.5,
            560.5,
            0
           ],
           "yaxis": "y"
          },
          {
           "alignmentgroup": "True",
           "hovertemplate": "model=egF<br>iteration=560<br>máquinas=%{x}<br>promedio de seleccion acumulada=%{y}<extra></extra>",
           "legendgroup": "egF",
           "marker": {
            "color": "#00cc96",
            "pattern": {
             "shape": ""
            }
           },
           "name": "egF",
           "offsetgroup": "egF",
           "orientation": "v",
           "showlegend": true,
           "textposition": "auto",
           "type": "bar",
           "x": [
            "0_egF",
            "1_egF",
            "2_egF"
           ],
           "xaxis": "x",
           "y": [
            29,
            265.5,
            266.5
           ],
           "yaxis": "y"
          },
          {
           "alignmentgroup": "True",
           "hovertemplate": "model=UCB<br>iteration=560<br>máquinas=%{x}<br>promedio de seleccion acumulada=%{y}<extra></extra>",
           "legendgroup": "UCB",
           "marker": {
            "color": "#ab63fa",
            "pattern": {
             "shape": ""
            }
           },
           "name": "UCB",
           "offsetgroup": "UCB",
           "orientation": "v",
           "showlegend": true,
           "textposition": "auto",
           "type": "bar",
           "x": [
            "0_UCB",
            "1_UCB",
            "2_UCB"
           ],
           "xaxis": "x",
           "y": [
            14.5,
            24.5,
            522
           ],
           "yaxis": "y"
          }
         ],
         "name": "560"
        },
        {
         "data": [
          {
           "alignmentgroup": "True",
           "hovertemplate": "model=TS<br>iteration=570<br>máquinas=%{x}<br>promedio de seleccion acumulada=%{y}<extra></extra>",
           "legendgroup": "TS",
           "marker": {
            "color": "#636efa",
            "pattern": {
             "shape": ""
            }
           },
           "name": "TS",
           "offsetgroup": "TS",
           "orientation": "v",
           "showlegend": true,
           "textposition": "auto",
           "type": "bar",
           "x": [
            "0_TS",
            "1_TS",
            "2_TS"
           ],
           "xaxis": "x",
           "y": [
            3.5,
            6.5,
            561
           ],
           "yaxis": "y"
          },
          {
           "alignmentgroup": "True",
           "hovertemplate": "model=egT<br>iteration=570<br>máquinas=%{x}<br>promedio de seleccion acumulada=%{y}<extra></extra>",
           "legendgroup": "egT",
           "marker": {
            "color": "#EF553B",
            "pattern": {
             "shape": ""
            }
           },
           "name": "egT",
           "offsetgroup": "egT",
           "orientation": "v",
           "showlegend": true,
           "textposition": "auto",
           "type": "bar",
           "x": [
            "0_egT",
            "1_egT",
            "2_egT"
           ],
           "xaxis": "x",
           "y": [
            0.5,
            570.5,
            0
           ],
           "yaxis": "y"
          },
          {
           "alignmentgroup": "True",
           "hovertemplate": "model=egF<br>iteration=570<br>máquinas=%{x}<br>promedio de seleccion acumulada=%{y}<extra></extra>",
           "legendgroup": "egF",
           "marker": {
            "color": "#00cc96",
            "pattern": {
             "shape": ""
            }
           },
           "name": "egF",
           "offsetgroup": "egF",
           "orientation": "v",
           "showlegend": true,
           "textposition": "auto",
           "type": "bar",
           "x": [
            "0_egF",
            "1_egF",
            "2_egF"
           ],
           "xaxis": "x",
           "y": [
            29,
            271,
            271
           ],
           "yaxis": "y"
          },
          {
           "alignmentgroup": "True",
           "hovertemplate": "model=UCB<br>iteration=570<br>máquinas=%{x}<br>promedio de seleccion acumulada=%{y}<extra></extra>",
           "legendgroup": "UCB",
           "marker": {
            "color": "#ab63fa",
            "pattern": {
             "shape": ""
            }
           },
           "name": "UCB",
           "offsetgroup": "UCB",
           "orientation": "v",
           "showlegend": true,
           "textposition": "auto",
           "type": "bar",
           "x": [
            "0_UCB",
            "1_UCB",
            "2_UCB"
           ],
           "xaxis": "x",
           "y": [
            14.5,
            24.5,
            532
           ],
           "yaxis": "y"
          }
         ],
         "name": "570"
        },
        {
         "data": [
          {
           "alignmentgroup": "True",
           "hovertemplate": "model=TS<br>iteration=580<br>máquinas=%{x}<br>promedio de seleccion acumulada=%{y}<extra></extra>",
           "legendgroup": "TS",
           "marker": {
            "color": "#636efa",
            "pattern": {
             "shape": ""
            }
           },
           "name": "TS",
           "offsetgroup": "TS",
           "orientation": "v",
           "showlegend": true,
           "textposition": "auto",
           "type": "bar",
           "x": [
            "0_TS",
            "1_TS",
            "2_TS"
           ],
           "xaxis": "x",
           "y": [
            3.5,
            6.5,
            571
           ],
           "yaxis": "y"
          },
          {
           "alignmentgroup": "True",
           "hovertemplate": "model=egT<br>iteration=580<br>máquinas=%{x}<br>promedio de seleccion acumulada=%{y}<extra></extra>",
           "legendgroup": "egT",
           "marker": {
            "color": "#EF553B",
            "pattern": {
             "shape": ""
            }
           },
           "name": "egT",
           "offsetgroup": "egT",
           "orientation": "v",
           "showlegend": true,
           "textposition": "auto",
           "type": "bar",
           "x": [
            "0_egT",
            "1_egT",
            "2_egT"
           ],
           "xaxis": "x",
           "y": [
            0.5,
            580.5,
            0
           ],
           "yaxis": "y"
          },
          {
           "alignmentgroup": "True",
           "hovertemplate": "model=egF<br>iteration=580<br>máquinas=%{x}<br>promedio de seleccion acumulada=%{y}<extra></extra>",
           "legendgroup": "egF",
           "marker": {
            "color": "#00cc96",
            "pattern": {
             "shape": ""
            }
           },
           "name": "egF",
           "offsetgroup": "egF",
           "orientation": "v",
           "showlegend": true,
           "textposition": "auto",
           "type": "bar",
           "x": [
            "0_egF",
            "1_egF",
            "2_egF"
           ],
           "xaxis": "x",
           "y": [
            29,
            276,
            276
           ],
           "yaxis": "y"
          },
          {
           "alignmentgroup": "True",
           "hovertemplate": "model=UCB<br>iteration=580<br>máquinas=%{x}<br>promedio de seleccion acumulada=%{y}<extra></extra>",
           "legendgroup": "UCB",
           "marker": {
            "color": "#ab63fa",
            "pattern": {
             "shape": ""
            }
           },
           "name": "UCB",
           "offsetgroup": "UCB",
           "orientation": "v",
           "showlegend": true,
           "textposition": "auto",
           "type": "bar",
           "x": [
            "0_UCB",
            "1_UCB",
            "2_UCB"
           ],
           "xaxis": "x",
           "y": [
            14.5,
            25,
            541.5
           ],
           "yaxis": "y"
          }
         ],
         "name": "580"
        },
        {
         "data": [
          {
           "alignmentgroup": "True",
           "hovertemplate": "model=TS<br>iteration=590<br>máquinas=%{x}<br>promedio de seleccion acumulada=%{y}<extra></extra>",
           "legendgroup": "TS",
           "marker": {
            "color": "#636efa",
            "pattern": {
             "shape": ""
            }
           },
           "name": "TS",
           "offsetgroup": "TS",
           "orientation": "v",
           "showlegend": true,
           "textposition": "auto",
           "type": "bar",
           "x": [
            "0_TS",
            "1_TS",
            "2_TS"
           ],
           "xaxis": "x",
           "y": [
            3.5,
            6.5,
            581
           ],
           "yaxis": "y"
          },
          {
           "alignmentgroup": "True",
           "hovertemplate": "model=egT<br>iteration=590<br>máquinas=%{x}<br>promedio de seleccion acumulada=%{y}<extra></extra>",
           "legendgroup": "egT",
           "marker": {
            "color": "#EF553B",
            "pattern": {
             "shape": ""
            }
           },
           "name": "egT",
           "offsetgroup": "egT",
           "orientation": "v",
           "showlegend": true,
           "textposition": "auto",
           "type": "bar",
           "x": [
            "0_egT",
            "1_egT",
            "2_egT"
           ],
           "xaxis": "x",
           "y": [
            0.5,
            590.5,
            0
           ],
           "yaxis": "y"
          },
          {
           "alignmentgroup": "True",
           "hovertemplate": "model=egF<br>iteration=590<br>máquinas=%{x}<br>promedio de seleccion acumulada=%{y}<extra></extra>",
           "legendgroup": "egF",
           "marker": {
            "color": "#00cc96",
            "pattern": {
             "shape": ""
            }
           },
           "name": "egF",
           "offsetgroup": "egF",
           "orientation": "v",
           "showlegend": true,
           "textposition": "auto",
           "type": "bar",
           "x": [
            "0_egF",
            "1_egF",
            "2_egF"
           ],
           "xaxis": "x",
           "y": [
            29,
            281.5,
            280.5
           ],
           "yaxis": "y"
          },
          {
           "alignmentgroup": "True",
           "hovertemplate": "model=UCB<br>iteration=590<br>máquinas=%{x}<br>promedio de seleccion acumulada=%{y}<extra></extra>",
           "legendgroup": "UCB",
           "marker": {
            "color": "#ab63fa",
            "pattern": {
             "shape": ""
            }
           },
           "name": "UCB",
           "offsetgroup": "UCB",
           "orientation": "v",
           "showlegend": true,
           "textposition": "auto",
           "type": "bar",
           "x": [
            "0_UCB",
            "1_UCB",
            "2_UCB"
           ],
           "xaxis": "x",
           "y": [
            14.5,
            25.5,
            551
           ],
           "yaxis": "y"
          }
         ],
         "name": "590"
        },
        {
         "data": [
          {
           "alignmentgroup": "True",
           "hovertemplate": "model=TS<br>iteration=600<br>máquinas=%{x}<br>promedio de seleccion acumulada=%{y}<extra></extra>",
           "legendgroup": "TS",
           "marker": {
            "color": "#636efa",
            "pattern": {
             "shape": ""
            }
           },
           "name": "TS",
           "offsetgroup": "TS",
           "orientation": "v",
           "showlegend": true,
           "textposition": "auto",
           "type": "bar",
           "x": [
            "0_TS",
            "1_TS",
            "2_TS"
           ],
           "xaxis": "x",
           "y": [
            3.5,
            6.5,
            591
           ],
           "yaxis": "y"
          },
          {
           "alignmentgroup": "True",
           "hovertemplate": "model=egT<br>iteration=600<br>máquinas=%{x}<br>promedio de seleccion acumulada=%{y}<extra></extra>",
           "legendgroup": "egT",
           "marker": {
            "color": "#EF553B",
            "pattern": {
             "shape": ""
            }
           },
           "name": "egT",
           "offsetgroup": "egT",
           "orientation": "v",
           "showlegend": true,
           "textposition": "auto",
           "type": "bar",
           "x": [
            "0_egT",
            "1_egT",
            "2_egT"
           ],
           "xaxis": "x",
           "y": [
            0.5,
            600.5,
            0
           ],
           "yaxis": "y"
          },
          {
           "alignmentgroup": "True",
           "hovertemplate": "model=egF<br>iteration=600<br>máquinas=%{x}<br>promedio de seleccion acumulada=%{y}<extra></extra>",
           "legendgroup": "egF",
           "marker": {
            "color": "#00cc96",
            "pattern": {
             "shape": ""
            }
           },
           "name": "egF",
           "offsetgroup": "egF",
           "orientation": "v",
           "showlegend": true,
           "textposition": "auto",
           "type": "bar",
           "x": [
            "0_egF",
            "1_egF",
            "2_egF"
           ],
           "xaxis": "x",
           "y": [
            29.5,
            286.5,
            285
           ],
           "yaxis": "y"
          },
          {
           "alignmentgroup": "True",
           "hovertemplate": "model=UCB<br>iteration=600<br>máquinas=%{x}<br>promedio de seleccion acumulada=%{y}<extra></extra>",
           "legendgroup": "UCB",
           "marker": {
            "color": "#ab63fa",
            "pattern": {
             "shape": ""
            }
           },
           "name": "UCB",
           "offsetgroup": "UCB",
           "orientation": "v",
           "showlegend": true,
           "textposition": "auto",
           "type": "bar",
           "x": [
            "0_UCB",
            "1_UCB",
            "2_UCB"
           ],
           "xaxis": "x",
           "y": [
            14.5,
            25.5,
            561
           ],
           "yaxis": "y"
          }
         ],
         "name": "600"
        },
        {
         "data": [
          {
           "alignmentgroup": "True",
           "hovertemplate": "model=TS<br>iteration=610<br>máquinas=%{x}<br>promedio de seleccion acumulada=%{y}<extra></extra>",
           "legendgroup": "TS",
           "marker": {
            "color": "#636efa",
            "pattern": {
             "shape": ""
            }
           },
           "name": "TS",
           "offsetgroup": "TS",
           "orientation": "v",
           "showlegend": true,
           "textposition": "auto",
           "type": "bar",
           "x": [
            "0_TS",
            "1_TS",
            "2_TS"
           ],
           "xaxis": "x",
           "y": [
            3.5,
            6.5,
            601
           ],
           "yaxis": "y"
          },
          {
           "alignmentgroup": "True",
           "hovertemplate": "model=egT<br>iteration=610<br>máquinas=%{x}<br>promedio de seleccion acumulada=%{y}<extra></extra>",
           "legendgroup": "egT",
           "marker": {
            "color": "#EF553B",
            "pattern": {
             "shape": ""
            }
           },
           "name": "egT",
           "offsetgroup": "egT",
           "orientation": "v",
           "showlegend": true,
           "textposition": "auto",
           "type": "bar",
           "x": [
            "0_egT",
            "1_egT",
            "2_egT"
           ],
           "xaxis": "x",
           "y": [
            0.5,
            610.5,
            0
           ],
           "yaxis": "y"
          },
          {
           "alignmentgroup": "True",
           "hovertemplate": "model=egF<br>iteration=610<br>máquinas=%{x}<br>promedio de seleccion acumulada=%{y}<extra></extra>",
           "legendgroup": "egF",
           "marker": {
            "color": "#00cc96",
            "pattern": {
             "shape": ""
            }
           },
           "name": "egF",
           "offsetgroup": "egF",
           "orientation": "v",
           "showlegend": true,
           "textposition": "auto",
           "type": "bar",
           "x": [
            "0_egF",
            "1_egF",
            "2_egF"
           ],
           "xaxis": "x",
           "y": [
            30.5,
            290.5,
            290
           ],
           "yaxis": "y"
          },
          {
           "alignmentgroup": "True",
           "hovertemplate": "model=UCB<br>iteration=610<br>máquinas=%{x}<br>promedio de seleccion acumulada=%{y}<extra></extra>",
           "legendgroup": "UCB",
           "marker": {
            "color": "#ab63fa",
            "pattern": {
             "shape": ""
            }
           },
           "name": "UCB",
           "offsetgroup": "UCB",
           "orientation": "v",
           "showlegend": true,
           "textposition": "auto",
           "type": "bar",
           "x": [
            "0_UCB",
            "1_UCB",
            "2_UCB"
           ],
           "xaxis": "x",
           "y": [
            14.5,
            25.5,
            571
           ],
           "yaxis": "y"
          }
         ],
         "name": "610"
        },
        {
         "data": [
          {
           "alignmentgroup": "True",
           "hovertemplate": "model=TS<br>iteration=620<br>máquinas=%{x}<br>promedio de seleccion acumulada=%{y}<extra></extra>",
           "legendgroup": "TS",
           "marker": {
            "color": "#636efa",
            "pattern": {
             "shape": ""
            }
           },
           "name": "TS",
           "offsetgroup": "TS",
           "orientation": "v",
           "showlegend": true,
           "textposition": "auto",
           "type": "bar",
           "x": [
            "0_TS",
            "1_TS",
            "2_TS"
           ],
           "xaxis": "x",
           "y": [
            3.5,
            6.5,
            611
           ],
           "yaxis": "y"
          },
          {
           "alignmentgroup": "True",
           "hovertemplate": "model=egT<br>iteration=620<br>máquinas=%{x}<br>promedio de seleccion acumulada=%{y}<extra></extra>",
           "legendgroup": "egT",
           "marker": {
            "color": "#EF553B",
            "pattern": {
             "shape": ""
            }
           },
           "name": "egT",
           "offsetgroup": "egT",
           "orientation": "v",
           "showlegend": true,
           "textposition": "auto",
           "type": "bar",
           "x": [
            "0_egT",
            "1_egT",
            "2_egT"
           ],
           "xaxis": "x",
           "y": [
            0.5,
            620.5,
            0
           ],
           "yaxis": "y"
          },
          {
           "alignmentgroup": "True",
           "hovertemplate": "model=egF<br>iteration=620<br>máquinas=%{x}<br>promedio de seleccion acumulada=%{y}<extra></extra>",
           "legendgroup": "egF",
           "marker": {
            "color": "#00cc96",
            "pattern": {
             "shape": ""
            }
           },
           "name": "egF",
           "offsetgroup": "egF",
           "orientation": "v",
           "showlegend": true,
           "textposition": "auto",
           "type": "bar",
           "x": [
            "0_egF",
            "1_egF",
            "2_egF"
           ],
           "xaxis": "x",
           "y": [
            30.5,
            295,
            295.5
           ],
           "yaxis": "y"
          },
          {
           "alignmentgroup": "True",
           "hovertemplate": "model=UCB<br>iteration=620<br>máquinas=%{x}<br>promedio de seleccion acumulada=%{y}<extra></extra>",
           "legendgroup": "UCB",
           "marker": {
            "color": "#ab63fa",
            "pattern": {
             "shape": ""
            }
           },
           "name": "UCB",
           "offsetgroup": "UCB",
           "orientation": "v",
           "showlegend": true,
           "textposition": "auto",
           "type": "bar",
           "x": [
            "0_UCB",
            "1_UCB",
            "2_UCB"
           ],
           "xaxis": "x",
           "y": [
            14.5,
            25.5,
            581
           ],
           "yaxis": "y"
          }
         ],
         "name": "620"
        },
        {
         "data": [
          {
           "alignmentgroup": "True",
           "hovertemplate": "model=TS<br>iteration=630<br>máquinas=%{x}<br>promedio de seleccion acumulada=%{y}<extra></extra>",
           "legendgroup": "TS",
           "marker": {
            "color": "#636efa",
            "pattern": {
             "shape": ""
            }
           },
           "name": "TS",
           "offsetgroup": "TS",
           "orientation": "v",
           "showlegend": true,
           "textposition": "auto",
           "type": "bar",
           "x": [
            "0_TS",
            "1_TS",
            "2_TS"
           ],
           "xaxis": "x",
           "y": [
            3.5,
            6.5,
            621
           ],
           "yaxis": "y"
          },
          {
           "alignmentgroup": "True",
           "hovertemplate": "model=egT<br>iteration=630<br>máquinas=%{x}<br>promedio de seleccion acumulada=%{y}<extra></extra>",
           "legendgroup": "egT",
           "marker": {
            "color": "#EF553B",
            "pattern": {
             "shape": ""
            }
           },
           "name": "egT",
           "offsetgroup": "egT",
           "orientation": "v",
           "showlegend": true,
           "textposition": "auto",
           "type": "bar",
           "x": [
            "0_egT",
            "1_egT",
            "2_egT"
           ],
           "xaxis": "x",
           "y": [
            0.5,
            630.5,
            0
           ],
           "yaxis": "y"
          },
          {
           "alignmentgroup": "True",
           "hovertemplate": "model=egF<br>iteration=630<br>máquinas=%{x}<br>promedio de seleccion acumulada=%{y}<extra></extra>",
           "legendgroup": "egF",
           "marker": {
            "color": "#00cc96",
            "pattern": {
             "shape": ""
            }
           },
           "name": "egF",
           "offsetgroup": "egF",
           "orientation": "v",
           "showlegend": true,
           "textposition": "auto",
           "type": "bar",
           "x": [
            "0_egF",
            "1_egF",
            "2_egF"
           ],
           "xaxis": "x",
           "y": [
            31.5,
            300.5,
            299
           ],
           "yaxis": "y"
          },
          {
           "alignmentgroup": "True",
           "hovertemplate": "model=UCB<br>iteration=630<br>máquinas=%{x}<br>promedio de seleccion acumulada=%{y}<extra></extra>",
           "legendgroup": "UCB",
           "marker": {
            "color": "#ab63fa",
            "pattern": {
             "shape": ""
            }
           },
           "name": "UCB",
           "offsetgroup": "UCB",
           "orientation": "v",
           "showlegend": true,
           "textposition": "auto",
           "type": "bar",
           "x": [
            "0_UCB",
            "1_UCB",
            "2_UCB"
           ],
           "xaxis": "x",
           "y": [
            15,
            25.5,
            590.5
           ],
           "yaxis": "y"
          }
         ],
         "name": "630"
        },
        {
         "data": [
          {
           "alignmentgroup": "True",
           "hovertemplate": "model=TS<br>iteration=640<br>máquinas=%{x}<br>promedio de seleccion acumulada=%{y}<extra></extra>",
           "legendgroup": "TS",
           "marker": {
            "color": "#636efa",
            "pattern": {
             "shape": ""
            }
           },
           "name": "TS",
           "offsetgroup": "TS",
           "orientation": "v",
           "showlegend": true,
           "textposition": "auto",
           "type": "bar",
           "x": [
            "0_TS",
            "1_TS",
            "2_TS"
           ],
           "xaxis": "x",
           "y": [
            3.5,
            6.5,
            631
           ],
           "yaxis": "y"
          },
          {
           "alignmentgroup": "True",
           "hovertemplate": "model=egT<br>iteration=640<br>máquinas=%{x}<br>promedio de seleccion acumulada=%{y}<extra></extra>",
           "legendgroup": "egT",
           "marker": {
            "color": "#EF553B",
            "pattern": {
             "shape": ""
            }
           },
           "name": "egT",
           "offsetgroup": "egT",
           "orientation": "v",
           "showlegend": true,
           "textposition": "auto",
           "type": "bar",
           "x": [
            "0_egT",
            "1_egT",
            "2_egT"
           ],
           "xaxis": "x",
           "y": [
            0.5,
            640.5,
            0
           ],
           "yaxis": "y"
          },
          {
           "alignmentgroup": "True",
           "hovertemplate": "model=egF<br>iteration=640<br>máquinas=%{x}<br>promedio de seleccion acumulada=%{y}<extra></extra>",
           "legendgroup": "egF",
           "marker": {
            "color": "#00cc96",
            "pattern": {
             "shape": ""
            }
           },
           "name": "egF",
           "offsetgroup": "egF",
           "orientation": "v",
           "showlegend": true,
           "textposition": "auto",
           "type": "bar",
           "x": [
            "0_egF",
            "1_egF",
            "2_egF"
           ],
           "xaxis": "x",
           "y": [
            32.5,
            305,
            303.5
           ],
           "yaxis": "y"
          },
          {
           "alignmentgroup": "True",
           "hovertemplate": "model=UCB<br>iteration=640<br>máquinas=%{x}<br>promedio de seleccion acumulada=%{y}<extra></extra>",
           "legendgroup": "UCB",
           "marker": {
            "color": "#ab63fa",
            "pattern": {
             "shape": ""
            }
           },
           "name": "UCB",
           "offsetgroup": "UCB",
           "orientation": "v",
           "showlegend": true,
           "textposition": "auto",
           "type": "bar",
           "x": [
            "0_UCB",
            "1_UCB",
            "2_UCB"
           ],
           "xaxis": "x",
           "y": [
            15,
            25.5,
            600.5
           ],
           "yaxis": "y"
          }
         ],
         "name": "640"
        },
        {
         "data": [
          {
           "alignmentgroup": "True",
           "hovertemplate": "model=TS<br>iteration=650<br>máquinas=%{x}<br>promedio de seleccion acumulada=%{y}<extra></extra>",
           "legendgroup": "TS",
           "marker": {
            "color": "#636efa",
            "pattern": {
             "shape": ""
            }
           },
           "name": "TS",
           "offsetgroup": "TS",
           "orientation": "v",
           "showlegend": true,
           "textposition": "auto",
           "type": "bar",
           "x": [
            "0_TS",
            "1_TS",
            "2_TS"
           ],
           "xaxis": "x",
           "y": [
            3.5,
            6.5,
            641
           ],
           "yaxis": "y"
          },
          {
           "alignmentgroup": "True",
           "hovertemplate": "model=egT<br>iteration=650<br>máquinas=%{x}<br>promedio de seleccion acumulada=%{y}<extra></extra>",
           "legendgroup": "egT",
           "marker": {
            "color": "#EF553B",
            "pattern": {
             "shape": ""
            }
           },
           "name": "egT",
           "offsetgroup": "egT",
           "orientation": "v",
           "showlegend": true,
           "textposition": "auto",
           "type": "bar",
           "x": [
            "0_egT",
            "1_egT",
            "2_egT"
           ],
           "xaxis": "x",
           "y": [
            0.5,
            650.5,
            0
           ],
           "yaxis": "y"
          },
          {
           "alignmentgroup": "True",
           "hovertemplate": "model=egF<br>iteration=650<br>máquinas=%{x}<br>promedio de seleccion acumulada=%{y}<extra></extra>",
           "legendgroup": "egF",
           "marker": {
            "color": "#00cc96",
            "pattern": {
             "shape": ""
            }
           },
           "name": "egF",
           "offsetgroup": "egF",
           "orientation": "v",
           "showlegend": true,
           "textposition": "auto",
           "type": "bar",
           "x": [
            "0_egF",
            "1_egF",
            "2_egF"
           ],
           "xaxis": "x",
           "y": [
            33,
            308.5,
            309.5
           ],
           "yaxis": "y"
          },
          {
           "alignmentgroup": "True",
           "hovertemplate": "model=UCB<br>iteration=650<br>máquinas=%{x}<br>promedio de seleccion acumulada=%{y}<extra></extra>",
           "legendgroup": "UCB",
           "marker": {
            "color": "#ab63fa",
            "pattern": {
             "shape": ""
            }
           },
           "name": "UCB",
           "offsetgroup": "UCB",
           "orientation": "v",
           "showlegend": true,
           "textposition": "auto",
           "type": "bar",
           "x": [
            "0_UCB",
            "1_UCB",
            "2_UCB"
           ],
           "xaxis": "x",
           "y": [
            15,
            26,
            610
           ],
           "yaxis": "y"
          }
         ],
         "name": "650"
        },
        {
         "data": [
          {
           "alignmentgroup": "True",
           "hovertemplate": "model=TS<br>iteration=660<br>máquinas=%{x}<br>promedio de seleccion acumulada=%{y}<extra></extra>",
           "legendgroup": "TS",
           "marker": {
            "color": "#636efa",
            "pattern": {
             "shape": ""
            }
           },
           "name": "TS",
           "offsetgroup": "TS",
           "orientation": "v",
           "showlegend": true,
           "textposition": "auto",
           "type": "bar",
           "x": [
            "0_TS",
            "1_TS",
            "2_TS"
           ],
           "xaxis": "x",
           "y": [
            3.5,
            6.5,
            651
           ],
           "yaxis": "y"
          },
          {
           "alignmentgroup": "True",
           "hovertemplate": "model=egT<br>iteration=660<br>máquinas=%{x}<br>promedio de seleccion acumulada=%{y}<extra></extra>",
           "legendgroup": "egT",
           "marker": {
            "color": "#EF553B",
            "pattern": {
             "shape": ""
            }
           },
           "name": "egT",
           "offsetgroup": "egT",
           "orientation": "v",
           "showlegend": true,
           "textposition": "auto",
           "type": "bar",
           "x": [
            "0_egT",
            "1_egT",
            "2_egT"
           ],
           "xaxis": "x",
           "y": [
            0.5,
            660.5,
            0
           ],
           "yaxis": "y"
          },
          {
           "alignmentgroup": "True",
           "hovertemplate": "model=egF<br>iteration=660<br>máquinas=%{x}<br>promedio de seleccion acumulada=%{y}<extra></extra>",
           "legendgroup": "egF",
           "marker": {
            "color": "#00cc96",
            "pattern": {
             "shape": ""
            }
           },
           "name": "egF",
           "offsetgroup": "egF",
           "orientation": "v",
           "showlegend": true,
           "textposition": "auto",
           "type": "bar",
           "x": [
            "0_egF",
            "1_egF",
            "2_egF"
           ],
           "xaxis": "x",
           "y": [
            34,
            313,
            314
           ],
           "yaxis": "y"
          },
          {
           "alignmentgroup": "True",
           "hovertemplate": "model=UCB<br>iteration=660<br>máquinas=%{x}<br>promedio de seleccion acumulada=%{y}<extra></extra>",
           "legendgroup": "UCB",
           "marker": {
            "color": "#ab63fa",
            "pattern": {
             "shape": ""
            }
           },
           "name": "UCB",
           "offsetgroup": "UCB",
           "orientation": "v",
           "showlegend": true,
           "textposition": "auto",
           "type": "bar",
           "x": [
            "0_UCB",
            "1_UCB",
            "2_UCB"
           ],
           "xaxis": "x",
           "y": [
            15.5,
            26,
            619.5
           ],
           "yaxis": "y"
          }
         ],
         "name": "660"
        },
        {
         "data": [
          {
           "alignmentgroup": "True",
           "hovertemplate": "model=TS<br>iteration=670<br>máquinas=%{x}<br>promedio de seleccion acumulada=%{y}<extra></extra>",
           "legendgroup": "TS",
           "marker": {
            "color": "#636efa",
            "pattern": {
             "shape": ""
            }
           },
           "name": "TS",
           "offsetgroup": "TS",
           "orientation": "v",
           "showlegend": true,
           "textposition": "auto",
           "type": "bar",
           "x": [
            "0_TS",
            "1_TS",
            "2_TS"
           ],
           "xaxis": "x",
           "y": [
            3.5,
            6.5,
            661
           ],
           "yaxis": "y"
          },
          {
           "alignmentgroup": "True",
           "hovertemplate": "model=egT<br>iteration=670<br>máquinas=%{x}<br>promedio de seleccion acumulada=%{y}<extra></extra>",
           "legendgroup": "egT",
           "marker": {
            "color": "#EF553B",
            "pattern": {
             "shape": ""
            }
           },
           "name": "egT",
           "offsetgroup": "egT",
           "orientation": "v",
           "showlegend": true,
           "textposition": "auto",
           "type": "bar",
           "x": [
            "0_egT",
            "1_egT",
            "2_egT"
           ],
           "xaxis": "x",
           "y": [
            0.5,
            670.5,
            0
           ],
           "yaxis": "y"
          },
          {
           "alignmentgroup": "True",
           "hovertemplate": "model=egF<br>iteration=670<br>máquinas=%{x}<br>promedio de seleccion acumulada=%{y}<extra></extra>",
           "legendgroup": "egF",
           "marker": {
            "color": "#00cc96",
            "pattern": {
             "shape": ""
            }
           },
           "name": "egF",
           "offsetgroup": "egF",
           "orientation": "v",
           "showlegend": true,
           "textposition": "auto",
           "type": "bar",
           "x": [
            "0_egF",
            "1_egF",
            "2_egF"
           ],
           "xaxis": "x",
           "y": [
            34.5,
            318.5,
            318
           ],
           "yaxis": "y"
          },
          {
           "alignmentgroup": "True",
           "hovertemplate": "model=UCB<br>iteration=670<br>máquinas=%{x}<br>promedio de seleccion acumulada=%{y}<extra></extra>",
           "legendgroup": "UCB",
           "marker": {
            "color": "#ab63fa",
            "pattern": {
             "shape": ""
            }
           },
           "name": "UCB",
           "offsetgroup": "UCB",
           "orientation": "v",
           "showlegend": true,
           "textposition": "auto",
           "type": "bar",
           "x": [
            "0_UCB",
            "1_UCB",
            "2_UCB"
           ],
           "xaxis": "x",
           "y": [
            15.5,
            26,
            629.5
           ],
           "yaxis": "y"
          }
         ],
         "name": "670"
        },
        {
         "data": [
          {
           "alignmentgroup": "True",
           "hovertemplate": "model=TS<br>iteration=680<br>máquinas=%{x}<br>promedio de seleccion acumulada=%{y}<extra></extra>",
           "legendgroup": "TS",
           "marker": {
            "color": "#636efa",
            "pattern": {
             "shape": ""
            }
           },
           "name": "TS",
           "offsetgroup": "TS",
           "orientation": "v",
           "showlegend": true,
           "textposition": "auto",
           "type": "bar",
           "x": [
            "0_TS",
            "1_TS",
            "2_TS"
           ],
           "xaxis": "x",
           "y": [
            3.5,
            6.5,
            671
           ],
           "yaxis": "y"
          },
          {
           "alignmentgroup": "True",
           "hovertemplate": "model=egT<br>iteration=680<br>máquinas=%{x}<br>promedio de seleccion acumulada=%{y}<extra></extra>",
           "legendgroup": "egT",
           "marker": {
            "color": "#EF553B",
            "pattern": {
             "shape": ""
            }
           },
           "name": "egT",
           "offsetgroup": "egT",
           "orientation": "v",
           "showlegend": true,
           "textposition": "auto",
           "type": "bar",
           "x": [
            "0_egT",
            "1_egT",
            "2_egT"
           ],
           "xaxis": "x",
           "y": [
            0.5,
            680.5,
            0
           ],
           "yaxis": "y"
          },
          {
           "alignmentgroup": "True",
           "hovertemplate": "model=egF<br>iteration=680<br>máquinas=%{x}<br>promedio de seleccion acumulada=%{y}<extra></extra>",
           "legendgroup": "egF",
           "marker": {
            "color": "#00cc96",
            "pattern": {
             "shape": ""
            }
           },
           "name": "egF",
           "offsetgroup": "egF",
           "orientation": "v",
           "showlegend": true,
           "textposition": "auto",
           "type": "bar",
           "x": [
            "0_egF",
            "1_egF",
            "2_egF"
           ],
           "xaxis": "x",
           "y": [
            34.5,
            324,
            322.5
           ],
           "yaxis": "y"
          },
          {
           "alignmentgroup": "True",
           "hovertemplate": "model=UCB<br>iteration=680<br>máquinas=%{x}<br>promedio de seleccion acumulada=%{y}<extra></extra>",
           "legendgroup": "UCB",
           "marker": {
            "color": "#ab63fa",
            "pattern": {
             "shape": ""
            }
           },
           "name": "UCB",
           "offsetgroup": "UCB",
           "orientation": "v",
           "showlegend": true,
           "textposition": "auto",
           "type": "bar",
           "x": [
            "0_UCB",
            "1_UCB",
            "2_UCB"
           ],
           "xaxis": "x",
           "y": [
            15.5,
            26,
            639.5
           ],
           "yaxis": "y"
          }
         ],
         "name": "680"
        },
        {
         "data": [
          {
           "alignmentgroup": "True",
           "hovertemplate": "model=TS<br>iteration=690<br>máquinas=%{x}<br>promedio de seleccion acumulada=%{y}<extra></extra>",
           "legendgroup": "TS",
           "marker": {
            "color": "#636efa",
            "pattern": {
             "shape": ""
            }
           },
           "name": "TS",
           "offsetgroup": "TS",
           "orientation": "v",
           "showlegend": true,
           "textposition": "auto",
           "type": "bar",
           "x": [
            "0_TS",
            "1_TS",
            "2_TS"
           ],
           "xaxis": "x",
           "y": [
            3.5,
            6.5,
            681
           ],
           "yaxis": "y"
          },
          {
           "alignmentgroup": "True",
           "hovertemplate": "model=egT<br>iteration=690<br>máquinas=%{x}<br>promedio de seleccion acumulada=%{y}<extra></extra>",
           "legendgroup": "egT",
           "marker": {
            "color": "#EF553B",
            "pattern": {
             "shape": ""
            }
           },
           "name": "egT",
           "offsetgroup": "egT",
           "orientation": "v",
           "showlegend": true,
           "textposition": "auto",
           "type": "bar",
           "x": [
            "0_egT",
            "1_egT",
            "2_egT"
           ],
           "xaxis": "x",
           "y": [
            0.5,
            690.5,
            0
           ],
           "yaxis": "y"
          },
          {
           "alignmentgroup": "True",
           "hovertemplate": "model=egF<br>iteration=690<br>máquinas=%{x}<br>promedio de seleccion acumulada=%{y}<extra></extra>",
           "legendgroup": "egF",
           "marker": {
            "color": "#00cc96",
            "pattern": {
             "shape": ""
            }
           },
           "name": "egF",
           "offsetgroup": "egF",
           "orientation": "v",
           "showlegend": true,
           "textposition": "auto",
           "type": "bar",
           "x": [
            "0_egF",
            "1_egF",
            "2_egF"
           ],
           "xaxis": "x",
           "y": [
            35,
            329,
            327
           ],
           "yaxis": "y"
          },
          {
           "alignmentgroup": "True",
           "hovertemplate": "model=UCB<br>iteration=690<br>máquinas=%{x}<br>promedio de seleccion acumulada=%{y}<extra></extra>",
           "legendgroup": "UCB",
           "marker": {
            "color": "#ab63fa",
            "pattern": {
             "shape": ""
            }
           },
           "name": "UCB",
           "offsetgroup": "UCB",
           "orientation": "v",
           "showlegend": true,
           "textposition": "auto",
           "type": "bar",
           "x": [
            "0_UCB",
            "1_UCB",
            "2_UCB"
           ],
           "xaxis": "x",
           "y": [
            15.5,
            26,
            649.5
           ],
           "yaxis": "y"
          }
         ],
         "name": "690"
        },
        {
         "data": [
          {
           "alignmentgroup": "True",
           "hovertemplate": "model=TS<br>iteration=700<br>máquinas=%{x}<br>promedio de seleccion acumulada=%{y}<extra></extra>",
           "legendgroup": "TS",
           "marker": {
            "color": "#636efa",
            "pattern": {
             "shape": ""
            }
           },
           "name": "TS",
           "offsetgroup": "TS",
           "orientation": "v",
           "showlegend": true,
           "textposition": "auto",
           "type": "bar",
           "x": [
            "0_TS",
            "1_TS",
            "2_TS"
           ],
           "xaxis": "x",
           "y": [
            3.5,
            6.5,
            691
           ],
           "yaxis": "y"
          },
          {
           "alignmentgroup": "True",
           "hovertemplate": "model=egT<br>iteration=700<br>máquinas=%{x}<br>promedio de seleccion acumulada=%{y}<extra></extra>",
           "legendgroup": "egT",
           "marker": {
            "color": "#EF553B",
            "pattern": {
             "shape": ""
            }
           },
           "name": "egT",
           "offsetgroup": "egT",
           "orientation": "v",
           "showlegend": true,
           "textposition": "auto",
           "type": "bar",
           "x": [
            "0_egT",
            "1_egT",
            "2_egT"
           ],
           "xaxis": "x",
           "y": [
            0.5,
            700.5,
            0
           ],
           "yaxis": "y"
          },
          {
           "alignmentgroup": "True",
           "hovertemplate": "model=egF<br>iteration=700<br>máquinas=%{x}<br>promedio de seleccion acumulada=%{y}<extra></extra>",
           "legendgroup": "egF",
           "marker": {
            "color": "#00cc96",
            "pattern": {
             "shape": ""
            }
           },
           "name": "egF",
           "offsetgroup": "egF",
           "orientation": "v",
           "showlegend": true,
           "textposition": "auto",
           "type": "bar",
           "x": [
            "0_egF",
            "1_egF",
            "2_egF"
           ],
           "xaxis": "x",
           "y": [
            35,
            333.5,
            332.5
           ],
           "yaxis": "y"
          },
          {
           "alignmentgroup": "True",
           "hovertemplate": "model=UCB<br>iteration=700<br>máquinas=%{x}<br>promedio de seleccion acumulada=%{y}<extra></extra>",
           "legendgroup": "UCB",
           "marker": {
            "color": "#ab63fa",
            "pattern": {
             "shape": ""
            }
           },
           "name": "UCB",
           "offsetgroup": "UCB",
           "orientation": "v",
           "showlegend": true,
           "textposition": "auto",
           "type": "bar",
           "x": [
            "0_UCB",
            "1_UCB",
            "2_UCB"
           ],
           "xaxis": "x",
           "y": [
            15.5,
            26,
            659.5
           ],
           "yaxis": "y"
          }
         ],
         "name": "700"
        },
        {
         "data": [
          {
           "alignmentgroup": "True",
           "hovertemplate": "model=TS<br>iteration=710<br>máquinas=%{x}<br>promedio de seleccion acumulada=%{y}<extra></extra>",
           "legendgroup": "TS",
           "marker": {
            "color": "#636efa",
            "pattern": {
             "shape": ""
            }
           },
           "name": "TS",
           "offsetgroup": "TS",
           "orientation": "v",
           "showlegend": true,
           "textposition": "auto",
           "type": "bar",
           "x": [
            "0_TS",
            "1_TS",
            "2_TS"
           ],
           "xaxis": "x",
           "y": [
            3.5,
            6.5,
            701
           ],
           "yaxis": "y"
          },
          {
           "alignmentgroup": "True",
           "hovertemplate": "model=egT<br>iteration=710<br>máquinas=%{x}<br>promedio de seleccion acumulada=%{y}<extra></extra>",
           "legendgroup": "egT",
           "marker": {
            "color": "#EF553B",
            "pattern": {
             "shape": ""
            }
           },
           "name": "egT",
           "offsetgroup": "egT",
           "orientation": "v",
           "showlegend": true,
           "textposition": "auto",
           "type": "bar",
           "x": [
            "0_egT",
            "1_egT",
            "2_egT"
           ],
           "xaxis": "x",
           "y": [
            0.5,
            710.5,
            0
           ],
           "yaxis": "y"
          },
          {
           "alignmentgroup": "True",
           "hovertemplate": "model=egF<br>iteration=710<br>máquinas=%{x}<br>promedio de seleccion acumulada=%{y}<extra></extra>",
           "legendgroup": "egF",
           "marker": {
            "color": "#00cc96",
            "pattern": {
             "shape": ""
            }
           },
           "name": "egF",
           "offsetgroup": "egF",
           "orientation": "v",
           "showlegend": true,
           "textposition": "auto",
           "type": "bar",
           "x": [
            "0_egF",
            "1_egF",
            "2_egF"
           ],
           "xaxis": "x",
           "y": [
            36.5,
            337.5,
            337
           ],
           "yaxis": "y"
          },
          {
           "alignmentgroup": "True",
           "hovertemplate": "model=UCB<br>iteration=710<br>máquinas=%{x}<br>promedio de seleccion acumulada=%{y}<extra></extra>",
           "legendgroup": "UCB",
           "marker": {
            "color": "#ab63fa",
            "pattern": {
             "shape": ""
            }
           },
           "name": "UCB",
           "offsetgroup": "UCB",
           "orientation": "v",
           "showlegend": true,
           "textposition": "auto",
           "type": "bar",
           "x": [
            "0_UCB",
            "1_UCB",
            "2_UCB"
           ],
           "xaxis": "x",
           "y": [
            15.5,
            26.5,
            669
           ],
           "yaxis": "y"
          }
         ],
         "name": "710"
        },
        {
         "data": [
          {
           "alignmentgroup": "True",
           "hovertemplate": "model=TS<br>iteration=720<br>máquinas=%{x}<br>promedio de seleccion acumulada=%{y}<extra></extra>",
           "legendgroup": "TS",
           "marker": {
            "color": "#636efa",
            "pattern": {
             "shape": ""
            }
           },
           "name": "TS",
           "offsetgroup": "TS",
           "orientation": "v",
           "showlegend": true,
           "textposition": "auto",
           "type": "bar",
           "x": [
            "0_TS",
            "1_TS",
            "2_TS"
           ],
           "xaxis": "x",
           "y": [
            3.5,
            6.5,
            711
           ],
           "yaxis": "y"
          },
          {
           "alignmentgroup": "True",
           "hovertemplate": "model=egT<br>iteration=720<br>máquinas=%{x}<br>promedio de seleccion acumulada=%{y}<extra></extra>",
           "legendgroup": "egT",
           "marker": {
            "color": "#EF553B",
            "pattern": {
             "shape": ""
            }
           },
           "name": "egT",
           "offsetgroup": "egT",
           "orientation": "v",
           "showlegend": true,
           "textposition": "auto",
           "type": "bar",
           "x": [
            "0_egT",
            "1_egT",
            "2_egT"
           ],
           "xaxis": "x",
           "y": [
            0.5,
            720.5,
            0
           ],
           "yaxis": "y"
          },
          {
           "alignmentgroup": "True",
           "hovertemplate": "model=egF<br>iteration=720<br>máquinas=%{x}<br>promedio de seleccion acumulada=%{y}<extra></extra>",
           "legendgroup": "egF",
           "marker": {
            "color": "#00cc96",
            "pattern": {
             "shape": ""
            }
           },
           "name": "egF",
           "offsetgroup": "egF",
           "orientation": "v",
           "showlegend": true,
           "textposition": "auto",
           "type": "bar",
           "x": [
            "0_egF",
            "1_egF",
            "2_egF"
           ],
           "xaxis": "x",
           "y": [
            36.5,
            342.5,
            342
           ],
           "yaxis": "y"
          },
          {
           "alignmentgroup": "True",
           "hovertemplate": "model=UCB<br>iteration=720<br>máquinas=%{x}<br>promedio de seleccion acumulada=%{y}<extra></extra>",
           "legendgroup": "UCB",
           "marker": {
            "color": "#ab63fa",
            "pattern": {
             "shape": ""
            }
           },
           "name": "UCB",
           "offsetgroup": "UCB",
           "orientation": "v",
           "showlegend": true,
           "textposition": "auto",
           "type": "bar",
           "x": [
            "0_UCB",
            "1_UCB",
            "2_UCB"
           ],
           "xaxis": "x",
           "y": [
            15.5,
            26.5,
            679
           ],
           "yaxis": "y"
          }
         ],
         "name": "720"
        },
        {
         "data": [
          {
           "alignmentgroup": "True",
           "hovertemplate": "model=TS<br>iteration=730<br>máquinas=%{x}<br>promedio de seleccion acumulada=%{y}<extra></extra>",
           "legendgroup": "TS",
           "marker": {
            "color": "#636efa",
            "pattern": {
             "shape": ""
            }
           },
           "name": "TS",
           "offsetgroup": "TS",
           "orientation": "v",
           "showlegend": true,
           "textposition": "auto",
           "type": "bar",
           "x": [
            "0_TS",
            "1_TS",
            "2_TS"
           ],
           "xaxis": "x",
           "y": [
            3.5,
            6.5,
            721
           ],
           "yaxis": "y"
          },
          {
           "alignmentgroup": "True",
           "hovertemplate": "model=egT<br>iteration=730<br>máquinas=%{x}<br>promedio de seleccion acumulada=%{y}<extra></extra>",
           "legendgroup": "egT",
           "marker": {
            "color": "#EF553B",
            "pattern": {
             "shape": ""
            }
           },
           "name": "egT",
           "offsetgroup": "egT",
           "orientation": "v",
           "showlegend": true,
           "textposition": "auto",
           "type": "bar",
           "x": [
            "0_egT",
            "1_egT",
            "2_egT"
           ],
           "xaxis": "x",
           "y": [
            0.5,
            730.5,
            0
           ],
           "yaxis": "y"
          },
          {
           "alignmentgroup": "True",
           "hovertemplate": "model=egF<br>iteration=730<br>máquinas=%{x}<br>promedio de seleccion acumulada=%{y}<extra></extra>",
           "legendgroup": "egF",
           "marker": {
            "color": "#00cc96",
            "pattern": {
             "shape": ""
            }
           },
           "name": "egF",
           "offsetgroup": "egF",
           "orientation": "v",
           "showlegend": true,
           "textposition": "auto",
           "type": "bar",
           "x": [
            "0_egF",
            "1_egF",
            "2_egF"
           ],
           "xaxis": "x",
           "y": [
            37,
            348,
            346
           ],
           "yaxis": "y"
          },
          {
           "alignmentgroup": "True",
           "hovertemplate": "model=UCB<br>iteration=730<br>máquinas=%{x}<br>promedio de seleccion acumulada=%{y}<extra></extra>",
           "legendgroup": "UCB",
           "marker": {
            "color": "#ab63fa",
            "pattern": {
             "shape": ""
            }
           },
           "name": "UCB",
           "offsetgroup": "UCB",
           "orientation": "v",
           "showlegend": true,
           "textposition": "auto",
           "type": "bar",
           "x": [
            "0_UCB",
            "1_UCB",
            "2_UCB"
           ],
           "xaxis": "x",
           "y": [
            15.5,
            27,
            688.5
           ],
           "yaxis": "y"
          }
         ],
         "name": "730"
        },
        {
         "data": [
          {
           "alignmentgroup": "True",
           "hovertemplate": "model=TS<br>iteration=740<br>máquinas=%{x}<br>promedio de seleccion acumulada=%{y}<extra></extra>",
           "legendgroup": "TS",
           "marker": {
            "color": "#636efa",
            "pattern": {
             "shape": ""
            }
           },
           "name": "TS",
           "offsetgroup": "TS",
           "orientation": "v",
           "showlegend": true,
           "textposition": "auto",
           "type": "bar",
           "x": [
            "0_TS",
            "1_TS",
            "2_TS"
           ],
           "xaxis": "x",
           "y": [
            3.5,
            6.5,
            731
           ],
           "yaxis": "y"
          },
          {
           "alignmentgroup": "True",
           "hovertemplate": "model=egT<br>iteration=740<br>máquinas=%{x}<br>promedio de seleccion acumulada=%{y}<extra></extra>",
           "legendgroup": "egT",
           "marker": {
            "color": "#EF553B",
            "pattern": {
             "shape": ""
            }
           },
           "name": "egT",
           "offsetgroup": "egT",
           "orientation": "v",
           "showlegend": true,
           "textposition": "auto",
           "type": "bar",
           "x": [
            "0_egT",
            "1_egT",
            "2_egT"
           ],
           "xaxis": "x",
           "y": [
            0.5,
            740.5,
            0
           ],
           "yaxis": "y"
          },
          {
           "alignmentgroup": "True",
           "hovertemplate": "model=egF<br>iteration=740<br>máquinas=%{x}<br>promedio de seleccion acumulada=%{y}<extra></extra>",
           "legendgroup": "egF",
           "marker": {
            "color": "#00cc96",
            "pattern": {
             "shape": ""
            }
           },
           "name": "egF",
           "offsetgroup": "egF",
           "orientation": "v",
           "showlegend": true,
           "textposition": "auto",
           "type": "bar",
           "x": [
            "0_egF",
            "1_egF",
            "2_egF"
           ],
           "xaxis": "x",
           "y": [
            37,
            353.5,
            350.5
           ],
           "yaxis": "y"
          },
          {
           "alignmentgroup": "True",
           "hovertemplate": "model=UCB<br>iteration=740<br>máquinas=%{x}<br>promedio de seleccion acumulada=%{y}<extra></extra>",
           "legendgroup": "UCB",
           "marker": {
            "color": "#ab63fa",
            "pattern": {
             "shape": ""
            }
           },
           "name": "UCB",
           "offsetgroup": "UCB",
           "orientation": "v",
           "showlegend": true,
           "textposition": "auto",
           "type": "bar",
           "x": [
            "0_UCB",
            "1_UCB",
            "2_UCB"
           ],
           "xaxis": "x",
           "y": [
            15.5,
            27,
            698.5
           ],
           "yaxis": "y"
          }
         ],
         "name": "740"
        },
        {
         "data": [
          {
           "alignmentgroup": "True",
           "hovertemplate": "model=TS<br>iteration=750<br>máquinas=%{x}<br>promedio de seleccion acumulada=%{y}<extra></extra>",
           "legendgroup": "TS",
           "marker": {
            "color": "#636efa",
            "pattern": {
             "shape": ""
            }
           },
           "name": "TS",
           "offsetgroup": "TS",
           "orientation": "v",
           "showlegend": true,
           "textposition": "auto",
           "type": "bar",
           "x": [
            "0_TS",
            "1_TS",
            "2_TS"
           ],
           "xaxis": "x",
           "y": [
            3.5,
            6.5,
            741
           ],
           "yaxis": "y"
          },
          {
           "alignmentgroup": "True",
           "hovertemplate": "model=egT<br>iteration=750<br>máquinas=%{x}<br>promedio de seleccion acumulada=%{y}<extra></extra>",
           "legendgroup": "egT",
           "marker": {
            "color": "#EF553B",
            "pattern": {
             "shape": ""
            }
           },
           "name": "egT",
           "offsetgroup": "egT",
           "orientation": "v",
           "showlegend": true,
           "textposition": "auto",
           "type": "bar",
           "x": [
            "0_egT",
            "1_egT",
            "2_egT"
           ],
           "xaxis": "x",
           "y": [
            0.5,
            750.5,
            0
           ],
           "yaxis": "y"
          },
          {
           "alignmentgroup": "True",
           "hovertemplate": "model=egF<br>iteration=750<br>máquinas=%{x}<br>promedio de seleccion acumulada=%{y}<extra></extra>",
           "legendgroup": "egF",
           "marker": {
            "color": "#00cc96",
            "pattern": {
             "shape": ""
            }
           },
           "name": "egF",
           "offsetgroup": "egF",
           "orientation": "v",
           "showlegend": true,
           "textposition": "auto",
           "type": "bar",
           "x": [
            "0_egF",
            "1_egF",
            "2_egF"
           ],
           "xaxis": "x",
           "y": [
            37.5,
            358,
            355.5
           ],
           "yaxis": "y"
          },
          {
           "alignmentgroup": "True",
           "hovertemplate": "model=UCB<br>iteration=750<br>máquinas=%{x}<br>promedio de seleccion acumulada=%{y}<extra></extra>",
           "legendgroup": "UCB",
           "marker": {
            "color": "#ab63fa",
            "pattern": {
             "shape": ""
            }
           },
           "name": "UCB",
           "offsetgroup": "UCB",
           "orientation": "v",
           "showlegend": true,
           "textposition": "auto",
           "type": "bar",
           "x": [
            "0_UCB",
            "1_UCB",
            "2_UCB"
           ],
           "xaxis": "x",
           "y": [
            15.5,
            27,
            708.5
           ],
           "yaxis": "y"
          }
         ],
         "name": "750"
        },
        {
         "data": [
          {
           "alignmentgroup": "True",
           "hovertemplate": "model=TS<br>iteration=760<br>máquinas=%{x}<br>promedio de seleccion acumulada=%{y}<extra></extra>",
           "legendgroup": "TS",
           "marker": {
            "color": "#636efa",
            "pattern": {
             "shape": ""
            }
           },
           "name": "TS",
           "offsetgroup": "TS",
           "orientation": "v",
           "showlegend": true,
           "textposition": "auto",
           "type": "bar",
           "x": [
            "0_TS",
            "1_TS",
            "2_TS"
           ],
           "xaxis": "x",
           "y": [
            3.5,
            6.5,
            751
           ],
           "yaxis": "y"
          },
          {
           "alignmentgroup": "True",
           "hovertemplate": "model=egT<br>iteration=760<br>máquinas=%{x}<br>promedio de seleccion acumulada=%{y}<extra></extra>",
           "legendgroup": "egT",
           "marker": {
            "color": "#EF553B",
            "pattern": {
             "shape": ""
            }
           },
           "name": "egT",
           "offsetgroup": "egT",
           "orientation": "v",
           "showlegend": true,
           "textposition": "auto",
           "type": "bar",
           "x": [
            "0_egT",
            "1_egT",
            "2_egT"
           ],
           "xaxis": "x",
           "y": [
            0.5,
            760.5,
            0
           ],
           "yaxis": "y"
          },
          {
           "alignmentgroup": "True",
           "hovertemplate": "model=egF<br>iteration=760<br>máquinas=%{x}<br>promedio de seleccion acumulada=%{y}<extra></extra>",
           "legendgroup": "egF",
           "marker": {
            "color": "#00cc96",
            "pattern": {
             "shape": ""
            }
           },
           "name": "egF",
           "offsetgroup": "egF",
           "orientation": "v",
           "showlegend": true,
           "textposition": "auto",
           "type": "bar",
           "x": [
            "0_egF",
            "1_egF",
            "2_egF"
           ],
           "xaxis": "x",
           "y": [
            37.5,
            363,
            360.5
           ],
           "yaxis": "y"
          },
          {
           "alignmentgroup": "True",
           "hovertemplate": "model=UCB<br>iteration=760<br>máquinas=%{x}<br>promedio de seleccion acumulada=%{y}<extra></extra>",
           "legendgroup": "UCB",
           "marker": {
            "color": "#ab63fa",
            "pattern": {
             "shape": ""
            }
           },
           "name": "UCB",
           "offsetgroup": "UCB",
           "orientation": "v",
           "showlegend": true,
           "textposition": "auto",
           "type": "bar",
           "x": [
            "0_UCB",
            "1_UCB",
            "2_UCB"
           ],
           "xaxis": "x",
           "y": [
            15.5,
            27,
            718.5
           ],
           "yaxis": "y"
          }
         ],
         "name": "760"
        },
        {
         "data": [
          {
           "alignmentgroup": "True",
           "hovertemplate": "model=TS<br>iteration=770<br>máquinas=%{x}<br>promedio de seleccion acumulada=%{y}<extra></extra>",
           "legendgroup": "TS",
           "marker": {
            "color": "#636efa",
            "pattern": {
             "shape": ""
            }
           },
           "name": "TS",
           "offsetgroup": "TS",
           "orientation": "v",
           "showlegend": true,
           "textposition": "auto",
           "type": "bar",
           "x": [
            "0_TS",
            "1_TS",
            "2_TS"
           ],
           "xaxis": "x",
           "y": [
            3.5,
            6.5,
            761
           ],
           "yaxis": "y"
          },
          {
           "alignmentgroup": "True",
           "hovertemplate": "model=egT<br>iteration=770<br>máquinas=%{x}<br>promedio de seleccion acumulada=%{y}<extra></extra>",
           "legendgroup": "egT",
           "marker": {
            "color": "#EF553B",
            "pattern": {
             "shape": ""
            }
           },
           "name": "egT",
           "offsetgroup": "egT",
           "orientation": "v",
           "showlegend": true,
           "textposition": "auto",
           "type": "bar",
           "x": [
            "0_egT",
            "1_egT",
            "2_egT"
           ],
           "xaxis": "x",
           "y": [
            0.5,
            770.5,
            0
           ],
           "yaxis": "y"
          },
          {
           "alignmentgroup": "True",
           "hovertemplate": "model=egF<br>iteration=770<br>máquinas=%{x}<br>promedio de seleccion acumulada=%{y}<extra></extra>",
           "legendgroup": "egF",
           "marker": {
            "color": "#00cc96",
            "pattern": {
             "shape": ""
            }
           },
           "name": "egF",
           "offsetgroup": "egF",
           "orientation": "v",
           "showlegend": true,
           "textposition": "auto",
           "type": "bar",
           "x": [
            "0_egF",
            "1_egF",
            "2_egF"
           ],
           "xaxis": "x",
           "y": [
            38.5,
            367,
            365.5
           ],
           "yaxis": "y"
          },
          {
           "alignmentgroup": "True",
           "hovertemplate": "model=UCB<br>iteration=770<br>máquinas=%{x}<br>promedio de seleccion acumulada=%{y}<extra></extra>",
           "legendgroup": "UCB",
           "marker": {
            "color": "#ab63fa",
            "pattern": {
             "shape": ""
            }
           },
           "name": "UCB",
           "offsetgroup": "UCB",
           "orientation": "v",
           "showlegend": true,
           "textposition": "auto",
           "type": "bar",
           "x": [
            "0_UCB",
            "1_UCB",
            "2_UCB"
           ],
           "xaxis": "x",
           "y": [
            15.5,
            27.5,
            728
           ],
           "yaxis": "y"
          }
         ],
         "name": "770"
        },
        {
         "data": [
          {
           "alignmentgroup": "True",
           "hovertemplate": "model=TS<br>iteration=780<br>máquinas=%{x}<br>promedio de seleccion acumulada=%{y}<extra></extra>",
           "legendgroup": "TS",
           "marker": {
            "color": "#636efa",
            "pattern": {
             "shape": ""
            }
           },
           "name": "TS",
           "offsetgroup": "TS",
           "orientation": "v",
           "showlegend": true,
           "textposition": "auto",
           "type": "bar",
           "x": [
            "0_TS",
            "1_TS",
            "2_TS"
           ],
           "xaxis": "x",
           "y": [
            4,
            6.5,
            770.5
           ],
           "yaxis": "y"
          },
          {
           "alignmentgroup": "True",
           "hovertemplate": "model=egT<br>iteration=780<br>máquinas=%{x}<br>promedio de seleccion acumulada=%{y}<extra></extra>",
           "legendgroup": "egT",
           "marker": {
            "color": "#EF553B",
            "pattern": {
             "shape": ""
            }
           },
           "name": "egT",
           "offsetgroup": "egT",
           "orientation": "v",
           "showlegend": true,
           "textposition": "auto",
           "type": "bar",
           "x": [
            "0_egT",
            "1_egT",
            "2_egT"
           ],
           "xaxis": "x",
           "y": [
            0.5,
            780.5,
            0
           ],
           "yaxis": "y"
          },
          {
           "alignmentgroup": "True",
           "hovertemplate": "model=egF<br>iteration=780<br>máquinas=%{x}<br>promedio de seleccion acumulada=%{y}<extra></extra>",
           "legendgroup": "egF",
           "marker": {
            "color": "#00cc96",
            "pattern": {
             "shape": ""
            }
           },
           "name": "egF",
           "offsetgroup": "egF",
           "orientation": "v",
           "showlegend": true,
           "textposition": "auto",
           "type": "bar",
           "x": [
            "0_egF",
            "1_egF",
            "2_egF"
           ],
           "xaxis": "x",
           "y": [
            39,
            371,
            371
           ],
           "yaxis": "y"
          },
          {
           "alignmentgroup": "True",
           "hovertemplate": "model=UCB<br>iteration=780<br>máquinas=%{x}<br>promedio de seleccion acumulada=%{y}<extra></extra>",
           "legendgroup": "UCB",
           "marker": {
            "color": "#ab63fa",
            "pattern": {
             "shape": ""
            }
           },
           "name": "UCB",
           "offsetgroup": "UCB",
           "orientation": "v",
           "showlegend": true,
           "textposition": "auto",
           "type": "bar",
           "x": [
            "0_UCB",
            "1_UCB",
            "2_UCB"
           ],
           "xaxis": "x",
           "y": [
            15.5,
            27.5,
            738
           ],
           "yaxis": "y"
          }
         ],
         "name": "780"
        },
        {
         "data": [
          {
           "alignmentgroup": "True",
           "hovertemplate": "model=TS<br>iteration=790<br>máquinas=%{x}<br>promedio de seleccion acumulada=%{y}<extra></extra>",
           "legendgroup": "TS",
           "marker": {
            "color": "#636efa",
            "pattern": {
             "shape": ""
            }
           },
           "name": "TS",
           "offsetgroup": "TS",
           "orientation": "v",
           "showlegend": true,
           "textposition": "auto",
           "type": "bar",
           "x": [
            "0_TS",
            "1_TS",
            "2_TS"
           ],
           "xaxis": "x",
           "y": [
            4,
            6.5,
            780.5
           ],
           "yaxis": "y"
          },
          {
           "alignmentgroup": "True",
           "hovertemplate": "model=egT<br>iteration=790<br>máquinas=%{x}<br>promedio de seleccion acumulada=%{y}<extra></extra>",
           "legendgroup": "egT",
           "marker": {
            "color": "#EF553B",
            "pattern": {
             "shape": ""
            }
           },
           "name": "egT",
           "offsetgroup": "egT",
           "orientation": "v",
           "showlegend": true,
           "textposition": "auto",
           "type": "bar",
           "x": [
            "0_egT",
            "1_egT",
            "2_egT"
           ],
           "xaxis": "x",
           "y": [
            0.5,
            790.5,
            0
           ],
           "yaxis": "y"
          },
          {
           "alignmentgroup": "True",
           "hovertemplate": "model=egF<br>iteration=790<br>máquinas=%{x}<br>promedio de seleccion acumulada=%{y}<extra></extra>",
           "legendgroup": "egF",
           "marker": {
            "color": "#00cc96",
            "pattern": {
             "shape": ""
            }
           },
           "name": "egF",
           "offsetgroup": "egF",
           "orientation": "v",
           "showlegend": true,
           "textposition": "auto",
           "type": "bar",
           "x": [
            "0_egF",
            "1_egF",
            "2_egF"
           ],
           "xaxis": "x",
           "y": [
            39,
            376.5,
            375.5
           ],
           "yaxis": "y"
          },
          {
           "alignmentgroup": "True",
           "hovertemplate": "model=UCB<br>iteration=790<br>máquinas=%{x}<br>promedio de seleccion acumulada=%{y}<extra></extra>",
           "legendgroup": "UCB",
           "marker": {
            "color": "#ab63fa",
            "pattern": {
             "shape": ""
            }
           },
           "name": "UCB",
           "offsetgroup": "UCB",
           "orientation": "v",
           "showlegend": true,
           "textposition": "auto",
           "type": "bar",
           "x": [
            "0_UCB",
            "1_UCB",
            "2_UCB"
           ],
           "xaxis": "x",
           "y": [
            15.5,
            27.5,
            748
           ],
           "yaxis": "y"
          }
         ],
         "name": "790"
        },
        {
         "data": [
          {
           "alignmentgroup": "True",
           "hovertemplate": "model=TS<br>iteration=800<br>máquinas=%{x}<br>promedio de seleccion acumulada=%{y}<extra></extra>",
           "legendgroup": "TS",
           "marker": {
            "color": "#636efa",
            "pattern": {
             "shape": ""
            }
           },
           "name": "TS",
           "offsetgroup": "TS",
           "orientation": "v",
           "showlegend": true,
           "textposition": "auto",
           "type": "bar",
           "x": [
            "0_TS",
            "1_TS",
            "2_TS"
           ],
           "xaxis": "x",
           "y": [
            4,
            6.5,
            790.5
           ],
           "yaxis": "y"
          },
          {
           "alignmentgroup": "True",
           "hovertemplate": "model=egT<br>iteration=800<br>máquinas=%{x}<br>promedio de seleccion acumulada=%{y}<extra></extra>",
           "legendgroup": "egT",
           "marker": {
            "color": "#EF553B",
            "pattern": {
             "shape": ""
            }
           },
           "name": "egT",
           "offsetgroup": "egT",
           "orientation": "v",
           "showlegend": true,
           "textposition": "auto",
           "type": "bar",
           "x": [
            "0_egT",
            "1_egT",
            "2_egT"
           ],
           "xaxis": "x",
           "y": [
            0.5,
            800.5,
            0
           ],
           "yaxis": "y"
          },
          {
           "alignmentgroup": "True",
           "hovertemplate": "model=egF<br>iteration=800<br>máquinas=%{x}<br>promedio de seleccion acumulada=%{y}<extra></extra>",
           "legendgroup": "egF",
           "marker": {
            "color": "#00cc96",
            "pattern": {
             "shape": ""
            }
           },
           "name": "egF",
           "offsetgroup": "egF",
           "orientation": "v",
           "showlegend": true,
           "textposition": "auto",
           "type": "bar",
           "x": [
            "0_egF",
            "1_egF",
            "2_egF"
           ],
           "xaxis": "x",
           "y": [
            39.5,
            380.5,
            381
           ],
           "yaxis": "y"
          },
          {
           "alignmentgroup": "True",
           "hovertemplate": "model=UCB<br>iteration=800<br>máquinas=%{x}<br>promedio de seleccion acumulada=%{y}<extra></extra>",
           "legendgroup": "UCB",
           "marker": {
            "color": "#ab63fa",
            "pattern": {
             "shape": ""
            }
           },
           "name": "UCB",
           "offsetgroup": "UCB",
           "orientation": "v",
           "showlegend": true,
           "textposition": "auto",
           "type": "bar",
           "x": [
            "0_UCB",
            "1_UCB",
            "2_UCB"
           ],
           "xaxis": "x",
           "y": [
            16,
            27.5,
            757.5
           ],
           "yaxis": "y"
          }
         ],
         "name": "800"
        },
        {
         "data": [
          {
           "alignmentgroup": "True",
           "hovertemplate": "model=TS<br>iteration=810<br>máquinas=%{x}<br>promedio de seleccion acumulada=%{y}<extra></extra>",
           "legendgroup": "TS",
           "marker": {
            "color": "#636efa",
            "pattern": {
             "shape": ""
            }
           },
           "name": "TS",
           "offsetgroup": "TS",
           "orientation": "v",
           "showlegend": true,
           "textposition": "auto",
           "type": "bar",
           "x": [
            "0_TS",
            "1_TS",
            "2_TS"
           ],
           "xaxis": "x",
           "y": [
            4,
            6.5,
            800.5
           ],
           "yaxis": "y"
          },
          {
           "alignmentgroup": "True",
           "hovertemplate": "model=egT<br>iteration=810<br>máquinas=%{x}<br>promedio de seleccion acumulada=%{y}<extra></extra>",
           "legendgroup": "egT",
           "marker": {
            "color": "#EF553B",
            "pattern": {
             "shape": ""
            }
           },
           "name": "egT",
           "offsetgroup": "egT",
           "orientation": "v",
           "showlegend": true,
           "textposition": "auto",
           "type": "bar",
           "x": [
            "0_egT",
            "1_egT",
            "2_egT"
           ],
           "xaxis": "x",
           "y": [
            0.5,
            810.5,
            0
           ],
           "yaxis": "y"
          },
          {
           "alignmentgroup": "True",
           "hovertemplate": "model=egF<br>iteration=810<br>máquinas=%{x}<br>promedio de seleccion acumulada=%{y}<extra></extra>",
           "legendgroup": "egF",
           "marker": {
            "color": "#00cc96",
            "pattern": {
             "shape": ""
            }
           },
           "name": "egF",
           "offsetgroup": "egF",
           "orientation": "v",
           "showlegend": true,
           "textposition": "auto",
           "type": "bar",
           "x": [
            "0_egF",
            "1_egF",
            "2_egF"
           ],
           "xaxis": "x",
           "y": [
            40.5,
            384,
            386.5
           ],
           "yaxis": "y"
          },
          {
           "alignmentgroup": "True",
           "hovertemplate": "model=UCB<br>iteration=810<br>máquinas=%{x}<br>promedio de seleccion acumulada=%{y}<extra></extra>",
           "legendgroup": "UCB",
           "marker": {
            "color": "#ab63fa",
            "pattern": {
             "shape": ""
            }
           },
           "name": "UCB",
           "offsetgroup": "UCB",
           "orientation": "v",
           "showlegend": true,
           "textposition": "auto",
           "type": "bar",
           "x": [
            "0_UCB",
            "1_UCB",
            "2_UCB"
           ],
           "xaxis": "x",
           "y": [
            16,
            27.5,
            767.5
           ],
           "yaxis": "y"
          }
         ],
         "name": "810"
        },
        {
         "data": [
          {
           "alignmentgroup": "True",
           "hovertemplate": "model=TS<br>iteration=820<br>máquinas=%{x}<br>promedio de seleccion acumulada=%{y}<extra></extra>",
           "legendgroup": "TS",
           "marker": {
            "color": "#636efa",
            "pattern": {
             "shape": ""
            }
           },
           "name": "TS",
           "offsetgroup": "TS",
           "orientation": "v",
           "showlegend": true,
           "textposition": "auto",
           "type": "bar",
           "x": [
            "0_TS",
            "1_TS",
            "2_TS"
           ],
           "xaxis": "x",
           "y": [
            4,
            6.5,
            810.5
           ],
           "yaxis": "y"
          },
          {
           "alignmentgroup": "True",
           "hovertemplate": "model=egT<br>iteration=820<br>máquinas=%{x}<br>promedio de seleccion acumulada=%{y}<extra></extra>",
           "legendgroup": "egT",
           "marker": {
            "color": "#EF553B",
            "pattern": {
             "shape": ""
            }
           },
           "name": "egT",
           "offsetgroup": "egT",
           "orientation": "v",
           "showlegend": true,
           "textposition": "auto",
           "type": "bar",
           "x": [
            "0_egT",
            "1_egT",
            "2_egT"
           ],
           "xaxis": "x",
           "y": [
            0.5,
            820.5,
            0
           ],
           "yaxis": "y"
          },
          {
           "alignmentgroup": "True",
           "hovertemplate": "model=egF<br>iteration=820<br>máquinas=%{x}<br>promedio de seleccion acumulada=%{y}<extra></extra>",
           "legendgroup": "egF",
           "marker": {
            "color": "#00cc96",
            "pattern": {
             "shape": ""
            }
           },
           "name": "egF",
           "offsetgroup": "egF",
           "orientation": "v",
           "showlegend": true,
           "textposition": "auto",
           "type": "bar",
           "x": [
            "0_egF",
            "1_egF",
            "2_egF"
           ],
           "xaxis": "x",
           "y": [
            41,
            388.5,
            391.5
           ],
           "yaxis": "y"
          },
          {
           "alignmentgroup": "True",
           "hovertemplate": "model=UCB<br>iteration=820<br>máquinas=%{x}<br>promedio de seleccion acumulada=%{y}<extra></extra>",
           "legendgroup": "UCB",
           "marker": {
            "color": "#ab63fa",
            "pattern": {
             "shape": ""
            }
           },
           "name": "UCB",
           "offsetgroup": "UCB",
           "orientation": "v",
           "showlegend": true,
           "textposition": "auto",
           "type": "bar",
           "x": [
            "0_UCB",
            "1_UCB",
            "2_UCB"
           ],
           "xaxis": "x",
           "y": [
            16,
            27.5,
            777.5
           ],
           "yaxis": "y"
          }
         ],
         "name": "820"
        },
        {
         "data": [
          {
           "alignmentgroup": "True",
           "hovertemplate": "model=TS<br>iteration=830<br>máquinas=%{x}<br>promedio de seleccion acumulada=%{y}<extra></extra>",
           "legendgroup": "TS",
           "marker": {
            "color": "#636efa",
            "pattern": {
             "shape": ""
            }
           },
           "name": "TS",
           "offsetgroup": "TS",
           "orientation": "v",
           "showlegend": true,
           "textposition": "auto",
           "type": "bar",
           "x": [
            "0_TS",
            "1_TS",
            "2_TS"
           ],
           "xaxis": "x",
           "y": [
            4,
            6.5,
            820.5
           ],
           "yaxis": "y"
          },
          {
           "alignmentgroup": "True",
           "hovertemplate": "model=egT<br>iteration=830<br>máquinas=%{x}<br>promedio de seleccion acumulada=%{y}<extra></extra>",
           "legendgroup": "egT",
           "marker": {
            "color": "#EF553B",
            "pattern": {
             "shape": ""
            }
           },
           "name": "egT",
           "offsetgroup": "egT",
           "orientation": "v",
           "showlegend": true,
           "textposition": "auto",
           "type": "bar",
           "x": [
            "0_egT",
            "1_egT",
            "2_egT"
           ],
           "xaxis": "x",
           "y": [
            0.5,
            830.5,
            0
           ],
           "yaxis": "y"
          },
          {
           "alignmentgroup": "True",
           "hovertemplate": "model=egF<br>iteration=830<br>máquinas=%{x}<br>promedio de seleccion acumulada=%{y}<extra></extra>",
           "legendgroup": "egF",
           "marker": {
            "color": "#00cc96",
            "pattern": {
             "shape": ""
            }
           },
           "name": "egF",
           "offsetgroup": "egF",
           "orientation": "v",
           "showlegend": true,
           "textposition": "auto",
           "type": "bar",
           "x": [
            "0_egF",
            "1_egF",
            "2_egF"
           ],
           "xaxis": "x",
           "y": [
            42,
            393,
            396
           ],
           "yaxis": "y"
          },
          {
           "alignmentgroup": "True",
           "hovertemplate": "model=UCB<br>iteration=830<br>máquinas=%{x}<br>promedio de seleccion acumulada=%{y}<extra></extra>",
           "legendgroup": "UCB",
           "marker": {
            "color": "#ab63fa",
            "pattern": {
             "shape": ""
            }
           },
           "name": "UCB",
           "offsetgroup": "UCB",
           "orientation": "v",
           "showlegend": true,
           "textposition": "auto",
           "type": "bar",
           "x": [
            "0_UCB",
            "1_UCB",
            "2_UCB"
           ],
           "xaxis": "x",
           "y": [
            16,
            27.5,
            787.5
           ],
           "yaxis": "y"
          }
         ],
         "name": "830"
        },
        {
         "data": [
          {
           "alignmentgroup": "True",
           "hovertemplate": "model=TS<br>iteration=840<br>máquinas=%{x}<br>promedio de seleccion acumulada=%{y}<extra></extra>",
           "legendgroup": "TS",
           "marker": {
            "color": "#636efa",
            "pattern": {
             "shape": ""
            }
           },
           "name": "TS",
           "offsetgroup": "TS",
           "orientation": "v",
           "showlegend": true,
           "textposition": "auto",
           "type": "bar",
           "x": [
            "0_TS",
            "1_TS",
            "2_TS"
           ],
           "xaxis": "x",
           "y": [
            4,
            6.5,
            830.5
           ],
           "yaxis": "y"
          },
          {
           "alignmentgroup": "True",
           "hovertemplate": "model=egT<br>iteration=840<br>máquinas=%{x}<br>promedio de seleccion acumulada=%{y}<extra></extra>",
           "legendgroup": "egT",
           "marker": {
            "color": "#EF553B",
            "pattern": {
             "shape": ""
            }
           },
           "name": "egT",
           "offsetgroup": "egT",
           "orientation": "v",
           "showlegend": true,
           "textposition": "auto",
           "type": "bar",
           "x": [
            "0_egT",
            "1_egT",
            "2_egT"
           ],
           "xaxis": "x",
           "y": [
            0.5,
            840.5,
            0
           ],
           "yaxis": "y"
          },
          {
           "alignmentgroup": "True",
           "hovertemplate": "model=egF<br>iteration=840<br>máquinas=%{x}<br>promedio de seleccion acumulada=%{y}<extra></extra>",
           "legendgroup": "egF",
           "marker": {
            "color": "#00cc96",
            "pattern": {
             "shape": ""
            }
           },
           "name": "egF",
           "offsetgroup": "egF",
           "orientation": "v",
           "showlegend": true,
           "textposition": "auto",
           "type": "bar",
           "x": [
            "0_egF",
            "1_egF",
            "2_egF"
           ],
           "xaxis": "x",
           "y": [
            42.5,
            398,
            400.5
           ],
           "yaxis": "y"
          },
          {
           "alignmentgroup": "True",
           "hovertemplate": "model=UCB<br>iteration=840<br>máquinas=%{x}<br>promedio de seleccion acumulada=%{y}<extra></extra>",
           "legendgroup": "UCB",
           "marker": {
            "color": "#ab63fa",
            "pattern": {
             "shape": ""
            }
           },
           "name": "UCB",
           "offsetgroup": "UCB",
           "orientation": "v",
           "showlegend": true,
           "textposition": "auto",
           "type": "bar",
           "x": [
            "0_UCB",
            "1_UCB",
            "2_UCB"
           ],
           "xaxis": "x",
           "y": [
            16.5,
            28,
            796.5
           ],
           "yaxis": "y"
          }
         ],
         "name": "840"
        },
        {
         "data": [
          {
           "alignmentgroup": "True",
           "hovertemplate": "model=TS<br>iteration=850<br>máquinas=%{x}<br>promedio de seleccion acumulada=%{y}<extra></extra>",
           "legendgroup": "TS",
           "marker": {
            "color": "#636efa",
            "pattern": {
             "shape": ""
            }
           },
           "name": "TS",
           "offsetgroup": "TS",
           "orientation": "v",
           "showlegend": true,
           "textposition": "auto",
           "type": "bar",
           "x": [
            "0_TS",
            "1_TS",
            "2_TS"
           ],
           "xaxis": "x",
           "y": [
            4,
            6.5,
            840.5
           ],
           "yaxis": "y"
          },
          {
           "alignmentgroup": "True",
           "hovertemplate": "model=egT<br>iteration=850<br>máquinas=%{x}<br>promedio de seleccion acumulada=%{y}<extra></extra>",
           "legendgroup": "egT",
           "marker": {
            "color": "#EF553B",
            "pattern": {
             "shape": ""
            }
           },
           "name": "egT",
           "offsetgroup": "egT",
           "orientation": "v",
           "showlegend": true,
           "textposition": "auto",
           "type": "bar",
           "x": [
            "0_egT",
            "1_egT",
            "2_egT"
           ],
           "xaxis": "x",
           "y": [
            0.5,
            850.5,
            0
           ],
           "yaxis": "y"
          },
          {
           "alignmentgroup": "True",
           "hovertemplate": "model=egF<br>iteration=850<br>máquinas=%{x}<br>promedio de seleccion acumulada=%{y}<extra></extra>",
           "legendgroup": "egF",
           "marker": {
            "color": "#00cc96",
            "pattern": {
             "shape": ""
            }
           },
           "name": "egF",
           "offsetgroup": "egF",
           "orientation": "v",
           "showlegend": true,
           "textposition": "auto",
           "type": "bar",
           "x": [
            "0_egF",
            "1_egF",
            "2_egF"
           ],
           "xaxis": "x",
           "y": [
            43,
            401.5,
            406.5
           ],
           "yaxis": "y"
          },
          {
           "alignmentgroup": "True",
           "hovertemplate": "model=UCB<br>iteration=850<br>máquinas=%{x}<br>promedio de seleccion acumulada=%{y}<extra></extra>",
           "legendgroup": "UCB",
           "marker": {
            "color": "#ab63fa",
            "pattern": {
             "shape": ""
            }
           },
           "name": "UCB",
           "offsetgroup": "UCB",
           "orientation": "v",
           "showlegend": true,
           "textposition": "auto",
           "type": "bar",
           "x": [
            "0_UCB",
            "1_UCB",
            "2_UCB"
           ],
           "xaxis": "x",
           "y": [
            16.5,
            28,
            806.5
           ],
           "yaxis": "y"
          }
         ],
         "name": "850"
        },
        {
         "data": [
          {
           "alignmentgroup": "True",
           "hovertemplate": "model=TS<br>iteration=860<br>máquinas=%{x}<br>promedio de seleccion acumulada=%{y}<extra></extra>",
           "legendgroup": "TS",
           "marker": {
            "color": "#636efa",
            "pattern": {
             "shape": ""
            }
           },
           "name": "TS",
           "offsetgroup": "TS",
           "orientation": "v",
           "showlegend": true,
           "textposition": "auto",
           "type": "bar",
           "x": [
            "0_TS",
            "1_TS",
            "2_TS"
           ],
           "xaxis": "x",
           "y": [
            4,
            6.5,
            850.5
           ],
           "yaxis": "y"
          },
          {
           "alignmentgroup": "True",
           "hovertemplate": "model=egT<br>iteration=860<br>máquinas=%{x}<br>promedio de seleccion acumulada=%{y}<extra></extra>",
           "legendgroup": "egT",
           "marker": {
            "color": "#EF553B",
            "pattern": {
             "shape": ""
            }
           },
           "name": "egT",
           "offsetgroup": "egT",
           "orientation": "v",
           "showlegend": true,
           "textposition": "auto",
           "type": "bar",
           "x": [
            "0_egT",
            "1_egT",
            "2_egT"
           ],
           "xaxis": "x",
           "y": [
            0.5,
            860.5,
            0
           ],
           "yaxis": "y"
          },
          {
           "alignmentgroup": "True",
           "hovertemplate": "model=egF<br>iteration=860<br>máquinas=%{x}<br>promedio de seleccion acumulada=%{y}<extra></extra>",
           "legendgroup": "egF",
           "marker": {
            "color": "#00cc96",
            "pattern": {
             "shape": ""
            }
           },
           "name": "egF",
           "offsetgroup": "egF",
           "orientation": "v",
           "showlegend": true,
           "textposition": "auto",
           "type": "bar",
           "x": [
            "0_egF",
            "1_egF",
            "2_egF"
           ],
           "xaxis": "x",
           "y": [
            44,
            405.5,
            411.5
           ],
           "yaxis": "y"
          },
          {
           "alignmentgroup": "True",
           "hovertemplate": "model=UCB<br>iteration=860<br>máquinas=%{x}<br>promedio de seleccion acumulada=%{y}<extra></extra>",
           "legendgroup": "UCB",
           "marker": {
            "color": "#ab63fa",
            "pattern": {
             "shape": ""
            }
           },
           "name": "UCB",
           "offsetgroup": "UCB",
           "orientation": "v",
           "showlegend": true,
           "textposition": "auto",
           "type": "bar",
           "x": [
            "0_UCB",
            "1_UCB",
            "2_UCB"
           ],
           "xaxis": "x",
           "y": [
            16.5,
            28,
            816.5
           ],
           "yaxis": "y"
          }
         ],
         "name": "860"
        },
        {
         "data": [
          {
           "alignmentgroup": "True",
           "hovertemplate": "model=TS<br>iteration=870<br>máquinas=%{x}<br>promedio de seleccion acumulada=%{y}<extra></extra>",
           "legendgroup": "TS",
           "marker": {
            "color": "#636efa",
            "pattern": {
             "shape": ""
            }
           },
           "name": "TS",
           "offsetgroup": "TS",
           "orientation": "v",
           "showlegend": true,
           "textposition": "auto",
           "type": "bar",
           "x": [
            "0_TS",
            "1_TS",
            "2_TS"
           ],
           "xaxis": "x",
           "y": [
            4,
            6.5,
            860.5
           ],
           "yaxis": "y"
          },
          {
           "alignmentgroup": "True",
           "hovertemplate": "model=egT<br>iteration=870<br>máquinas=%{x}<br>promedio de seleccion acumulada=%{y}<extra></extra>",
           "legendgroup": "egT",
           "marker": {
            "color": "#EF553B",
            "pattern": {
             "shape": ""
            }
           },
           "name": "egT",
           "offsetgroup": "egT",
           "orientation": "v",
           "showlegend": true,
           "textposition": "auto",
           "type": "bar",
           "x": [
            "0_egT",
            "1_egT",
            "2_egT"
           ],
           "xaxis": "x",
           "y": [
            0.5,
            870.5,
            0
           ],
           "yaxis": "y"
          },
          {
           "alignmentgroup": "True",
           "hovertemplate": "model=egF<br>iteration=870<br>máquinas=%{x}<br>promedio de seleccion acumulada=%{y}<extra></extra>",
           "legendgroup": "egF",
           "marker": {
            "color": "#00cc96",
            "pattern": {
             "shape": ""
            }
           },
           "name": "egF",
           "offsetgroup": "egF",
           "orientation": "v",
           "showlegend": true,
           "textposition": "auto",
           "type": "bar",
           "x": [
            "0_egF",
            "1_egF",
            "2_egF"
           ],
           "xaxis": "x",
           "y": [
            44,
            411,
            416
           ],
           "yaxis": "y"
          },
          {
           "alignmentgroup": "True",
           "hovertemplate": "model=UCB<br>iteration=870<br>máquinas=%{x}<br>promedio de seleccion acumulada=%{y}<extra></extra>",
           "legendgroup": "UCB",
           "marker": {
            "color": "#ab63fa",
            "pattern": {
             "shape": ""
            }
           },
           "name": "UCB",
           "offsetgroup": "UCB",
           "orientation": "v",
           "showlegend": true,
           "textposition": "auto",
           "type": "bar",
           "x": [
            "0_UCB",
            "1_UCB",
            "2_UCB"
           ],
           "xaxis": "x",
           "y": [
            16.5,
            28,
            826.5
           ],
           "yaxis": "y"
          }
         ],
         "name": "870"
        },
        {
         "data": [
          {
           "alignmentgroup": "True",
           "hovertemplate": "model=TS<br>iteration=880<br>máquinas=%{x}<br>promedio de seleccion acumulada=%{y}<extra></extra>",
           "legendgroup": "TS",
           "marker": {
            "color": "#636efa",
            "pattern": {
             "shape": ""
            }
           },
           "name": "TS",
           "offsetgroup": "TS",
           "orientation": "v",
           "showlegend": true,
           "textposition": "auto",
           "type": "bar",
           "x": [
            "0_TS",
            "1_TS",
            "2_TS"
           ],
           "xaxis": "x",
           "y": [
            4,
            6.5,
            870.5
           ],
           "yaxis": "y"
          },
          {
           "alignmentgroup": "True",
           "hovertemplate": "model=egT<br>iteration=880<br>máquinas=%{x}<br>promedio de seleccion acumulada=%{y}<extra></extra>",
           "legendgroup": "egT",
           "marker": {
            "color": "#EF553B",
            "pattern": {
             "shape": ""
            }
           },
           "name": "egT",
           "offsetgroup": "egT",
           "orientation": "v",
           "showlegend": true,
           "textposition": "auto",
           "type": "bar",
           "x": [
            "0_egT",
            "1_egT",
            "2_egT"
           ],
           "xaxis": "x",
           "y": [
            0.5,
            880.5,
            0
           ],
           "yaxis": "y"
          },
          {
           "alignmentgroup": "True",
           "hovertemplate": "model=egF<br>iteration=880<br>máquinas=%{x}<br>promedio de seleccion acumulada=%{y}<extra></extra>",
           "legendgroup": "egF",
           "marker": {
            "color": "#00cc96",
            "pattern": {
             "shape": ""
            }
           },
           "name": "egF",
           "offsetgroup": "egF",
           "orientation": "v",
           "showlegend": true,
           "textposition": "auto",
           "type": "bar",
           "x": [
            "0_egF",
            "1_egF",
            "2_egF"
           ],
           "xaxis": "x",
           "y": [
            44.5,
            416,
            420.5
           ],
           "yaxis": "y"
          },
          {
           "alignmentgroup": "True",
           "hovertemplate": "model=UCB<br>iteration=880<br>máquinas=%{x}<br>promedio de seleccion acumulada=%{y}<extra></extra>",
           "legendgroup": "UCB",
           "marker": {
            "color": "#ab63fa",
            "pattern": {
             "shape": ""
            }
           },
           "name": "UCB",
           "offsetgroup": "UCB",
           "orientation": "v",
           "showlegend": true,
           "textposition": "auto",
           "type": "bar",
           "x": [
            "0_UCB",
            "1_UCB",
            "2_UCB"
           ],
           "xaxis": "x",
           "y": [
            16.5,
            28,
            836.5
           ],
           "yaxis": "y"
          }
         ],
         "name": "880"
        },
        {
         "data": [
          {
           "alignmentgroup": "True",
           "hovertemplate": "model=TS<br>iteration=890<br>máquinas=%{x}<br>promedio de seleccion acumulada=%{y}<extra></extra>",
           "legendgroup": "TS",
           "marker": {
            "color": "#636efa",
            "pattern": {
             "shape": ""
            }
           },
           "name": "TS",
           "offsetgroup": "TS",
           "orientation": "v",
           "showlegend": true,
           "textposition": "auto",
           "type": "bar",
           "x": [
            "0_TS",
            "1_TS",
            "2_TS"
           ],
           "xaxis": "x",
           "y": [
            4,
            6.5,
            880.5
           ],
           "yaxis": "y"
          },
          {
           "alignmentgroup": "True",
           "hovertemplate": "model=egT<br>iteration=890<br>máquinas=%{x}<br>promedio de seleccion acumulada=%{y}<extra></extra>",
           "legendgroup": "egT",
           "marker": {
            "color": "#EF553B",
            "pattern": {
             "shape": ""
            }
           },
           "name": "egT",
           "offsetgroup": "egT",
           "orientation": "v",
           "showlegend": true,
           "textposition": "auto",
           "type": "bar",
           "x": [
            "0_egT",
            "1_egT",
            "2_egT"
           ],
           "xaxis": "x",
           "y": [
            0.5,
            890.5,
            0
           ],
           "yaxis": "y"
          },
          {
           "alignmentgroup": "True",
           "hovertemplate": "model=egF<br>iteration=890<br>máquinas=%{x}<br>promedio de seleccion acumulada=%{y}<extra></extra>",
           "legendgroup": "egF",
           "marker": {
            "color": "#00cc96",
            "pattern": {
             "shape": ""
            }
           },
           "name": "egF",
           "offsetgroup": "egF",
           "orientation": "v",
           "showlegend": true,
           "textposition": "auto",
           "type": "bar",
           "x": [
            "0_egF",
            "1_egF",
            "2_egF"
           ],
           "xaxis": "x",
           "y": [
            46,
            420.5,
            424.5
           ],
           "yaxis": "y"
          },
          {
           "alignmentgroup": "True",
           "hovertemplate": "model=UCB<br>iteration=890<br>máquinas=%{x}<br>promedio de seleccion acumulada=%{y}<extra></extra>",
           "legendgroup": "UCB",
           "marker": {
            "color": "#ab63fa",
            "pattern": {
             "shape": ""
            }
           },
           "name": "UCB",
           "offsetgroup": "UCB",
           "orientation": "v",
           "showlegend": true,
           "textposition": "auto",
           "type": "bar",
           "x": [
            "0_UCB",
            "1_UCB",
            "2_UCB"
           ],
           "xaxis": "x",
           "y": [
            16.5,
            29,
            845.5
           ],
           "yaxis": "y"
          }
         ],
         "name": "890"
        },
        {
         "data": [
          {
           "alignmentgroup": "True",
           "hovertemplate": "model=TS<br>iteration=900<br>máquinas=%{x}<br>promedio de seleccion acumulada=%{y}<extra></extra>",
           "legendgroup": "TS",
           "marker": {
            "color": "#636efa",
            "pattern": {
             "shape": ""
            }
           },
           "name": "TS",
           "offsetgroup": "TS",
           "orientation": "v",
           "showlegend": true,
           "textposition": "auto",
           "type": "bar",
           "x": [
            "0_TS",
            "1_TS",
            "2_TS"
           ],
           "xaxis": "x",
           "y": [
            4,
            6.5,
            890.5
           ],
           "yaxis": "y"
          },
          {
           "alignmentgroup": "True",
           "hovertemplate": "model=egT<br>iteration=900<br>máquinas=%{x}<br>promedio de seleccion acumulada=%{y}<extra></extra>",
           "legendgroup": "egT",
           "marker": {
            "color": "#EF553B",
            "pattern": {
             "shape": ""
            }
           },
           "name": "egT",
           "offsetgroup": "egT",
           "orientation": "v",
           "showlegend": true,
           "textposition": "auto",
           "type": "bar",
           "x": [
            "0_egT",
            "1_egT",
            "2_egT"
           ],
           "xaxis": "x",
           "y": [
            0.5,
            900.5,
            0
           ],
           "yaxis": "y"
          },
          {
           "alignmentgroup": "True",
           "hovertemplate": "model=egF<br>iteration=900<br>máquinas=%{x}<br>promedio de seleccion acumulada=%{y}<extra></extra>",
           "legendgroup": "egF",
           "marker": {
            "color": "#00cc96",
            "pattern": {
             "shape": ""
            }
           },
           "name": "egF",
           "offsetgroup": "egF",
           "orientation": "v",
           "showlegend": true,
           "textposition": "auto",
           "type": "bar",
           "x": [
            "0_egF",
            "1_egF",
            "2_egF"
           ],
           "xaxis": "x",
           "y": [
            47.5,
            425.5,
            428
           ],
           "yaxis": "y"
          },
          {
           "alignmentgroup": "True",
           "hovertemplate": "model=UCB<br>iteration=900<br>máquinas=%{x}<br>promedio de seleccion acumulada=%{y}<extra></extra>",
           "legendgroup": "UCB",
           "marker": {
            "color": "#ab63fa",
            "pattern": {
             "shape": ""
            }
           },
           "name": "UCB",
           "offsetgroup": "UCB",
           "orientation": "v",
           "showlegend": true,
           "textposition": "auto",
           "type": "bar",
           "x": [
            "0_UCB",
            "1_UCB",
            "2_UCB"
           ],
           "xaxis": "x",
           "y": [
            16.5,
            29,
            855.5
           ],
           "yaxis": "y"
          }
         ],
         "name": "900"
        },
        {
         "data": [
          {
           "alignmentgroup": "True",
           "hovertemplate": "model=TS<br>iteration=910<br>máquinas=%{x}<br>promedio de seleccion acumulada=%{y}<extra></extra>",
           "legendgroup": "TS",
           "marker": {
            "color": "#636efa",
            "pattern": {
             "shape": ""
            }
           },
           "name": "TS",
           "offsetgroup": "TS",
           "orientation": "v",
           "showlegend": true,
           "textposition": "auto",
           "type": "bar",
           "x": [
            "0_TS",
            "1_TS",
            "2_TS"
           ],
           "xaxis": "x",
           "y": [
            4,
            6.5,
            900.5
           ],
           "yaxis": "y"
          },
          {
           "alignmentgroup": "True",
           "hovertemplate": "model=egT<br>iteration=910<br>máquinas=%{x}<br>promedio de seleccion acumulada=%{y}<extra></extra>",
           "legendgroup": "egT",
           "marker": {
            "color": "#EF553B",
            "pattern": {
             "shape": ""
            }
           },
           "name": "egT",
           "offsetgroup": "egT",
           "orientation": "v",
           "showlegend": true,
           "textposition": "auto",
           "type": "bar",
           "x": [
            "0_egT",
            "1_egT",
            "2_egT"
           ],
           "xaxis": "x",
           "y": [
            0.5,
            910.5,
            0
           ],
           "yaxis": "y"
          },
          {
           "alignmentgroup": "True",
           "hovertemplate": "model=egF<br>iteration=910<br>máquinas=%{x}<br>promedio de seleccion acumulada=%{y}<extra></extra>",
           "legendgroup": "egF",
           "marker": {
            "color": "#00cc96",
            "pattern": {
             "shape": ""
            }
           },
           "name": "egF",
           "offsetgroup": "egF",
           "orientation": "v",
           "showlegend": true,
           "textposition": "auto",
           "type": "bar",
           "x": [
            "0_egF",
            "1_egF",
            "2_egF"
           ],
           "xaxis": "x",
           "y": [
            48.5,
            430,
            432.5
           ],
           "yaxis": "y"
          },
          {
           "alignmentgroup": "True",
           "hovertemplate": "model=UCB<br>iteration=910<br>máquinas=%{x}<br>promedio de seleccion acumulada=%{y}<extra></extra>",
           "legendgroup": "UCB",
           "marker": {
            "color": "#ab63fa",
            "pattern": {
             "shape": ""
            }
           },
           "name": "UCB",
           "offsetgroup": "UCB",
           "orientation": "v",
           "showlegend": true,
           "textposition": "auto",
           "type": "bar",
           "x": [
            "0_UCB",
            "1_UCB",
            "2_UCB"
           ],
           "xaxis": "x",
           "y": [
            16.5,
            29,
            865.5
           ],
           "yaxis": "y"
          }
         ],
         "name": "910"
        },
        {
         "data": [
          {
           "alignmentgroup": "True",
           "hovertemplate": "model=TS<br>iteration=920<br>máquinas=%{x}<br>promedio de seleccion acumulada=%{y}<extra></extra>",
           "legendgroup": "TS",
           "marker": {
            "color": "#636efa",
            "pattern": {
             "shape": ""
            }
           },
           "name": "TS",
           "offsetgroup": "TS",
           "orientation": "v",
           "showlegend": true,
           "textposition": "auto",
           "type": "bar",
           "x": [
            "0_TS",
            "1_TS",
            "2_TS"
           ],
           "xaxis": "x",
           "y": [
            4,
            6.5,
            910.5
           ],
           "yaxis": "y"
          },
          {
           "alignmentgroup": "True",
           "hovertemplate": "model=egT<br>iteration=920<br>máquinas=%{x}<br>promedio de seleccion acumulada=%{y}<extra></extra>",
           "legendgroup": "egT",
           "marker": {
            "color": "#EF553B",
            "pattern": {
             "shape": ""
            }
           },
           "name": "egT",
           "offsetgroup": "egT",
           "orientation": "v",
           "showlegend": true,
           "textposition": "auto",
           "type": "bar",
           "x": [
            "0_egT",
            "1_egT",
            "2_egT"
           ],
           "xaxis": "x",
           "y": [
            0.5,
            920.5,
            0
           ],
           "yaxis": "y"
          },
          {
           "alignmentgroup": "True",
           "hovertemplate": "model=egF<br>iteration=920<br>máquinas=%{x}<br>promedio de seleccion acumulada=%{y}<extra></extra>",
           "legendgroup": "egF",
           "marker": {
            "color": "#00cc96",
            "pattern": {
             "shape": ""
            }
           },
           "name": "egF",
           "offsetgroup": "egF",
           "orientation": "v",
           "showlegend": true,
           "textposition": "auto",
           "type": "bar",
           "x": [
            "0_egF",
            "1_egF",
            "2_egF"
           ],
           "xaxis": "x",
           "y": [
            48.5,
            436,
            436.5
           ],
           "yaxis": "y"
          },
          {
           "alignmentgroup": "True",
           "hovertemplate": "model=UCB<br>iteration=920<br>máquinas=%{x}<br>promedio de seleccion acumulada=%{y}<extra></extra>",
           "legendgroup": "UCB",
           "marker": {
            "color": "#ab63fa",
            "pattern": {
             "shape": ""
            }
           },
           "name": "UCB",
           "offsetgroup": "UCB",
           "orientation": "v",
           "showlegend": true,
           "textposition": "auto",
           "type": "bar",
           "x": [
            "0_UCB",
            "1_UCB",
            "2_UCB"
           ],
           "xaxis": "x",
           "y": [
            16.5,
            29.5,
            875
           ],
           "yaxis": "y"
          }
         ],
         "name": "920"
        },
        {
         "data": [
          {
           "alignmentgroup": "True",
           "hovertemplate": "model=TS<br>iteration=930<br>máquinas=%{x}<br>promedio de seleccion acumulada=%{y}<extra></extra>",
           "legendgroup": "TS",
           "marker": {
            "color": "#636efa",
            "pattern": {
             "shape": ""
            }
           },
           "name": "TS",
           "offsetgroup": "TS",
           "orientation": "v",
           "showlegend": true,
           "textposition": "auto",
           "type": "bar",
           "x": [
            "0_TS",
            "1_TS",
            "2_TS"
           ],
           "xaxis": "x",
           "y": [
            4,
            6.5,
            920.5
           ],
           "yaxis": "y"
          },
          {
           "alignmentgroup": "True",
           "hovertemplate": "model=egT<br>iteration=930<br>máquinas=%{x}<br>promedio de seleccion acumulada=%{y}<extra></extra>",
           "legendgroup": "egT",
           "marker": {
            "color": "#EF553B",
            "pattern": {
             "shape": ""
            }
           },
           "name": "egT",
           "offsetgroup": "egT",
           "orientation": "v",
           "showlegend": true,
           "textposition": "auto",
           "type": "bar",
           "x": [
            "0_egT",
            "1_egT",
            "2_egT"
           ],
           "xaxis": "x",
           "y": [
            0.5,
            930.5,
            0
           ],
           "yaxis": "y"
          },
          {
           "alignmentgroup": "True",
           "hovertemplate": "model=egF<br>iteration=930<br>máquinas=%{x}<br>promedio de seleccion acumulada=%{y}<extra></extra>",
           "legendgroup": "egF",
           "marker": {
            "color": "#00cc96",
            "pattern": {
             "shape": ""
            }
           },
           "name": "egF",
           "offsetgroup": "egF",
           "orientation": "v",
           "showlegend": true,
           "textposition": "auto",
           "type": "bar",
           "x": [
            "0_egF",
            "1_egF",
            "2_egF"
           ],
           "xaxis": "x",
           "y": [
            49,
            440.5,
            441.5
           ],
           "yaxis": "y"
          },
          {
           "alignmentgroup": "True",
           "hovertemplate": "model=UCB<br>iteration=930<br>máquinas=%{x}<br>promedio de seleccion acumulada=%{y}<extra></extra>",
           "legendgroup": "UCB",
           "marker": {
            "color": "#ab63fa",
            "pattern": {
             "shape": ""
            }
           },
           "name": "UCB",
           "offsetgroup": "UCB",
           "orientation": "v",
           "showlegend": true,
           "textposition": "auto",
           "type": "bar",
           "x": [
            "0_UCB",
            "1_UCB",
            "2_UCB"
           ],
           "xaxis": "x",
           "y": [
            16.5,
            29.5,
            885
           ],
           "yaxis": "y"
          }
         ],
         "name": "930"
        },
        {
         "data": [
          {
           "alignmentgroup": "True",
           "hovertemplate": "model=TS<br>iteration=940<br>máquinas=%{x}<br>promedio de seleccion acumulada=%{y}<extra></extra>",
           "legendgroup": "TS",
           "marker": {
            "color": "#636efa",
            "pattern": {
             "shape": ""
            }
           },
           "name": "TS",
           "offsetgroup": "TS",
           "orientation": "v",
           "showlegend": true,
           "textposition": "auto",
           "type": "bar",
           "x": [
            "0_TS",
            "1_TS",
            "2_TS"
           ],
           "xaxis": "x",
           "y": [
            4,
            6.5,
            930.5
           ],
           "yaxis": "y"
          },
          {
           "alignmentgroup": "True",
           "hovertemplate": "model=egT<br>iteration=940<br>máquinas=%{x}<br>promedio de seleccion acumulada=%{y}<extra></extra>",
           "legendgroup": "egT",
           "marker": {
            "color": "#EF553B",
            "pattern": {
             "shape": ""
            }
           },
           "name": "egT",
           "offsetgroup": "egT",
           "orientation": "v",
           "showlegend": true,
           "textposition": "auto",
           "type": "bar",
           "x": [
            "0_egT",
            "1_egT",
            "2_egT"
           ],
           "xaxis": "x",
           "y": [
            0.5,
            940.5,
            0
           ],
           "yaxis": "y"
          },
          {
           "alignmentgroup": "True",
           "hovertemplate": "model=egF<br>iteration=940<br>máquinas=%{x}<br>promedio de seleccion acumulada=%{y}<extra></extra>",
           "legendgroup": "egF",
           "marker": {
            "color": "#00cc96",
            "pattern": {
             "shape": ""
            }
           },
           "name": "egF",
           "offsetgroup": "egF",
           "orientation": "v",
           "showlegend": true,
           "textposition": "auto",
           "type": "bar",
           "x": [
            "0_egF",
            "1_egF",
            "2_egF"
           ],
           "xaxis": "x",
           "y": [
            49.5,
            445.5,
            446
           ],
           "yaxis": "y"
          },
          {
           "alignmentgroup": "True",
           "hovertemplate": "model=UCB<br>iteration=940<br>máquinas=%{x}<br>promedio de seleccion acumulada=%{y}<extra></extra>",
           "legendgroup": "UCB",
           "marker": {
            "color": "#ab63fa",
            "pattern": {
             "shape": ""
            }
           },
           "name": "UCB",
           "offsetgroup": "UCB",
           "orientation": "v",
           "showlegend": true,
           "textposition": "auto",
           "type": "bar",
           "x": [
            "0_UCB",
            "1_UCB",
            "2_UCB"
           ],
           "xaxis": "x",
           "y": [
            16.5,
            29.5,
            895
           ],
           "yaxis": "y"
          }
         ],
         "name": "940"
        },
        {
         "data": [
          {
           "alignmentgroup": "True",
           "hovertemplate": "model=TS<br>iteration=950<br>máquinas=%{x}<br>promedio de seleccion acumulada=%{y}<extra></extra>",
           "legendgroup": "TS",
           "marker": {
            "color": "#636efa",
            "pattern": {
             "shape": ""
            }
           },
           "name": "TS",
           "offsetgroup": "TS",
           "orientation": "v",
           "showlegend": true,
           "textposition": "auto",
           "type": "bar",
           "x": [
            "0_TS",
            "1_TS",
            "2_TS"
           ],
           "xaxis": "x",
           "y": [
            4,
            6.5,
            940.5
           ],
           "yaxis": "y"
          },
          {
           "alignmentgroup": "True",
           "hovertemplate": "model=egT<br>iteration=950<br>máquinas=%{x}<br>promedio de seleccion acumulada=%{y}<extra></extra>",
           "legendgroup": "egT",
           "marker": {
            "color": "#EF553B",
            "pattern": {
             "shape": ""
            }
           },
           "name": "egT",
           "offsetgroup": "egT",
           "orientation": "v",
           "showlegend": true,
           "textposition": "auto",
           "type": "bar",
           "x": [
            "0_egT",
            "1_egT",
            "2_egT"
           ],
           "xaxis": "x",
           "y": [
            0.5,
            950.5,
            0
           ],
           "yaxis": "y"
          },
          {
           "alignmentgroup": "True",
           "hovertemplate": "model=egF<br>iteration=950<br>máquinas=%{x}<br>promedio de seleccion acumulada=%{y}<extra></extra>",
           "legendgroup": "egF",
           "marker": {
            "color": "#00cc96",
            "pattern": {
             "shape": ""
            }
           },
           "name": "egF",
           "offsetgroup": "egF",
           "orientation": "v",
           "showlegend": true,
           "textposition": "auto",
           "type": "bar",
           "x": [
            "0_egF",
            "1_egF",
            "2_egF"
           ],
           "xaxis": "x",
           "y": [
            50,
            451,
            450
           ],
           "yaxis": "y"
          },
          {
           "alignmentgroup": "True",
           "hovertemplate": "model=UCB<br>iteration=950<br>máquinas=%{x}<br>promedio de seleccion acumulada=%{y}<extra></extra>",
           "legendgroup": "UCB",
           "marker": {
            "color": "#ab63fa",
            "pattern": {
             "shape": ""
            }
           },
           "name": "UCB",
           "offsetgroup": "UCB",
           "orientation": "v",
           "showlegend": true,
           "textposition": "auto",
           "type": "bar",
           "x": [
            "0_UCB",
            "1_UCB",
            "2_UCB"
           ],
           "xaxis": "x",
           "y": [
            16.5,
            29.5,
            905
           ],
           "yaxis": "y"
          }
         ],
         "name": "950"
        },
        {
         "data": [
          {
           "alignmentgroup": "True",
           "hovertemplate": "model=TS<br>iteration=960<br>máquinas=%{x}<br>promedio de seleccion acumulada=%{y}<extra></extra>",
           "legendgroup": "TS",
           "marker": {
            "color": "#636efa",
            "pattern": {
             "shape": ""
            }
           },
           "name": "TS",
           "offsetgroup": "TS",
           "orientation": "v",
           "showlegend": true,
           "textposition": "auto",
           "type": "bar",
           "x": [
            "0_TS",
            "1_TS",
            "2_TS"
           ],
           "xaxis": "x",
           "y": [
            4,
            6.5,
            950.5
           ],
           "yaxis": "y"
          },
          {
           "alignmentgroup": "True",
           "hovertemplate": "model=egT<br>iteration=960<br>máquinas=%{x}<br>promedio de seleccion acumulada=%{y}<extra></extra>",
           "legendgroup": "egT",
           "marker": {
            "color": "#EF553B",
            "pattern": {
             "shape": ""
            }
           },
           "name": "egT",
           "offsetgroup": "egT",
           "orientation": "v",
           "showlegend": true,
           "textposition": "auto",
           "type": "bar",
           "x": [
            "0_egT",
            "1_egT",
            "2_egT"
           ],
           "xaxis": "x",
           "y": [
            0.5,
            960.5,
            0
           ],
           "yaxis": "y"
          },
          {
           "alignmentgroup": "True",
           "hovertemplate": "model=egF<br>iteration=960<br>máquinas=%{x}<br>promedio de seleccion acumulada=%{y}<extra></extra>",
           "legendgroup": "egF",
           "marker": {
            "color": "#00cc96",
            "pattern": {
             "shape": ""
            }
           },
           "name": "egF",
           "offsetgroup": "egF",
           "orientation": "v",
           "showlegend": true,
           "textposition": "auto",
           "type": "bar",
           "x": [
            "0_egF",
            "1_egF",
            "2_egF"
           ],
           "xaxis": "x",
           "y": [
            51,
            454.5,
            455.5
           ],
           "yaxis": "y"
          },
          {
           "alignmentgroup": "True",
           "hovertemplate": "model=UCB<br>iteration=960<br>máquinas=%{x}<br>promedio de seleccion acumulada=%{y}<extra></extra>",
           "legendgroup": "UCB",
           "marker": {
            "color": "#ab63fa",
            "pattern": {
             "shape": ""
            }
           },
           "name": "UCB",
           "offsetgroup": "UCB",
           "orientation": "v",
           "showlegend": true,
           "textposition": "auto",
           "type": "bar",
           "x": [
            "0_UCB",
            "1_UCB",
            "2_UCB"
           ],
           "xaxis": "x",
           "y": [
            17,
            29.5,
            914.5
           ],
           "yaxis": "y"
          }
         ],
         "name": "960"
        },
        {
         "data": [
          {
           "alignmentgroup": "True",
           "hovertemplate": "model=TS<br>iteration=970<br>máquinas=%{x}<br>promedio de seleccion acumulada=%{y}<extra></extra>",
           "legendgroup": "TS",
           "marker": {
            "color": "#636efa",
            "pattern": {
             "shape": ""
            }
           },
           "name": "TS",
           "offsetgroup": "TS",
           "orientation": "v",
           "showlegend": true,
           "textposition": "auto",
           "type": "bar",
           "x": [
            "0_TS",
            "1_TS",
            "2_TS"
           ],
           "xaxis": "x",
           "y": [
            4,
            6.5,
            960.5
           ],
           "yaxis": "y"
          },
          {
           "alignmentgroup": "True",
           "hovertemplate": "model=egT<br>iteration=970<br>máquinas=%{x}<br>promedio de seleccion acumulada=%{y}<extra></extra>",
           "legendgroup": "egT",
           "marker": {
            "color": "#EF553B",
            "pattern": {
             "shape": ""
            }
           },
           "name": "egT",
           "offsetgroup": "egT",
           "orientation": "v",
           "showlegend": true,
           "textposition": "auto",
           "type": "bar",
           "x": [
            "0_egT",
            "1_egT",
            "2_egT"
           ],
           "xaxis": "x",
           "y": [
            0.5,
            970.5,
            0
           ],
           "yaxis": "y"
          },
          {
           "alignmentgroup": "True",
           "hovertemplate": "model=egF<br>iteration=970<br>máquinas=%{x}<br>promedio de seleccion acumulada=%{y}<extra></extra>",
           "legendgroup": "egF",
           "marker": {
            "color": "#00cc96",
            "pattern": {
             "shape": ""
            }
           },
           "name": "egF",
           "offsetgroup": "egF",
           "orientation": "v",
           "showlegend": true,
           "textposition": "auto",
           "type": "bar",
           "x": [
            "0_egF",
            "1_egF",
            "2_egF"
           ],
           "xaxis": "x",
           "y": [
            51.5,
            459,
            460.5
           ],
           "yaxis": "y"
          },
          {
           "alignmentgroup": "True",
           "hovertemplate": "model=UCB<br>iteration=970<br>máquinas=%{x}<br>promedio de seleccion acumulada=%{y}<extra></extra>",
           "legendgroup": "UCB",
           "marker": {
            "color": "#ab63fa",
            "pattern": {
             "shape": ""
            }
           },
           "name": "UCB",
           "offsetgroup": "UCB",
           "orientation": "v",
           "showlegend": true,
           "textposition": "auto",
           "type": "bar",
           "x": [
            "0_UCB",
            "1_UCB",
            "2_UCB"
           ],
           "xaxis": "x",
           "y": [
            17,
            29.5,
            924.5
           ],
           "yaxis": "y"
          }
         ],
         "name": "970"
        },
        {
         "data": [
          {
           "alignmentgroup": "True",
           "hovertemplate": "model=TS<br>iteration=980<br>máquinas=%{x}<br>promedio de seleccion acumulada=%{y}<extra></extra>",
           "legendgroup": "TS",
           "marker": {
            "color": "#636efa",
            "pattern": {
             "shape": ""
            }
           },
           "name": "TS",
           "offsetgroup": "TS",
           "orientation": "v",
           "showlegend": true,
           "textposition": "auto",
           "type": "bar",
           "x": [
            "0_TS",
            "1_TS",
            "2_TS"
           ],
           "xaxis": "x",
           "y": [
            4,
            6.5,
            970.5
           ],
           "yaxis": "y"
          },
          {
           "alignmentgroup": "True",
           "hovertemplate": "model=egT<br>iteration=980<br>máquinas=%{x}<br>promedio de seleccion acumulada=%{y}<extra></extra>",
           "legendgroup": "egT",
           "marker": {
            "color": "#EF553B",
            "pattern": {
             "shape": ""
            }
           },
           "name": "egT",
           "offsetgroup": "egT",
           "orientation": "v",
           "showlegend": true,
           "textposition": "auto",
           "type": "bar",
           "x": [
            "0_egT",
            "1_egT",
            "2_egT"
           ],
           "xaxis": "x",
           "y": [
            0.5,
            980.5,
            0
           ],
           "yaxis": "y"
          },
          {
           "alignmentgroup": "True",
           "hovertemplate": "model=egF<br>iteration=980<br>máquinas=%{x}<br>promedio de seleccion acumulada=%{y}<extra></extra>",
           "legendgroup": "egF",
           "marker": {
            "color": "#00cc96",
            "pattern": {
             "shape": ""
            }
           },
           "name": "egF",
           "offsetgroup": "egF",
           "orientation": "v",
           "showlegend": true,
           "textposition": "auto",
           "type": "bar",
           "x": [
            "0_egF",
            "1_egF",
            "2_egF"
           ],
           "xaxis": "x",
           "y": [
            52,
            463,
            466
           ],
           "yaxis": "y"
          },
          {
           "alignmentgroup": "True",
           "hovertemplate": "model=UCB<br>iteration=980<br>máquinas=%{x}<br>promedio de seleccion acumulada=%{y}<extra></extra>",
           "legendgroup": "UCB",
           "marker": {
            "color": "#ab63fa",
            "pattern": {
             "shape": ""
            }
           },
           "name": "UCB",
           "offsetgroup": "UCB",
           "orientation": "v",
           "showlegend": true,
           "textposition": "auto",
           "type": "bar",
           "x": [
            "0_UCB",
            "1_UCB",
            "2_UCB"
           ],
           "xaxis": "x",
           "y": [
            17,
            29.5,
            934.5
           ],
           "yaxis": "y"
          }
         ],
         "name": "980"
        },
        {
         "data": [
          {
           "alignmentgroup": "True",
           "hovertemplate": "model=TS<br>iteration=990<br>máquinas=%{x}<br>promedio de seleccion acumulada=%{y}<extra></extra>",
           "legendgroup": "TS",
           "marker": {
            "color": "#636efa",
            "pattern": {
             "shape": ""
            }
           },
           "name": "TS",
           "offsetgroup": "TS",
           "orientation": "v",
           "showlegend": true,
           "textposition": "auto",
           "type": "bar",
           "x": [
            "0_TS",
            "1_TS",
            "2_TS"
           ],
           "xaxis": "x",
           "y": [
            4,
            6.5,
            980.5
           ],
           "yaxis": "y"
          },
          {
           "alignmentgroup": "True",
           "hovertemplate": "model=egT<br>iteration=990<br>máquinas=%{x}<br>promedio de seleccion acumulada=%{y}<extra></extra>",
           "legendgroup": "egT",
           "marker": {
            "color": "#EF553B",
            "pattern": {
             "shape": ""
            }
           },
           "name": "egT",
           "offsetgroup": "egT",
           "orientation": "v",
           "showlegend": true,
           "textposition": "auto",
           "type": "bar",
           "x": [
            "0_egT",
            "1_egT",
            "2_egT"
           ],
           "xaxis": "x",
           "y": [
            0.5,
            990.5,
            0
           ],
           "yaxis": "y"
          },
          {
           "alignmentgroup": "True",
           "hovertemplate": "model=egF<br>iteration=990<br>máquinas=%{x}<br>promedio de seleccion acumulada=%{y}<extra></extra>",
           "legendgroup": "egF",
           "marker": {
            "color": "#00cc96",
            "pattern": {
             "shape": ""
            }
           },
           "name": "egF",
           "offsetgroup": "egF",
           "orientation": "v",
           "showlegend": true,
           "textposition": "auto",
           "type": "bar",
           "x": [
            "0_egF",
            "1_egF",
            "2_egF"
           ],
           "xaxis": "x",
           "y": [
            52,
            468,
            471
           ],
           "yaxis": "y"
          },
          {
           "alignmentgroup": "True",
           "hovertemplate": "model=UCB<br>iteration=990<br>máquinas=%{x}<br>promedio de seleccion acumulada=%{y}<extra></extra>",
           "legendgroup": "UCB",
           "marker": {
            "color": "#ab63fa",
            "pattern": {
             "shape": ""
            }
           },
           "name": "UCB",
           "offsetgroup": "UCB",
           "orientation": "v",
           "showlegend": true,
           "textposition": "auto",
           "type": "bar",
           "x": [
            "0_UCB",
            "1_UCB",
            "2_UCB"
           ],
           "xaxis": "x",
           "y": [
            17,
            30,
            944
           ],
           "yaxis": "y"
          }
         ],
         "name": "990"
        }
       ],
       "layout": {
        "barmode": "relative",
        "legend": {
         "title": {
          "text": "model"
         },
         "tracegroupgap": 0
        },
        "sliders": [
         {
          "active": 0,
          "currentvalue": {
           "prefix": "iteration="
          },
          "len": 0.9,
          "pad": {
           "b": 10,
           "t": 60
          },
          "steps": [
           {
            "args": [
             [
              "0"
             ],
             {
              "frame": {
               "duration": 0,
               "redraw": true
              },
              "fromcurrent": true,
              "mode": "immediate",
              "transition": {
               "duration": 0,
               "easing": "linear"
              }
             }
            ],
            "label": "0",
            "method": "animate"
           },
           {
            "args": [
             [
              "10"
             ],
             {
              "frame": {
               "duration": 0,
               "redraw": true
              },
              "fromcurrent": true,
              "mode": "immediate",
              "transition": {
               "duration": 0,
               "easing": "linear"
              }
             }
            ],
            "label": "10",
            "method": "animate"
           },
           {
            "args": [
             [
              "20"
             ],
             {
              "frame": {
               "duration": 0,
               "redraw": true
              },
              "fromcurrent": true,
              "mode": "immediate",
              "transition": {
               "duration": 0,
               "easing": "linear"
              }
             }
            ],
            "label": "20",
            "method": "animate"
           },
           {
            "args": [
             [
              "30"
             ],
             {
              "frame": {
               "duration": 0,
               "redraw": true
              },
              "fromcurrent": true,
              "mode": "immediate",
              "transition": {
               "duration": 0,
               "easing": "linear"
              }
             }
            ],
            "label": "30",
            "method": "animate"
           },
           {
            "args": [
             [
              "40"
             ],
             {
              "frame": {
               "duration": 0,
               "redraw": true
              },
              "fromcurrent": true,
              "mode": "immediate",
              "transition": {
               "duration": 0,
               "easing": "linear"
              }
             }
            ],
            "label": "40",
            "method": "animate"
           },
           {
            "args": [
             [
              "50"
             ],
             {
              "frame": {
               "duration": 0,
               "redraw": true
              },
              "fromcurrent": true,
              "mode": "immediate",
              "transition": {
               "duration": 0,
               "easing": "linear"
              }
             }
            ],
            "label": "50",
            "method": "animate"
           },
           {
            "args": [
             [
              "60"
             ],
             {
              "frame": {
               "duration": 0,
               "redraw": true
              },
              "fromcurrent": true,
              "mode": "immediate",
              "transition": {
               "duration": 0,
               "easing": "linear"
              }
             }
            ],
            "label": "60",
            "method": "animate"
           },
           {
            "args": [
             [
              "70"
             ],
             {
              "frame": {
               "duration": 0,
               "redraw": true
              },
              "fromcurrent": true,
              "mode": "immediate",
              "transition": {
               "duration": 0,
               "easing": "linear"
              }
             }
            ],
            "label": "70",
            "method": "animate"
           },
           {
            "args": [
             [
              "80"
             ],
             {
              "frame": {
               "duration": 0,
               "redraw": true
              },
              "fromcurrent": true,
              "mode": "immediate",
              "transition": {
               "duration": 0,
               "easing": "linear"
              }
             }
            ],
            "label": "80",
            "method": "animate"
           },
           {
            "args": [
             [
              "90"
             ],
             {
              "frame": {
               "duration": 0,
               "redraw": true
              },
              "fromcurrent": true,
              "mode": "immediate",
              "transition": {
               "duration": 0,
               "easing": "linear"
              }
             }
            ],
            "label": "90",
            "method": "animate"
           },
           {
            "args": [
             [
              "100"
             ],
             {
              "frame": {
               "duration": 0,
               "redraw": true
              },
              "fromcurrent": true,
              "mode": "immediate",
              "transition": {
               "duration": 0,
               "easing": "linear"
              }
             }
            ],
            "label": "100",
            "method": "animate"
           },
           {
            "args": [
             [
              "110"
             ],
             {
              "frame": {
               "duration": 0,
               "redraw": true
              },
              "fromcurrent": true,
              "mode": "immediate",
              "transition": {
               "duration": 0,
               "easing": "linear"
              }
             }
            ],
            "label": "110",
            "method": "animate"
           },
           {
            "args": [
             [
              "120"
             ],
             {
              "frame": {
               "duration": 0,
               "redraw": true
              },
              "fromcurrent": true,
              "mode": "immediate",
              "transition": {
               "duration": 0,
               "easing": "linear"
              }
             }
            ],
            "label": "120",
            "method": "animate"
           },
           {
            "args": [
             [
              "130"
             ],
             {
              "frame": {
               "duration": 0,
               "redraw": true
              },
              "fromcurrent": true,
              "mode": "immediate",
              "transition": {
               "duration": 0,
               "easing": "linear"
              }
             }
            ],
            "label": "130",
            "method": "animate"
           },
           {
            "args": [
             [
              "140"
             ],
             {
              "frame": {
               "duration": 0,
               "redraw": true
              },
              "fromcurrent": true,
              "mode": "immediate",
              "transition": {
               "duration": 0,
               "easing": "linear"
              }
             }
            ],
            "label": "140",
            "method": "animate"
           },
           {
            "args": [
             [
              "150"
             ],
             {
              "frame": {
               "duration": 0,
               "redraw": true
              },
              "fromcurrent": true,
              "mode": "immediate",
              "transition": {
               "duration": 0,
               "easing": "linear"
              }
             }
            ],
            "label": "150",
            "method": "animate"
           },
           {
            "args": [
             [
              "160"
             ],
             {
              "frame": {
               "duration": 0,
               "redraw": true
              },
              "fromcurrent": true,
              "mode": "immediate",
              "transition": {
               "duration": 0,
               "easing": "linear"
              }
             }
            ],
            "label": "160",
            "method": "animate"
           },
           {
            "args": [
             [
              "170"
             ],
             {
              "frame": {
               "duration": 0,
               "redraw": true
              },
              "fromcurrent": true,
              "mode": "immediate",
              "transition": {
               "duration": 0,
               "easing": "linear"
              }
             }
            ],
            "label": "170",
            "method": "animate"
           },
           {
            "args": [
             [
              "180"
             ],
             {
              "frame": {
               "duration": 0,
               "redraw": true
              },
              "fromcurrent": true,
              "mode": "immediate",
              "transition": {
               "duration": 0,
               "easing": "linear"
              }
             }
            ],
            "label": "180",
            "method": "animate"
           },
           {
            "args": [
             [
              "190"
             ],
             {
              "frame": {
               "duration": 0,
               "redraw": true
              },
              "fromcurrent": true,
              "mode": "immediate",
              "transition": {
               "duration": 0,
               "easing": "linear"
              }
             }
            ],
            "label": "190",
            "method": "animate"
           },
           {
            "args": [
             [
              "200"
             ],
             {
              "frame": {
               "duration": 0,
               "redraw": true
              },
              "fromcurrent": true,
              "mode": "immediate",
              "transition": {
               "duration": 0,
               "easing": "linear"
              }
             }
            ],
            "label": "200",
            "method": "animate"
           },
           {
            "args": [
             [
              "210"
             ],
             {
              "frame": {
               "duration": 0,
               "redraw": true
              },
              "fromcurrent": true,
              "mode": "immediate",
              "transition": {
               "duration": 0,
               "easing": "linear"
              }
             }
            ],
            "label": "210",
            "method": "animate"
           },
           {
            "args": [
             [
              "220"
             ],
             {
              "frame": {
               "duration": 0,
               "redraw": true
              },
              "fromcurrent": true,
              "mode": "immediate",
              "transition": {
               "duration": 0,
               "easing": "linear"
              }
             }
            ],
            "label": "220",
            "method": "animate"
           },
           {
            "args": [
             [
              "230"
             ],
             {
              "frame": {
               "duration": 0,
               "redraw": true
              },
              "fromcurrent": true,
              "mode": "immediate",
              "transition": {
               "duration": 0,
               "easing": "linear"
              }
             }
            ],
            "label": "230",
            "method": "animate"
           },
           {
            "args": [
             [
              "240"
             ],
             {
              "frame": {
               "duration": 0,
               "redraw": true
              },
              "fromcurrent": true,
              "mode": "immediate",
              "transition": {
               "duration": 0,
               "easing": "linear"
              }
             }
            ],
            "label": "240",
            "method": "animate"
           },
           {
            "args": [
             [
              "250"
             ],
             {
              "frame": {
               "duration": 0,
               "redraw": true
              },
              "fromcurrent": true,
              "mode": "immediate",
              "transition": {
               "duration": 0,
               "easing": "linear"
              }
             }
            ],
            "label": "250",
            "method": "animate"
           },
           {
            "args": [
             [
              "260"
             ],
             {
              "frame": {
               "duration": 0,
               "redraw": true
              },
              "fromcurrent": true,
              "mode": "immediate",
              "transition": {
               "duration": 0,
               "easing": "linear"
              }
             }
            ],
            "label": "260",
            "method": "animate"
           },
           {
            "args": [
             [
              "270"
             ],
             {
              "frame": {
               "duration": 0,
               "redraw": true
              },
              "fromcurrent": true,
              "mode": "immediate",
              "transition": {
               "duration": 0,
               "easing": "linear"
              }
             }
            ],
            "label": "270",
            "method": "animate"
           },
           {
            "args": [
             [
              "280"
             ],
             {
              "frame": {
               "duration": 0,
               "redraw": true
              },
              "fromcurrent": true,
              "mode": "immediate",
              "transition": {
               "duration": 0,
               "easing": "linear"
              }
             }
            ],
            "label": "280",
            "method": "animate"
           },
           {
            "args": [
             [
              "290"
             ],
             {
              "frame": {
               "duration": 0,
               "redraw": true
              },
              "fromcurrent": true,
              "mode": "immediate",
              "transition": {
               "duration": 0,
               "easing": "linear"
              }
             }
            ],
            "label": "290",
            "method": "animate"
           },
           {
            "args": [
             [
              "300"
             ],
             {
              "frame": {
               "duration": 0,
               "redraw": true
              },
              "fromcurrent": true,
              "mode": "immediate",
              "transition": {
               "duration": 0,
               "easing": "linear"
              }
             }
            ],
            "label": "300",
            "method": "animate"
           },
           {
            "args": [
             [
              "310"
             ],
             {
              "frame": {
               "duration": 0,
               "redraw": true
              },
              "fromcurrent": true,
              "mode": "immediate",
              "transition": {
               "duration": 0,
               "easing": "linear"
              }
             }
            ],
            "label": "310",
            "method": "animate"
           },
           {
            "args": [
             [
              "320"
             ],
             {
              "frame": {
               "duration": 0,
               "redraw": true
              },
              "fromcurrent": true,
              "mode": "immediate",
              "transition": {
               "duration": 0,
               "easing": "linear"
              }
             }
            ],
            "label": "320",
            "method": "animate"
           },
           {
            "args": [
             [
              "330"
             ],
             {
              "frame": {
               "duration": 0,
               "redraw": true
              },
              "fromcurrent": true,
              "mode": "immediate",
              "transition": {
               "duration": 0,
               "easing": "linear"
              }
             }
            ],
            "label": "330",
            "method": "animate"
           },
           {
            "args": [
             [
              "340"
             ],
             {
              "frame": {
               "duration": 0,
               "redraw": true
              },
              "fromcurrent": true,
              "mode": "immediate",
              "transition": {
               "duration": 0,
               "easing": "linear"
              }
             }
            ],
            "label": "340",
            "method": "animate"
           },
           {
            "args": [
             [
              "350"
             ],
             {
              "frame": {
               "duration": 0,
               "redraw": true
              },
              "fromcurrent": true,
              "mode": "immediate",
              "transition": {
               "duration": 0,
               "easing": "linear"
              }
             }
            ],
            "label": "350",
            "method": "animate"
           },
           {
            "args": [
             [
              "360"
             ],
             {
              "frame": {
               "duration": 0,
               "redraw": true
              },
              "fromcurrent": true,
              "mode": "immediate",
              "transition": {
               "duration": 0,
               "easing": "linear"
              }
             }
            ],
            "label": "360",
            "method": "animate"
           },
           {
            "args": [
             [
              "370"
             ],
             {
              "frame": {
               "duration": 0,
               "redraw": true
              },
              "fromcurrent": true,
              "mode": "immediate",
              "transition": {
               "duration": 0,
               "easing": "linear"
              }
             }
            ],
            "label": "370",
            "method": "animate"
           },
           {
            "args": [
             [
              "380"
             ],
             {
              "frame": {
               "duration": 0,
               "redraw": true
              },
              "fromcurrent": true,
              "mode": "immediate",
              "transition": {
               "duration": 0,
               "easing": "linear"
              }
             }
            ],
            "label": "380",
            "method": "animate"
           },
           {
            "args": [
             [
              "390"
             ],
             {
              "frame": {
               "duration": 0,
               "redraw": true
              },
              "fromcurrent": true,
              "mode": "immediate",
              "transition": {
               "duration": 0,
               "easing": "linear"
              }
             }
            ],
            "label": "390",
            "method": "animate"
           },
           {
            "args": [
             [
              "400"
             ],
             {
              "frame": {
               "duration": 0,
               "redraw": true
              },
              "fromcurrent": true,
              "mode": "immediate",
              "transition": {
               "duration": 0,
               "easing": "linear"
              }
             }
            ],
            "label": "400",
            "method": "animate"
           },
           {
            "args": [
             [
              "410"
             ],
             {
              "frame": {
               "duration": 0,
               "redraw": true
              },
              "fromcurrent": true,
              "mode": "immediate",
              "transition": {
               "duration": 0,
               "easing": "linear"
              }
             }
            ],
            "label": "410",
            "method": "animate"
           },
           {
            "args": [
             [
              "420"
             ],
             {
              "frame": {
               "duration": 0,
               "redraw": true
              },
              "fromcurrent": true,
              "mode": "immediate",
              "transition": {
               "duration": 0,
               "easing": "linear"
              }
             }
            ],
            "label": "420",
            "method": "animate"
           },
           {
            "args": [
             [
              "430"
             ],
             {
              "frame": {
               "duration": 0,
               "redraw": true
              },
              "fromcurrent": true,
              "mode": "immediate",
              "transition": {
               "duration": 0,
               "easing": "linear"
              }
             }
            ],
            "label": "430",
            "method": "animate"
           },
           {
            "args": [
             [
              "440"
             ],
             {
              "frame": {
               "duration": 0,
               "redraw": true
              },
              "fromcurrent": true,
              "mode": "immediate",
              "transition": {
               "duration": 0,
               "easing": "linear"
              }
             }
            ],
            "label": "440",
            "method": "animate"
           },
           {
            "args": [
             [
              "450"
             ],
             {
              "frame": {
               "duration": 0,
               "redraw": true
              },
              "fromcurrent": true,
              "mode": "immediate",
              "transition": {
               "duration": 0,
               "easing": "linear"
              }
             }
            ],
            "label": "450",
            "method": "animate"
           },
           {
            "args": [
             [
              "460"
             ],
             {
              "frame": {
               "duration": 0,
               "redraw": true
              },
              "fromcurrent": true,
              "mode": "immediate",
              "transition": {
               "duration": 0,
               "easing": "linear"
              }
             }
            ],
            "label": "460",
            "method": "animate"
           },
           {
            "args": [
             [
              "470"
             ],
             {
              "frame": {
               "duration": 0,
               "redraw": true
              },
              "fromcurrent": true,
              "mode": "immediate",
              "transition": {
               "duration": 0,
               "easing": "linear"
              }
             }
            ],
            "label": "470",
            "method": "animate"
           },
           {
            "args": [
             [
              "480"
             ],
             {
              "frame": {
               "duration": 0,
               "redraw": true
              },
              "fromcurrent": true,
              "mode": "immediate",
              "transition": {
               "duration": 0,
               "easing": "linear"
              }
             }
            ],
            "label": "480",
            "method": "animate"
           },
           {
            "args": [
             [
              "490"
             ],
             {
              "frame": {
               "duration": 0,
               "redraw": true
              },
              "fromcurrent": true,
              "mode": "immediate",
              "transition": {
               "duration": 0,
               "easing": "linear"
              }
             }
            ],
            "label": "490",
            "method": "animate"
           },
           {
            "args": [
             [
              "500"
             ],
             {
              "frame": {
               "duration": 0,
               "redraw": true
              },
              "fromcurrent": true,
              "mode": "immediate",
              "transition": {
               "duration": 0,
               "easing": "linear"
              }
             }
            ],
            "label": "500",
            "method": "animate"
           },
           {
            "args": [
             [
              "510"
             ],
             {
              "frame": {
               "duration": 0,
               "redraw": true
              },
              "fromcurrent": true,
              "mode": "immediate",
              "transition": {
               "duration": 0,
               "easing": "linear"
              }
             }
            ],
            "label": "510",
            "method": "animate"
           },
           {
            "args": [
             [
              "520"
             ],
             {
              "frame": {
               "duration": 0,
               "redraw": true
              },
              "fromcurrent": true,
              "mode": "immediate",
              "transition": {
               "duration": 0,
               "easing": "linear"
              }
             }
            ],
            "label": "520",
            "method": "animate"
           },
           {
            "args": [
             [
              "530"
             ],
             {
              "frame": {
               "duration": 0,
               "redraw": true
              },
              "fromcurrent": true,
              "mode": "immediate",
              "transition": {
               "duration": 0,
               "easing": "linear"
              }
             }
            ],
            "label": "530",
            "method": "animate"
           },
           {
            "args": [
             [
              "540"
             ],
             {
              "frame": {
               "duration": 0,
               "redraw": true
              },
              "fromcurrent": true,
              "mode": "immediate",
              "transition": {
               "duration": 0,
               "easing": "linear"
              }
             }
            ],
            "label": "540",
            "method": "animate"
           },
           {
            "args": [
             [
              "550"
             ],
             {
              "frame": {
               "duration": 0,
               "redraw": true
              },
              "fromcurrent": true,
              "mode": "immediate",
              "transition": {
               "duration": 0,
               "easing": "linear"
              }
             }
            ],
            "label": "550",
            "method": "animate"
           },
           {
            "args": [
             [
              "560"
             ],
             {
              "frame": {
               "duration": 0,
               "redraw": true
              },
              "fromcurrent": true,
              "mode": "immediate",
              "transition": {
               "duration": 0,
               "easing": "linear"
              }
             }
            ],
            "label": "560",
            "method": "animate"
           },
           {
            "args": [
             [
              "570"
             ],
             {
              "frame": {
               "duration": 0,
               "redraw": true
              },
              "fromcurrent": true,
              "mode": "immediate",
              "transition": {
               "duration": 0,
               "easing": "linear"
              }
             }
            ],
            "label": "570",
            "method": "animate"
           },
           {
            "args": [
             [
              "580"
             ],
             {
              "frame": {
               "duration": 0,
               "redraw": true
              },
              "fromcurrent": true,
              "mode": "immediate",
              "transition": {
               "duration": 0,
               "easing": "linear"
              }
             }
            ],
            "label": "580",
            "method": "animate"
           },
           {
            "args": [
             [
              "590"
             ],
             {
              "frame": {
               "duration": 0,
               "redraw": true
              },
              "fromcurrent": true,
              "mode": "immediate",
              "transition": {
               "duration": 0,
               "easing": "linear"
              }
             }
            ],
            "label": "590",
            "method": "animate"
           },
           {
            "args": [
             [
              "600"
             ],
             {
              "frame": {
               "duration": 0,
               "redraw": true
              },
              "fromcurrent": true,
              "mode": "immediate",
              "transition": {
               "duration": 0,
               "easing": "linear"
              }
             }
            ],
            "label": "600",
            "method": "animate"
           },
           {
            "args": [
             [
              "610"
             ],
             {
              "frame": {
               "duration": 0,
               "redraw": true
              },
              "fromcurrent": true,
              "mode": "immediate",
              "transition": {
               "duration": 0,
               "easing": "linear"
              }
             }
            ],
            "label": "610",
            "method": "animate"
           },
           {
            "args": [
             [
              "620"
             ],
             {
              "frame": {
               "duration": 0,
               "redraw": true
              },
              "fromcurrent": true,
              "mode": "immediate",
              "transition": {
               "duration": 0,
               "easing": "linear"
              }
             }
            ],
            "label": "620",
            "method": "animate"
           },
           {
            "args": [
             [
              "630"
             ],
             {
              "frame": {
               "duration": 0,
               "redraw": true
              },
              "fromcurrent": true,
              "mode": "immediate",
              "transition": {
               "duration": 0,
               "easing": "linear"
              }
             }
            ],
            "label": "630",
            "method": "animate"
           },
           {
            "args": [
             [
              "640"
             ],
             {
              "frame": {
               "duration": 0,
               "redraw": true
              },
              "fromcurrent": true,
              "mode": "immediate",
              "transition": {
               "duration": 0,
               "easing": "linear"
              }
             }
            ],
            "label": "640",
            "method": "animate"
           },
           {
            "args": [
             [
              "650"
             ],
             {
              "frame": {
               "duration": 0,
               "redraw": true
              },
              "fromcurrent": true,
              "mode": "immediate",
              "transition": {
               "duration": 0,
               "easing": "linear"
              }
             }
            ],
            "label": "650",
            "method": "animate"
           },
           {
            "args": [
             [
              "660"
             ],
             {
              "frame": {
               "duration": 0,
               "redraw": true
              },
              "fromcurrent": true,
              "mode": "immediate",
              "transition": {
               "duration": 0,
               "easing": "linear"
              }
             }
            ],
            "label": "660",
            "method": "animate"
           },
           {
            "args": [
             [
              "670"
             ],
             {
              "frame": {
               "duration": 0,
               "redraw": true
              },
              "fromcurrent": true,
              "mode": "immediate",
              "transition": {
               "duration": 0,
               "easing": "linear"
              }
             }
            ],
            "label": "670",
            "method": "animate"
           },
           {
            "args": [
             [
              "680"
             ],
             {
              "frame": {
               "duration": 0,
               "redraw": true
              },
              "fromcurrent": true,
              "mode": "immediate",
              "transition": {
               "duration": 0,
               "easing": "linear"
              }
             }
            ],
            "label": "680",
            "method": "animate"
           },
           {
            "args": [
             [
              "690"
             ],
             {
              "frame": {
               "duration": 0,
               "redraw": true
              },
              "fromcurrent": true,
              "mode": "immediate",
              "transition": {
               "duration": 0,
               "easing": "linear"
              }
             }
            ],
            "label": "690",
            "method": "animate"
           },
           {
            "args": [
             [
              "700"
             ],
             {
              "frame": {
               "duration": 0,
               "redraw": true
              },
              "fromcurrent": true,
              "mode": "immediate",
              "transition": {
               "duration": 0,
               "easing": "linear"
              }
             }
            ],
            "label": "700",
            "method": "animate"
           },
           {
            "args": [
             [
              "710"
             ],
             {
              "frame": {
               "duration": 0,
               "redraw": true
              },
              "fromcurrent": true,
              "mode": "immediate",
              "transition": {
               "duration": 0,
               "easing": "linear"
              }
             }
            ],
            "label": "710",
            "method": "animate"
           },
           {
            "args": [
             [
              "720"
             ],
             {
              "frame": {
               "duration": 0,
               "redraw": true
              },
              "fromcurrent": true,
              "mode": "immediate",
              "transition": {
               "duration": 0,
               "easing": "linear"
              }
             }
            ],
            "label": "720",
            "method": "animate"
           },
           {
            "args": [
             [
              "730"
             ],
             {
              "frame": {
               "duration": 0,
               "redraw": true
              },
              "fromcurrent": true,
              "mode": "immediate",
              "transition": {
               "duration": 0,
               "easing": "linear"
              }
             }
            ],
            "label": "730",
            "method": "animate"
           },
           {
            "args": [
             [
              "740"
             ],
             {
              "frame": {
               "duration": 0,
               "redraw": true
              },
              "fromcurrent": true,
              "mode": "immediate",
              "transition": {
               "duration": 0,
               "easing": "linear"
              }
             }
            ],
            "label": "740",
            "method": "animate"
           },
           {
            "args": [
             [
              "750"
             ],
             {
              "frame": {
               "duration": 0,
               "redraw": true
              },
              "fromcurrent": true,
              "mode": "immediate",
              "transition": {
               "duration": 0,
               "easing": "linear"
              }
             }
            ],
            "label": "750",
            "method": "animate"
           },
           {
            "args": [
             [
              "760"
             ],
             {
              "frame": {
               "duration": 0,
               "redraw": true
              },
              "fromcurrent": true,
              "mode": "immediate",
              "transition": {
               "duration": 0,
               "easing": "linear"
              }
             }
            ],
            "label": "760",
            "method": "animate"
           },
           {
            "args": [
             [
              "770"
             ],
             {
              "frame": {
               "duration": 0,
               "redraw": true
              },
              "fromcurrent": true,
              "mode": "immediate",
              "transition": {
               "duration": 0,
               "easing": "linear"
              }
             }
            ],
            "label": "770",
            "method": "animate"
           },
           {
            "args": [
             [
              "780"
             ],
             {
              "frame": {
               "duration": 0,
               "redraw": true
              },
              "fromcurrent": true,
              "mode": "immediate",
              "transition": {
               "duration": 0,
               "easing": "linear"
              }
             }
            ],
            "label": "780",
            "method": "animate"
           },
           {
            "args": [
             [
              "790"
             ],
             {
              "frame": {
               "duration": 0,
               "redraw": true
              },
              "fromcurrent": true,
              "mode": "immediate",
              "transition": {
               "duration": 0,
               "easing": "linear"
              }
             }
            ],
            "label": "790",
            "method": "animate"
           },
           {
            "args": [
             [
              "800"
             ],
             {
              "frame": {
               "duration": 0,
               "redraw": true
              },
              "fromcurrent": true,
              "mode": "immediate",
              "transition": {
               "duration": 0,
               "easing": "linear"
              }
             }
            ],
            "label": "800",
            "method": "animate"
           },
           {
            "args": [
             [
              "810"
             ],
             {
              "frame": {
               "duration": 0,
               "redraw": true
              },
              "fromcurrent": true,
              "mode": "immediate",
              "transition": {
               "duration": 0,
               "easing": "linear"
              }
             }
            ],
            "label": "810",
            "method": "animate"
           },
           {
            "args": [
             [
              "820"
             ],
             {
              "frame": {
               "duration": 0,
               "redraw": true
              },
              "fromcurrent": true,
              "mode": "immediate",
              "transition": {
               "duration": 0,
               "easing": "linear"
              }
             }
            ],
            "label": "820",
            "method": "animate"
           },
           {
            "args": [
             [
              "830"
             ],
             {
              "frame": {
               "duration": 0,
               "redraw": true
              },
              "fromcurrent": true,
              "mode": "immediate",
              "transition": {
               "duration": 0,
               "easing": "linear"
              }
             }
            ],
            "label": "830",
            "method": "animate"
           },
           {
            "args": [
             [
              "840"
             ],
             {
              "frame": {
               "duration": 0,
               "redraw": true
              },
              "fromcurrent": true,
              "mode": "immediate",
              "transition": {
               "duration": 0,
               "easing": "linear"
              }
             }
            ],
            "label": "840",
            "method": "animate"
           },
           {
            "args": [
             [
              "850"
             ],
             {
              "frame": {
               "duration": 0,
               "redraw": true
              },
              "fromcurrent": true,
              "mode": "immediate",
              "transition": {
               "duration": 0,
               "easing": "linear"
              }
             }
            ],
            "label": "850",
            "method": "animate"
           },
           {
            "args": [
             [
              "860"
             ],
             {
              "frame": {
               "duration": 0,
               "redraw": true
              },
              "fromcurrent": true,
              "mode": "immediate",
              "transition": {
               "duration": 0,
               "easing": "linear"
              }
             }
            ],
            "label": "860",
            "method": "animate"
           },
           {
            "args": [
             [
              "870"
             ],
             {
              "frame": {
               "duration": 0,
               "redraw": true
              },
              "fromcurrent": true,
              "mode": "immediate",
              "transition": {
               "duration": 0,
               "easing": "linear"
              }
             }
            ],
            "label": "870",
            "method": "animate"
           },
           {
            "args": [
             [
              "880"
             ],
             {
              "frame": {
               "duration": 0,
               "redraw": true
              },
              "fromcurrent": true,
              "mode": "immediate",
              "transition": {
               "duration": 0,
               "easing": "linear"
              }
             }
            ],
            "label": "880",
            "method": "animate"
           },
           {
            "args": [
             [
              "890"
             ],
             {
              "frame": {
               "duration": 0,
               "redraw": true
              },
              "fromcurrent": true,
              "mode": "immediate",
              "transition": {
               "duration": 0,
               "easing": "linear"
              }
             }
            ],
            "label": "890",
            "method": "animate"
           },
           {
            "args": [
             [
              "900"
             ],
             {
              "frame": {
               "duration": 0,
               "redraw": true
              },
              "fromcurrent": true,
              "mode": "immediate",
              "transition": {
               "duration": 0,
               "easing": "linear"
              }
             }
            ],
            "label": "900",
            "method": "animate"
           },
           {
            "args": [
             [
              "910"
             ],
             {
              "frame": {
               "duration": 0,
               "redraw": true
              },
              "fromcurrent": true,
              "mode": "immediate",
              "transition": {
               "duration": 0,
               "easing": "linear"
              }
             }
            ],
            "label": "910",
            "method": "animate"
           },
           {
            "args": [
             [
              "920"
             ],
             {
              "frame": {
               "duration": 0,
               "redraw": true
              },
              "fromcurrent": true,
              "mode": "immediate",
              "transition": {
               "duration": 0,
               "easing": "linear"
              }
             }
            ],
            "label": "920",
            "method": "animate"
           },
           {
            "args": [
             [
              "930"
             ],
             {
              "frame": {
               "duration": 0,
               "redraw": true
              },
              "fromcurrent": true,
              "mode": "immediate",
              "transition": {
               "duration": 0,
               "easing": "linear"
              }
             }
            ],
            "label": "930",
            "method": "animate"
           },
           {
            "args": [
             [
              "940"
             ],
             {
              "frame": {
               "duration": 0,
               "redraw": true
              },
              "fromcurrent": true,
              "mode": "immediate",
              "transition": {
               "duration": 0,
               "easing": "linear"
              }
             }
            ],
            "label": "940",
            "method": "animate"
           },
           {
            "args": [
             [
              "950"
             ],
             {
              "frame": {
               "duration": 0,
               "redraw": true
              },
              "fromcurrent": true,
              "mode": "immediate",
              "transition": {
               "duration": 0,
               "easing": "linear"
              }
             }
            ],
            "label": "950",
            "method": "animate"
           },
           {
            "args": [
             [
              "960"
             ],
             {
              "frame": {
               "duration": 0,
               "redraw": true
              },
              "fromcurrent": true,
              "mode": "immediate",
              "transition": {
               "duration": 0,
               "easing": "linear"
              }
             }
            ],
            "label": "960",
            "method": "animate"
           },
           {
            "args": [
             [
              "970"
             ],
             {
              "frame": {
               "duration": 0,
               "redraw": true
              },
              "fromcurrent": true,
              "mode": "immediate",
              "transition": {
               "duration": 0,
               "easing": "linear"
              }
             }
            ],
            "label": "970",
            "method": "animate"
           },
           {
            "args": [
             [
              "980"
             ],
             {
              "frame": {
               "duration": 0,
               "redraw": true
              },
              "fromcurrent": true,
              "mode": "immediate",
              "transition": {
               "duration": 0,
               "easing": "linear"
              }
             }
            ],
            "label": "980",
            "method": "animate"
           },
           {
            "args": [
             [
              "990"
             ],
             {
              "frame": {
               "duration": 0,
               "redraw": true
              },
              "fromcurrent": true,
              "mode": "immediate",
              "transition": {
               "duration": 0,
               "easing": "linear"
              }
             }
            ],
            "label": "990",
            "method": "animate"
           }
          ],
          "x": 0.1,
          "xanchor": "left",
          "y": 0,
          "yanchor": "top"
         }
        ],
        "template": {
         "data": {
          "bar": [
           {
            "error_x": {
             "color": "#2a3f5f"
            },
            "error_y": {
             "color": "#2a3f5f"
            },
            "marker": {
             "line": {
              "color": "#E5ECF6",
              "width": 0.5
             },
             "pattern": {
              "fillmode": "overlay",
              "size": 10,
              "solidity": 0.2
             }
            },
            "type": "bar"
           }
          ],
          "barpolar": [
           {
            "marker": {
             "line": {
              "color": "#E5ECF6",
              "width": 0.5
             },
             "pattern": {
              "fillmode": "overlay",
              "size": 10,
              "solidity": 0.2
             }
            },
            "type": "barpolar"
           }
          ],
          "carpet": [
           {
            "aaxis": {
             "endlinecolor": "#2a3f5f",
             "gridcolor": "white",
             "linecolor": "white",
             "minorgridcolor": "white",
             "startlinecolor": "#2a3f5f"
            },
            "baxis": {
             "endlinecolor": "#2a3f5f",
             "gridcolor": "white",
             "linecolor": "white",
             "minorgridcolor": "white",
             "startlinecolor": "#2a3f5f"
            },
            "type": "carpet"
           }
          ],
          "choropleth": [
           {
            "colorbar": {
             "outlinewidth": 0,
             "ticks": ""
            },
            "type": "choropleth"
           }
          ],
          "contour": [
           {
            "colorbar": {
             "outlinewidth": 0,
             "ticks": ""
            },
            "colorscale": [
             [
              0,
              "#0d0887"
             ],
             [
              0.1111111111111111,
              "#46039f"
             ],
             [
              0.2222222222222222,
              "#7201a8"
             ],
             [
              0.3333333333333333,
              "#9c179e"
             ],
             [
              0.4444444444444444,
              "#bd3786"
             ],
             [
              0.5555555555555556,
              "#d8576b"
             ],
             [
              0.6666666666666666,
              "#ed7953"
             ],
             [
              0.7777777777777778,
              "#fb9f3a"
             ],
             [
              0.8888888888888888,
              "#fdca26"
             ],
             [
              1,
              "#f0f921"
             ]
            ],
            "type": "contour"
           }
          ],
          "contourcarpet": [
           {
            "colorbar": {
             "outlinewidth": 0,
             "ticks": ""
            },
            "type": "contourcarpet"
           }
          ],
          "heatmap": [
           {
            "colorbar": {
             "outlinewidth": 0,
             "ticks": ""
            },
            "colorscale": [
             [
              0,
              "#0d0887"
             ],
             [
              0.1111111111111111,
              "#46039f"
             ],
             [
              0.2222222222222222,
              "#7201a8"
             ],
             [
              0.3333333333333333,
              "#9c179e"
             ],
             [
              0.4444444444444444,
              "#bd3786"
             ],
             [
              0.5555555555555556,
              "#d8576b"
             ],
             [
              0.6666666666666666,
              "#ed7953"
             ],
             [
              0.7777777777777778,
              "#fb9f3a"
             ],
             [
              0.8888888888888888,
              "#fdca26"
             ],
             [
              1,
              "#f0f921"
             ]
            ],
            "type": "heatmap"
           }
          ],
          "heatmapgl": [
           {
            "colorbar": {
             "outlinewidth": 0,
             "ticks": ""
            },
            "colorscale": [
             [
              0,
              "#0d0887"
             ],
             [
              0.1111111111111111,
              "#46039f"
             ],
             [
              0.2222222222222222,
              "#7201a8"
             ],
             [
              0.3333333333333333,
              "#9c179e"
             ],
             [
              0.4444444444444444,
              "#bd3786"
             ],
             [
              0.5555555555555556,
              "#d8576b"
             ],
             [
              0.6666666666666666,
              "#ed7953"
             ],
             [
              0.7777777777777778,
              "#fb9f3a"
             ],
             [
              0.8888888888888888,
              "#fdca26"
             ],
             [
              1,
              "#f0f921"
             ]
            ],
            "type": "heatmapgl"
           }
          ],
          "histogram": [
           {
            "marker": {
             "pattern": {
              "fillmode": "overlay",
              "size": 10,
              "solidity": 0.2
             }
            },
            "type": "histogram"
           }
          ],
          "histogram2d": [
           {
            "colorbar": {
             "outlinewidth": 0,
             "ticks": ""
            },
            "colorscale": [
             [
              0,
              "#0d0887"
             ],
             [
              0.1111111111111111,
              "#46039f"
             ],
             [
              0.2222222222222222,
              "#7201a8"
             ],
             [
              0.3333333333333333,
              "#9c179e"
             ],
             [
              0.4444444444444444,
              "#bd3786"
             ],
             [
              0.5555555555555556,
              "#d8576b"
             ],
             [
              0.6666666666666666,
              "#ed7953"
             ],
             [
              0.7777777777777778,
              "#fb9f3a"
             ],
             [
              0.8888888888888888,
              "#fdca26"
             ],
             [
              1,
              "#f0f921"
             ]
            ],
            "type": "histogram2d"
           }
          ],
          "histogram2dcontour": [
           {
            "colorbar": {
             "outlinewidth": 0,
             "ticks": ""
            },
            "colorscale": [
             [
              0,
              "#0d0887"
             ],
             [
              0.1111111111111111,
              "#46039f"
             ],
             [
              0.2222222222222222,
              "#7201a8"
             ],
             [
              0.3333333333333333,
              "#9c179e"
             ],
             [
              0.4444444444444444,
              "#bd3786"
             ],
             [
              0.5555555555555556,
              "#d8576b"
             ],
             [
              0.6666666666666666,
              "#ed7953"
             ],
             [
              0.7777777777777778,
              "#fb9f3a"
             ],
             [
              0.8888888888888888,
              "#fdca26"
             ],
             [
              1,
              "#f0f921"
             ]
            ],
            "type": "histogram2dcontour"
           }
          ],
          "mesh3d": [
           {
            "colorbar": {
             "outlinewidth": 0,
             "ticks": ""
            },
            "type": "mesh3d"
           }
          ],
          "parcoords": [
           {
            "line": {
             "colorbar": {
              "outlinewidth": 0,
              "ticks": ""
             }
            },
            "type": "parcoords"
           }
          ],
          "pie": [
           {
            "automargin": true,
            "type": "pie"
           }
          ],
          "scatter": [
           {
            "fillpattern": {
             "fillmode": "overlay",
             "size": 10,
             "solidity": 0.2
            },
            "type": "scatter"
           }
          ],
          "scatter3d": [
           {
            "line": {
             "colorbar": {
              "outlinewidth": 0,
              "ticks": ""
             }
            },
            "marker": {
             "colorbar": {
              "outlinewidth": 0,
              "ticks": ""
             }
            },
            "type": "scatter3d"
           }
          ],
          "scattercarpet": [
           {
            "marker": {
             "colorbar": {
              "outlinewidth": 0,
              "ticks": ""
             }
            },
            "type": "scattercarpet"
           }
          ],
          "scattergeo": [
           {
            "marker": {
             "colorbar": {
              "outlinewidth": 0,
              "ticks": ""
             }
            },
            "type": "scattergeo"
           }
          ],
          "scattergl": [
           {
            "marker": {
             "colorbar": {
              "outlinewidth": 0,
              "ticks": ""
             }
            },
            "type": "scattergl"
           }
          ],
          "scattermapbox": [
           {
            "marker": {
             "colorbar": {
              "outlinewidth": 0,
              "ticks": ""
             }
            },
            "type": "scattermapbox"
           }
          ],
          "scatterpolar": [
           {
            "marker": {
             "colorbar": {
              "outlinewidth": 0,
              "ticks": ""
             }
            },
            "type": "scatterpolar"
           }
          ],
          "scatterpolargl": [
           {
            "marker": {
             "colorbar": {
              "outlinewidth": 0,
              "ticks": ""
             }
            },
            "type": "scatterpolargl"
           }
          ],
          "scatterternary": [
           {
            "marker": {
             "colorbar": {
              "outlinewidth": 0,
              "ticks": ""
             }
            },
            "type": "scatterternary"
           }
          ],
          "surface": [
           {
            "colorbar": {
             "outlinewidth": 0,
             "ticks": ""
            },
            "colorscale": [
             [
              0,
              "#0d0887"
             ],
             [
              0.1111111111111111,
              "#46039f"
             ],
             [
              0.2222222222222222,
              "#7201a8"
             ],
             [
              0.3333333333333333,
              "#9c179e"
             ],
             [
              0.4444444444444444,
              "#bd3786"
             ],
             [
              0.5555555555555556,
              "#d8576b"
             ],
             [
              0.6666666666666666,
              "#ed7953"
             ],
             [
              0.7777777777777778,
              "#fb9f3a"
             ],
             [
              0.8888888888888888,
              "#fdca26"
             ],
             [
              1,
              "#f0f921"
             ]
            ],
            "type": "surface"
           }
          ],
          "table": [
           {
            "cells": {
             "fill": {
              "color": "#EBF0F8"
             },
             "line": {
              "color": "white"
             }
            },
            "header": {
             "fill": {
              "color": "#C8D4E3"
             },
             "line": {
              "color": "white"
             }
            },
            "type": "table"
           }
          ]
         },
         "layout": {
          "annotationdefaults": {
           "arrowcolor": "#2a3f5f",
           "arrowhead": 0,
           "arrowwidth": 1
          },
          "autotypenumbers": "strict",
          "coloraxis": {
           "colorbar": {
            "outlinewidth": 0,
            "ticks": ""
           }
          },
          "colorscale": {
           "diverging": [
            [
             0,
             "#8e0152"
            ],
            [
             0.1,
             "#c51b7d"
            ],
            [
             0.2,
             "#de77ae"
            ],
            [
             0.3,
             "#f1b6da"
            ],
            [
             0.4,
             "#fde0ef"
            ],
            [
             0.5,
             "#f7f7f7"
            ],
            [
             0.6,
             "#e6f5d0"
            ],
            [
             0.7,
             "#b8e186"
            ],
            [
             0.8,
             "#7fbc41"
            ],
            [
             0.9,
             "#4d9221"
            ],
            [
             1,
             "#276419"
            ]
           ],
           "sequential": [
            [
             0,
             "#0d0887"
            ],
            [
             0.1111111111111111,
             "#46039f"
            ],
            [
             0.2222222222222222,
             "#7201a8"
            ],
            [
             0.3333333333333333,
             "#9c179e"
            ],
            [
             0.4444444444444444,
             "#bd3786"
            ],
            [
             0.5555555555555556,
             "#d8576b"
            ],
            [
             0.6666666666666666,
             "#ed7953"
            ],
            [
             0.7777777777777778,
             "#fb9f3a"
            ],
            [
             0.8888888888888888,
             "#fdca26"
            ],
            [
             1,
             "#f0f921"
            ]
           ],
           "sequentialminus": [
            [
             0,
             "#0d0887"
            ],
            [
             0.1111111111111111,
             "#46039f"
            ],
            [
             0.2222222222222222,
             "#7201a8"
            ],
            [
             0.3333333333333333,
             "#9c179e"
            ],
            [
             0.4444444444444444,
             "#bd3786"
            ],
            [
             0.5555555555555556,
             "#d8576b"
            ],
            [
             0.6666666666666666,
             "#ed7953"
            ],
            [
             0.7777777777777778,
             "#fb9f3a"
            ],
            [
             0.8888888888888888,
             "#fdca26"
            ],
            [
             1,
             "#f0f921"
            ]
           ]
          },
          "colorway": [
           "#636efa",
           "#EF553B",
           "#00cc96",
           "#ab63fa",
           "#FFA15A",
           "#19d3f3",
           "#FF6692",
           "#B6E880",
           "#FF97FF",
           "#FECB52"
          ],
          "font": {
           "color": "#2a3f5f"
          },
          "geo": {
           "bgcolor": "white",
           "lakecolor": "white",
           "landcolor": "#E5ECF6",
           "showlakes": true,
           "showland": true,
           "subunitcolor": "white"
          },
          "hoverlabel": {
           "align": "left"
          },
          "hovermode": "closest",
          "mapbox": {
           "style": "light"
          },
          "paper_bgcolor": "white",
          "plot_bgcolor": "#E5ECF6",
          "polar": {
           "angularaxis": {
            "gridcolor": "white",
            "linecolor": "white",
            "ticks": ""
           },
           "bgcolor": "#E5ECF6",
           "radialaxis": {
            "gridcolor": "white",
            "linecolor": "white",
            "ticks": ""
           }
          },
          "scene": {
           "xaxis": {
            "backgroundcolor": "#E5ECF6",
            "gridcolor": "white",
            "gridwidth": 2,
            "linecolor": "white",
            "showbackground": true,
            "ticks": "",
            "zerolinecolor": "white"
           },
           "yaxis": {
            "backgroundcolor": "#E5ECF6",
            "gridcolor": "white",
            "gridwidth": 2,
            "linecolor": "white",
            "showbackground": true,
            "ticks": "",
            "zerolinecolor": "white"
           },
           "zaxis": {
            "backgroundcolor": "#E5ECF6",
            "gridcolor": "white",
            "gridwidth": 2,
            "linecolor": "white",
            "showbackground": true,
            "ticks": "",
            "zerolinecolor": "white"
           }
          },
          "shapedefaults": {
           "line": {
            "color": "#2a3f5f"
           }
          },
          "ternary": {
           "aaxis": {
            "gridcolor": "white",
            "linecolor": "white",
            "ticks": ""
           },
           "baxis": {
            "gridcolor": "white",
            "linecolor": "white",
            "ticks": ""
           },
           "bgcolor": "#E5ECF6",
           "caxis": {
            "gridcolor": "white",
            "linecolor": "white",
            "ticks": ""
           }
          },
          "title": {
           "x": 0.05
          },
          "xaxis": {
           "automargin": true,
           "gridcolor": "white",
           "linecolor": "white",
           "ticks": "",
           "title": {
            "standoff": 15
           },
           "zerolinecolor": "white",
           "zerolinewidth": 2
          },
          "yaxis": {
           "automargin": true,
           "gridcolor": "white",
           "linecolor": "white",
           "ticks": "",
           "title": {
            "standoff": 15
           },
           "zerolinecolor": "white",
           "zerolinewidth": 2
          }
         }
        },
        "title": {
         "text": "Evolución de las máquinas elegidas en función de t (AVG de todas las repeticiones)"
        },
        "updatemenus": [
         {
          "buttons": [
           {
            "args": [
             null,
             {
              "frame": {
               "duration": 0.01,
               "redraw": true
              },
              "fromcurrent": true,
              "mode": "immediate",
              "transition": {
               "duration": 500,
               "easing": "linear"
              }
             }
            ],
            "label": "&#9654;",
            "method": "animate"
           },
           {
            "args": [
             [
              null
             ],
             {
              "frame": {
               "duration": 0,
               "redraw": true
              },
              "fromcurrent": true,
              "mode": "immediate",
              "transition": {
               "duration": 0,
               "easing": "linear"
              }
             }
            ],
            "label": "&#9724;",
            "method": "animate"
           }
          ],
          "direction": "left",
          "pad": {
           "r": 10,
           "t": 70
          },
          "showactive": false,
          "type": "buttons",
          "x": 0.1,
          "xanchor": "right",
          "y": 0,
          "yanchor": "top"
         }
        ],
        "xaxis": {
         "anchor": "y",
         "domain": [
          0,
          1
         ],
         "title": {
          "text": "máquinas"
         }
        },
        "yaxis": {
         "anchor": "x",
         "domain": [
          0,
          1
         ],
         "range": [
          0,
          1000
         ],
         "title": {
          "text": "promedio de seleccion acumulada"
         }
        }
       }
      }
     },
     "metadata": {},
     "output_type": "display_data"
    }
   ],
   "source": [
    "fig = sl.plot()\n",
    "fig.show();"
   ]
  },
  {
   "cell_type": "markdown",
   "metadata": {},
   "source": [
    "---"
   ]
  },
  {
   "cell_type": "markdown",
   "metadata": {},
   "source": [
    "# Caso 2\n",
    "3 máquinas con diferencias pequeñas en sus probabilidades"
   ]
  },
  {
   "cell_type": "code",
   "execution_count": null,
   "metadata": {},
   "outputs": [],
   "source": [
    "sl = SimulationLab(\n",
    "    actual_probs=[.5, .52, .54],\n",
    "    repetitions=15,\n",
    "    iterations=1500,\n",
    "    epsilon=.15\n",
    ")\n",
    "sl.simulate()"
   ]
  },
  {
   "cell_type": "code",
   "execution_count": null,
   "metadata": {},
   "outputs": [],
   "source": [
    "sl.plot()"
   ]
  },
  {
   "cell_type": "markdown",
   "metadata": {},
   "source": [
    "---"
   ]
  },
  {
   "cell_type": "markdown",
   "metadata": {},
   "source": [
    "# Caso 3\n",
    "5 máquinas, un grupo de 3 máquinas con probabilidades bajas similares y un grupo de 2 máquinas con probabilidades más altas pero similares entre si"
   ]
  },
  {
   "cell_type": "code",
   "execution_count": null,
   "metadata": {},
   "outputs": [],
   "source": [
    "sl = SimulationLab(\n",
    "    actual_probs=[.26, .25, .29, .37, .38],\n",
    "    repetitions=15,\n",
    "    iterations=1500,\n",
    "    epsilon=.15\n",
    ")\n",
    "sl.simulate()"
   ]
  },
  {
   "cell_type": "code",
   "execution_count": null,
   "metadata": {},
   "outputs": [],
   "source": [
    "sl.plot()"
   ]
  },
  {
   "cell_type": "markdown",
   "metadata": {},
   "source": [
    "---"
   ]
  },
  {
   "cell_type": "markdown",
   "metadata": {},
   "source": [
    "# Caso 4\n",
    "10 máquinas, todas con probabilidades similares"
   ]
  },
  {
   "cell_type": "code",
   "execution_count": null,
   "metadata": {},
   "outputs": [],
   "source": [
    "sl = SimulationLab(\n",
    "    actual_probs=[.22, .23, .22, .18, .25, .23, .27, .26, .30, .19],\n",
    "    repetitions=15,\n",
    "    iterations=1500,\n",
    "    epsilon=.15\n",
    ")\n",
    "sl.simulate()"
   ]
  },
  {
   "cell_type": "code",
   "execution_count": null,
   "metadata": {},
   "outputs": [],
   "source": [
    "sl.plot()"
   ]
  }
 ],
 "metadata": {
  "kernelspec": {
   "display_name": "mab_env",
   "language": "python",
   "name": "python3"
  },
  "language_info": {
   "codemirror_mode": {
    "name": "ipython",
    "version": 3
   },
   "file_extension": ".py",
   "mimetype": "text/x-python",
   "name": "python",
   "nbconvert_exporter": "python",
   "pygments_lexer": "ipython3",
   "version": "3.11.4"
  },
  "orig_nbformat": 4
 },
 "nbformat": 4,
 "nbformat_minor": 2
}
